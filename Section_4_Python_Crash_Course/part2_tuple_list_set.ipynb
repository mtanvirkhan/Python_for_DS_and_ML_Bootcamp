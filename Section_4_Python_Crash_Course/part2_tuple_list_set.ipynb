{
 "cells": [
  {
   "cell_type": "markdown",
   "id": "5c042603",
   "metadata": {},
   "source": [
    "### Tuple and List"
   ]
  },
  {
   "cell_type": "markdown",
   "id": "a9f6c790",
   "metadata": {},
   "source": [
    "#### Tuple is unmutable"
   ]
  },
  {
   "cell_type": "code",
   "execution_count": 21,
   "id": "817f8fa8",
   "metadata": {},
   "outputs": [
    {
     "name": "stdout",
     "output_type": "stream",
     "text": [
      "(1, 2, 3, 4)\n"
     ]
    }
   ],
   "source": [
    "tuple_ex = (1,2,3,4)\n",
    "print(tuple_ex)"
   ]
  },
  {
   "cell_type": "code",
   "execution_count": 22,
   "id": "2be04b5d",
   "metadata": {},
   "outputs": [
    {
     "name": "stdout",
     "output_type": "stream",
     "text": [
      "Error: 'tuple' object does not support item assignment\n"
     ]
    }
   ],
   "source": [
    "try:\n",
    "    tuple_ex[0] = 5\n",
    "except TypeError as e:\n",
    "    print(f\"Error: {e}\")"
   ]
  },
  {
   "cell_type": "markdown",
   "id": "4cac6023",
   "metadata": {},
   "source": [
    "##### List is mutable"
   ]
  },
  {
   "cell_type": "code",
   "execution_count": 23,
   "id": "c94fce19",
   "metadata": {},
   "outputs": [
    {
     "name": "stdout",
     "output_type": "stream",
     "text": [
      "[5, 2, 3, 4]\n"
     ]
    }
   ],
   "source": [
    "list_ex = [1,2,3,4]\n",
    "list_ex[0] = 5\n",
    "print(list_ex)"
   ]
  },
  {
   "cell_type": "markdown",
   "id": "8a01f904",
   "metadata": {},
   "source": [
    "### Set"
   ]
  },
  {
   "cell_type": "markdown",
   "id": "f01a4fd2",
   "metadata": {},
   "source": [
    "#### collection of unique element"
   ]
  },
  {
   "cell_type": "code",
   "execution_count": 24,
   "id": "cb3d05e0",
   "metadata": {},
   "outputs": [
    {
     "data": {
      "text/plain": [
       "{1, 2, 3, 4}"
      ]
     },
     "execution_count": 24,
     "metadata": {},
     "output_type": "execute_result"
    }
   ],
   "source": [
    "{1,2,3,4}"
   ]
  },
  {
   "cell_type": "code",
   "execution_count": 25,
   "id": "f14b004e",
   "metadata": {},
   "outputs": [
    {
     "data": {
      "text/plain": [
       "{1, 2, 3, 4}"
      ]
     },
     "execution_count": 25,
     "metadata": {},
     "output_type": "execute_result"
    }
   ],
   "source": [
    "s = {1, 2, 3}\n",
    "s.add(4)\n",
    "s"
   ]
  },
  {
   "cell_type": "code",
   "execution_count": 26,
   "id": "fd23b112",
   "metadata": {},
   "outputs": [
    {
     "data": {
      "text/plain": [
       "{2, 3, 4}"
      ]
     },
     "execution_count": 26,
     "metadata": {},
     "output_type": "execute_result"
    }
   ],
   "source": [
    "s.remove(1)\n",
    "s"
   ]
  },
  {
   "cell_type": "code",
   "execution_count": 30,
   "id": "375a06ee",
   "metadata": {},
   "outputs": [
    {
     "data": {
      "text/plain": [
       "{1, 2, 3, 4}"
      ]
     },
     "execution_count": 30,
     "metadata": {},
     "output_type": "execute_result"
    }
   ],
   "source": [
    "s1 = {1,1,1,1,2,2,2,3,3,3,4,4,4}\n",
    "s1"
   ]
  },
  {
   "cell_type": "code",
   "execution_count": 28,
   "id": "e8e56544",
   "metadata": {},
   "outputs": [
    {
     "data": {
      "text/plain": [
       "{1, 2, 3, 4}"
      ]
     },
     "execution_count": 28,
     "metadata": {},
     "output_type": "execute_result"
    }
   ],
   "source": [
    "set({1,1,1,1,2,2,2,3,3,3,4,4,4})"
   ]
  },
  {
   "cell_type": "code",
   "execution_count": 29,
   "id": "46216f03",
   "metadata": {},
   "outputs": [
    {
     "data": {
      "text/plain": [
       "{1, 2, 3, 4}"
      ]
     },
     "execution_count": 29,
     "metadata": {},
     "output_type": "execute_result"
    }
   ],
   "source": [
    "set([1,1,1,1,2,2,2,3,3,3,4,4,4])"
   ]
  },
  {
   "cell_type": "code",
   "execution_count": null,
   "id": "acc0cdee",
   "metadata": {},
   "outputs": [],
   "source": []
  }
 ],
 "metadata": {
  "kernelspec": {
   "display_name": "base",
   "language": "python",
   "name": "python3"
  },
  "language_info": {
   "codemirror_mode": {
    "name": "ipython",
    "version": 3
   },
   "file_extension": ".py",
   "mimetype": "text/x-python",
   "name": "python",
   "nbconvert_exporter": "python",
   "pygments_lexer": "ipython3",
   "version": "3.13.5"
  }
 },
 "nbformat": 4,
 "nbformat_minor": 5
}
