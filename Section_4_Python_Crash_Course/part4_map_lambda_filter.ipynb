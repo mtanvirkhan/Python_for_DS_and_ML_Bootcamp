{
 "cells": [
  {
   "cell_type": "markdown",
   "id": "766a9001",
   "metadata": {},
   "source": [
    "| Function | Description                                           | Syntax                                      | Example                                     | Output           |\n",
    "|----------|-------------------------------------------------------|---------------------------------------------|---------------------------------------------|------------------|\n",
    "| `map()`  | Applies a function to each item in an iterable        | `map(function, iterable)`                   | `map(lambda x: x**2, [1, 2, 3, 4])`         | `[1, 4, 9, 16]`   |\n",
    "| `filter()` | Filters items in an iterable based on a condition | `filter(function, iterable)`                | `filter(lambda x: x % 2 == 0, [1, 2, 3, 4])` | `[2, 4]`         |\n",
    "| `lambda` | Anonymous function (short inline function)           | `lambda arguments: expression`              | `lambda x: x + 10`                          | Returns function |\n",
    "\n"
   ]
  },
  {
   "cell_type": "markdown",
   "id": "34b19f25",
   "metadata": {},
   "source": [
    "#### Map function"
   ]
  },
  {
   "cell_type": "code",
   "execution_count": 13,
   "id": "9615313f",
   "metadata": {},
   "outputs": [
    {
     "data": {
      "text/plain": [
       "20"
      ]
     },
     "execution_count": 13,
     "metadata": {},
     "output_type": "execute_result"
    }
   ],
   "source": [
    "def times2(var):\n",
    "    return var * 2\n",
    "times2(10)"
   ]
  },
  {
   "cell_type": "code",
   "execution_count": 14,
   "id": "071dcf05",
   "metadata": {},
   "outputs": [
    {
     "name": "stdout",
     "output_type": "stream",
     "text": [
      "10\n",
      "12\n",
      "14\n",
      "16\n",
      "18\n",
      "20\n"
     ]
    }
   ],
   "source": [
    "list_data = [5,6,7,8,9,10]\n",
    "for data in list_data:\n",
    "    print(times2(data))"
   ]
  },
  {
   "cell_type": "code",
   "execution_count": 15,
   "id": "70edac4f",
   "metadata": {},
   "outputs": [
    {
     "name": "stdout",
     "output_type": "stream",
     "text": [
      "<class 'map'>\n",
      "[10, 12, 14, 16, 18, 20]\n",
      "<class 'list'>\n"
     ]
    }
   ],
   "source": [
    "# using map function\n",
    "mapped_data = map(times2, list_data)\n",
    "print(type(mapped_data))  # <class 'map'>\n",
    "print(list(mapped_data))  # [10, 12, 14, 16, 18, 20]\n",
    "print(type(list(mapped_data)))  # <class 'list'>"
   ]
  },
  {
   "cell_type": "markdown",
   "id": "fc6f9e18",
   "metadata": {},
   "source": [
    "#### lambda expression"
   ]
  },
  {
   "cell_type": "code",
   "execution_count": 16,
   "id": "ff1181f4",
   "metadata": {},
   "outputs": [
    {
     "data": {
      "text/plain": [
       "50"
      ]
     },
     "execution_count": 16,
     "metadata": {},
     "output_type": "execute_result"
    }
   ],
   "source": [
    "# write down a function in different way\n",
    "def function1(num):return num * 5\n",
    "function1(10)"
   ]
  },
  {
   "cell_type": "code",
   "execution_count": 17,
   "id": "87690b8b",
   "metadata": {},
   "outputs": [
    {
     "data": {
      "text/plain": [
       "100"
      ]
     },
     "execution_count": 17,
     "metadata": {},
     "output_type": "execute_result"
    }
   ],
   "source": [
    "t = lambda num: num * 5\n",
    "t(20)"
   ]
  },
  {
   "cell_type": "code",
   "execution_count": 18,
   "id": "f89a4c93",
   "metadata": {},
   "outputs": [
    {
     "name": "stdout",
     "output_type": "stream",
     "text": [
      "[25, 30, 35, 40, 45, 50]\n"
     ]
    }
   ],
   "source": [
    "list_data2 = [5,6,7,8,9,10]\n",
    "print(list(map(lambda num: num * 5, list_data2)))"
   ]
  },
  {
   "cell_type": "markdown",
   "id": "31d9495e",
   "metadata": {},
   "source": [
    "#### filter operation"
   ]
  },
  {
   "cell_type": "code",
   "execution_count": 19,
   "id": "9f7fe86e",
   "metadata": {},
   "outputs": [
    {
     "name": "stdout",
     "output_type": "stream",
     "text": [
      "[5, 7, 9]\n",
      "[6, 8, 10]\n"
     ]
    }
   ],
   "source": [
    "list_data2 = [5,6,7,8,9,10]\n",
    "print(list(filter(lambda num: num % 2 == 1, list_data2)))\n",
    "print(list(filter(lambda num: num % 2 == 0, list_data2)))"
   ]
  },
  {
   "cell_type": "markdown",
   "id": "490f278a",
   "metadata": {},
   "source": [
    "#### dataframe operation using lambda, map, filter"
   ]
  },
  {
   "cell_type": "code",
   "execution_count": 20,
   "id": "456d285c",
   "metadata": {},
   "outputs": [
    {
     "data": {
      "text/html": [
       "<div>\n",
       "<style scoped>\n",
       "    .dataframe tbody tr th:only-of-type {\n",
       "        vertical-align: middle;\n",
       "    }\n",
       "\n",
       "    .dataframe tbody tr th {\n",
       "        vertical-align: top;\n",
       "    }\n",
       "\n",
       "    .dataframe thead th {\n",
       "        text-align: right;\n",
       "    }\n",
       "</style>\n",
       "<table border=\"1\" class=\"dataframe\">\n",
       "  <thead>\n",
       "    <tr style=\"text-align: right;\">\n",
       "      <th></th>\n",
       "      <th>Data1</th>\n",
       "      <th>Data2</th>\n",
       "      <th>Data3</th>\n",
       "    </tr>\n",
       "  </thead>\n",
       "  <tbody>\n",
       "    <tr>\n",
       "      <th>0</th>\n",
       "      <td>2</td>\n",
       "      <td>20</td>\n",
       "      <td>200</td>\n",
       "    </tr>\n",
       "    <tr>\n",
       "      <th>1</th>\n",
       "      <td>4</td>\n",
       "      <td>40</td>\n",
       "      <td>400</td>\n",
       "    </tr>\n",
       "    <tr>\n",
       "      <th>2</th>\n",
       "      <td>6</td>\n",
       "      <td>60</td>\n",
       "      <td>600</td>\n",
       "    </tr>\n",
       "    <tr>\n",
       "      <th>3</th>\n",
       "      <td>8</td>\n",
       "      <td>80</td>\n",
       "      <td>800</td>\n",
       "    </tr>\n",
       "    <tr>\n",
       "      <th>4</th>\n",
       "      <td>10</td>\n",
       "      <td>100</td>\n",
       "      <td>1000</td>\n",
       "    </tr>\n",
       "  </tbody>\n",
       "</table>\n",
       "</div>"
      ],
      "text/plain": [
       "   Data1  Data2  Data3\n",
       "0      2     20    200\n",
       "1      4     40    400\n",
       "2      6     60    600\n",
       "3      8     80    800\n",
       "4     10    100   1000"
      ]
     },
     "execution_count": 20,
     "metadata": {},
     "output_type": "execute_result"
    }
   ],
   "source": [
    "# creating dataframe\n",
    "import pandas as pd\n",
    "dict_data = {\n",
    "    'Data1': [1, 2, 3, 4, 5],\n",
    "    'Data2': [10, 20, 30, 40, 50],\n",
    "    'Data3': [100, 200, 300, 400, 500],\n",
    "}\n",
    "df = pd.DataFrame(dict_data)\n",
    "df * 2 # just multiply with 2 and check the result"
   ]
  },
  {
   "cell_type": "code",
   "execution_count": 21,
   "id": "18443af5",
   "metadata": {},
   "outputs": [
    {
     "data": {
      "text/plain": [
       "0    100\n",
       "1    200\n",
       "2    300\n",
       "3    400\n",
       "4    500\n",
       "Name: Data3, dtype: int64"
      ]
     },
     "execution_count": 21,
     "metadata": {},
     "output_type": "execute_result"
    }
   ],
   "source": [
    "# extrac single column data or series from dataframe\n",
    "data1_series = df['Data3']\n",
    "data1_series"
   ]
  },
  {
   "cell_type": "code",
   "execution_count": 22,
   "id": "03a9a4aa",
   "metadata": {},
   "outputs": [
    {
     "data": {
      "text/plain": [
       "[8500, 17000, 25500, 34000, 42500]"
      ]
     },
     "execution_count": 22,
     "metadata": {},
     "output_type": "execute_result"
    }
   ],
   "source": [
    "# using lamda and map function on a sereis of the dataframe by extracting the column data\n",
    "data4 = list(map(lambda x: x*85, data1_series))\n",
    "data4"
   ]
  },
  {
   "cell_type": "code",
   "execution_count": 23,
   "id": "4e2127c1",
   "metadata": {},
   "outputs": [
    {
     "data": {
      "text/html": [
       "<div>\n",
       "<style scoped>\n",
       "    .dataframe tbody tr th:only-of-type {\n",
       "        vertical-align: middle;\n",
       "    }\n",
       "\n",
       "    .dataframe tbody tr th {\n",
       "        vertical-align: top;\n",
       "    }\n",
       "\n",
       "    .dataframe thead th {\n",
       "        text-align: right;\n",
       "    }\n",
       "</style>\n",
       "<table border=\"1\" class=\"dataframe\">\n",
       "  <thead>\n",
       "    <tr style=\"text-align: right;\">\n",
       "      <th></th>\n",
       "      <th>Data1</th>\n",
       "      <th>Data2</th>\n",
       "      <th>Data3</th>\n",
       "      <th>Data4</th>\n",
       "    </tr>\n",
       "  </thead>\n",
       "  <tbody>\n",
       "    <tr>\n",
       "      <th>0</th>\n",
       "      <td>1</td>\n",
       "      <td>10</td>\n",
       "      <td>100</td>\n",
       "      <td>8500</td>\n",
       "    </tr>\n",
       "    <tr>\n",
       "      <th>1</th>\n",
       "      <td>2</td>\n",
       "      <td>20</td>\n",
       "      <td>200</td>\n",
       "      <td>17000</td>\n",
       "    </tr>\n",
       "    <tr>\n",
       "      <th>2</th>\n",
       "      <td>3</td>\n",
       "      <td>30</td>\n",
       "      <td>300</td>\n",
       "      <td>25500</td>\n",
       "    </tr>\n",
       "    <tr>\n",
       "      <th>3</th>\n",
       "      <td>4</td>\n",
       "      <td>40</td>\n",
       "      <td>400</td>\n",
       "      <td>34000</td>\n",
       "    </tr>\n",
       "    <tr>\n",
       "      <th>4</th>\n",
       "      <td>5</td>\n",
       "      <td>50</td>\n",
       "      <td>500</td>\n",
       "      <td>42500</td>\n",
       "    </tr>\n",
       "  </tbody>\n",
       "</table>\n",
       "</div>"
      ],
      "text/plain": [
       "   Data1  Data2  Data3  Data4\n",
       "0      1     10    100   8500\n",
       "1      2     20    200  17000\n",
       "2      3     30    300  25500\n",
       "3      4     40    400  34000\n",
       "4      5     50    500  42500"
      ]
     },
     "execution_count": 23,
     "metadata": {},
     "output_type": "execute_result"
    }
   ],
   "source": [
    "# insert this new data list in the df\n",
    "df.insert(3, 'Data4', data4)\n",
    "df"
   ]
  },
  {
   "cell_type": "markdown",
   "id": "d89aa614",
   "metadata": {},
   "source": [
    "#### filtering data series and prepare a new df"
   ]
  },
  {
   "cell_type": "code",
   "execution_count": 24,
   "id": "8bcc4e85",
   "metadata": {},
   "outputs": [
    {
     "name": "stdout",
     "output_type": "stream",
     "text": [
      "[2, 4]\n",
      "[10, 20, 30, 40, 50]\n",
      "[100, 200, 300, 400, 500]\n",
      "[8500, 17000, 25500, 34000, 42500]\n"
     ]
    },
    {
     "data": {
      "text/html": [
       "<div>\n",
       "<style scoped>\n",
       "    .dataframe tbody tr th:only-of-type {\n",
       "        vertical-align: middle;\n",
       "    }\n",
       "\n",
       "    .dataframe tbody tr th {\n",
       "        vertical-align: top;\n",
       "    }\n",
       "\n",
       "    .dataframe thead th {\n",
       "        text-align: right;\n",
       "    }\n",
       "</style>\n",
       "<table border=\"1\" class=\"dataframe\">\n",
       "  <thead>\n",
       "    <tr style=\"text-align: right;\">\n",
       "      <th></th>\n",
       "      <th>Data2</th>\n",
       "      <th>Data3</th>\n",
       "      <th>Data4</th>\n",
       "    </tr>\n",
       "  </thead>\n",
       "  <tbody>\n",
       "    <tr>\n",
       "      <th>0</th>\n",
       "      <td>10</td>\n",
       "      <td>100</td>\n",
       "      <td>8500</td>\n",
       "    </tr>\n",
       "    <tr>\n",
       "      <th>1</th>\n",
       "      <td>20</td>\n",
       "      <td>200</td>\n",
       "      <td>17000</td>\n",
       "    </tr>\n",
       "    <tr>\n",
       "      <th>2</th>\n",
       "      <td>30</td>\n",
       "      <td>300</td>\n",
       "      <td>25500</td>\n",
       "    </tr>\n",
       "    <tr>\n",
       "      <th>3</th>\n",
       "      <td>40</td>\n",
       "      <td>400</td>\n",
       "      <td>34000</td>\n",
       "    </tr>\n",
       "    <tr>\n",
       "      <th>4</th>\n",
       "      <td>50</td>\n",
       "      <td>500</td>\n",
       "      <td>42500</td>\n",
       "    </tr>\n",
       "  </tbody>\n",
       "</table>\n",
       "</div>"
      ],
      "text/plain": [
       "   Data2  Data3  Data4\n",
       "0     10    100   8500\n",
       "1     20    200  17000\n",
       "2     30    300  25500\n",
       "3     40    400  34000\n",
       "4     50    500  42500"
      ]
     },
     "execution_count": 24,
     "metadata": {},
     "output_type": "execute_result"
    }
   ],
   "source": [
    "filter_data1 = list(filter(lambda num:num%2 == 0, df['Data1']))\n",
    "print(filter_data1)\n",
    "filter_data2 = list(filter(lambda num:num%2 == 0, df['Data2']))\n",
    "print(filter_data2)\n",
    "filter_data3 = list(filter(lambda num:num%2 == 0, df['Data3']))\n",
    "print(filter_data3)\n",
    "filter_data4 = list(filter(lambda num:num%2 == 0, df['Data4']))\n",
    "print(filter_data4)\n",
    "\n",
    "filtered_df = pd.DataFrame({\n",
    "    #'Data1': filter_data1,\n",
    "    'Data2': filter_data2,\n",
    "    'Data3': filter_data3,\n",
    "    'Data4': filter_data4\n",
    "})\n",
    "filtered_df"
   ]
  },
  {
   "cell_type": "code",
   "execution_count": null,
   "id": "2a18673d",
   "metadata": {},
   "outputs": [],
   "source": []
  }
 ],
 "metadata": {
  "kernelspec": {
   "display_name": "base",
   "language": "python",
   "name": "python3"
  },
  "language_info": {
   "codemirror_mode": {
    "name": "ipython",
    "version": 3
   },
   "file_extension": ".py",
   "mimetype": "text/x-python",
   "name": "python",
   "nbconvert_exporter": "python",
   "pygments_lexer": "ipython3",
   "version": "3.13.5"
  }
 },
 "nbformat": 4,
 "nbformat_minor": 5
}
