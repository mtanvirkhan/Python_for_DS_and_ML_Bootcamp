{
 "cells": [
  {
   "cell_type": "markdown",
   "id": "489b326a",
   "metadata": {},
   "source": [
    "### different methods apply on string"
   ]
  },
  {
   "cell_type": "code",
   "execution_count": 17,
   "id": "971b4f40",
   "metadata": {},
   "outputs": [
    {
     "name": "stdout",
     "output_type": "stream",
     "text": [
      "HELLO, I AM TANVIR KHAN, I WANT TO BE A DATA SCIENTIST\n",
      "hello, i am tanvir khan, i want to be a data scientist\n",
      "['Hello,', 'I', 'am', 'Tanvir', 'Khan,', 'I', 'want', 'to', 'be', 'a', 'data', 'scientist']\n",
      "['Hello', ' I am Tanvir Khan', ' I want to be a data scientist']\n",
      "12\n",
      "54\n"
     ]
    }
   ],
   "source": [
    "s = 'Hello, I am Tanvir Khan, I want to be a data scientist'\n",
    "print(s.upper())\n",
    "print(s.lower())\n",
    "print(s.split())\n",
    "print(s.split(','))\n",
    "print(s.find('Tanvir'))\n",
    "print(len(s))"
   ]
  },
  {
   "cell_type": "code",
   "execution_count": 19,
   "id": "84c64e7b",
   "metadata": {},
   "outputs": [
    {
     "name": "stdout",
     "output_type": "stream",
     "text": [
      "['Go Sports! ', 'Sports']\n",
      "Sports\n"
     ]
    }
   ],
   "source": [
    "tweet = 'Go Sports! #Sports'\n",
    "print(tweet.split('#'))\n",
    "print(tweet.split('#')[1])"
   ]
  },
  {
   "cell_type": "markdown",
   "id": "f9cdaebf",
   "metadata": {},
   "source": [
    "### dictionary"
   ]
  },
  {
   "cell_type": "code",
   "execution_count": 21,
   "id": "bb5bdaa2",
   "metadata": {},
   "outputs": [],
   "source": [
    "dict = {\n",
    "    'name': 'Tanvir Khan',\n",
    "    'age': 30,\n",
    "    'profession': 'Data Scientist',\n",
    "    'country': 'Bangladesh',\n",
    "    'skills': ['Python', 'Machine Learning', 'Data Analysis']   \n",
    "}"
   ]
  },
  {
   "cell_type": "code",
   "execution_count": 25,
   "id": "dbaec6c2",
   "metadata": {},
   "outputs": [
    {
     "name": "stdout",
     "output_type": "stream",
     "text": [
      "dict_keys(['name', 'age', 'profession', 'country', 'skills'])\n",
      "dict_values(['Tanvir Khan', 30, 'Data Scientist', 'Bangladesh', ['Python', 'Machine Learning', 'Data Analysis']])\n",
      "dict_items([('name', 'Tanvir Khan'), ('age', 30), ('profession', 'Data Scientist'), ('country', 'Bangladesh'), ('skills', ['Python', 'Machine Learning', 'Data Analysis'])])\n"
     ]
    }
   ],
   "source": [
    "print(dict.keys())\n",
    "print(dict.values())\n",
    "print(dict.items())"
   ]
  },
  {
   "cell_type": "markdown",
   "id": "d5750d8a",
   "metadata": {},
   "source": [
    "### basic operations"
   ]
  },
  {
   "cell_type": "code",
   "execution_count": 26,
   "id": "b5742259",
   "metadata": {},
   "outputs": [
    {
     "data": {
      "text/plain": [
       "False"
      ]
     },
     "execution_count": 26,
     "metadata": {},
     "output_type": "execute_result"
    }
   ],
   "source": [
    "'x' in [1,2,3]"
   ]
  },
  {
   "cell_type": "code",
   "execution_count": 27,
   "id": "da7b7bcb",
   "metadata": {},
   "outputs": [
    {
     "data": {
      "text/plain": [
       "True"
      ]
     },
     "execution_count": 27,
     "metadata": {},
     "output_type": "execute_result"
    }
   ],
   "source": [
    "'x' in ['x', 'y', 'z']"
   ]
  },
  {
   "cell_type": "code",
   "execution_count": 36,
   "id": "995e0f17",
   "metadata": {},
   "outputs": [
    {
     "name": "stdout",
     "output_type": "stream",
     "text": [
      "(1, 2)\n",
      "1\n",
      "(3, 4)\n",
      "3\n",
      "(5, 6)\n",
      "5\n",
      "1 2\n",
      "3 4\n",
      "5 6\n"
     ]
    }
   ],
   "source": [
    "# tuple data\n",
    "tuple_data = [(1,2), (3,4), (5,6)]\n",
    "for x in tuple_data:\n",
    "    print(x)\n",
    "    print(x[0])\n",
    "\n",
    "# tuple unpeaking\n",
    "for (a,b) in tuple_data:\n",
    "    print(a, b)"
   ]
  },
  {
   "cell_type": "code",
   "execution_count": null,
   "id": "0afd9f62",
   "metadata": {},
   "outputs": [],
   "source": []
  }
 ],
 "metadata": {
  "kernelspec": {
   "display_name": "base",
   "language": "python",
   "name": "python3"
  },
  "language_info": {
   "codemirror_mode": {
    "name": "ipython",
    "version": 3
   },
   "file_extension": ".py",
   "mimetype": "text/x-python",
   "name": "python",
   "nbconvert_exporter": "python",
   "pygments_lexer": "ipython3",
   "version": "3.13.5"
  }
 },
 "nbformat": 4,
 "nbformat_minor": 5
}
