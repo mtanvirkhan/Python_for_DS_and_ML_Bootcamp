{
 "cells": [
  {
   "cell_type": "code",
   "execution_count": null,
   "id": "d63f2872",
   "metadata": {},
   "outputs": [],
   "source": [
    "seq = [1,2,2,3,3,3,4,4,4,4]\n",
    "for i in seq:\n",
    "    print(i)\n",
    "print('\\n')\n",
    "\n",
    "seq = [1,2,2,3,3,3,4,4,4,4]\n",
    "for i in range(0, len(seq)):\n",
    "    print(i)\n",
    "print('\\n')\n",
    "\n",
    "for i in range(0, 10):\n",
    "    print(i)\n",
    "print('\\n')"
   ]
  },
  {
   "cell_type": "code",
   "execution_count": null,
   "id": "b663e6a2",
   "metadata": {},
   "outputs": [],
   "source": [
    "i = 0\n",
    "while (i < len(seq)):\n",
    "    print(i)\n",
    "    i += 1\n",
    "print('\\n')\n",
    "i = 0\n",
    "while (i < 10):\n",
    "    print(i)\n",
    "    i += 1"
   ]
  },
  {
   "cell_type": "code",
   "execution_count": null,
   "id": "4fb94af8",
   "metadata": {},
   "outputs": [],
   "source": [
    "list(range(10))"
   ]
  },
  {
   "cell_type": "markdown",
   "id": "6d36953b",
   "metadata": {},
   "source": [
    "### List Comprehension"
   ]
  },
  {
   "cell_type": "code",
   "execution_count": 3,
   "id": "24d47414",
   "metadata": {},
   "outputs": [
    {
     "name": "stdout",
     "output_type": "stream",
     "text": [
      "[1, 8, 27, 64, 125]\n"
     ]
    }
   ],
   "source": [
    "x = [1, 2, 3, 4, 5]\n",
    "\n",
    "out = []\n",
    "for i in x:\n",
    "    out.append(i**3)\n",
    "print(out)"
   ]
  },
  {
   "cell_type": "code",
   "execution_count": 4,
   "id": "c3e6a016",
   "metadata": {},
   "outputs": [
    {
     "name": "stdout",
     "output_type": "stream",
     "text": [
      "[1, 8, 27, 64, 125]\n"
     ]
    }
   ],
   "source": [
    "out = [i**3 for i in x]\n",
    "print(out)"
   ]
  },
  {
   "cell_type": "code",
   "execution_count": null,
   "id": "10a78392",
   "metadata": {},
   "outputs": [],
   "source": []
  }
 ],
 "metadata": {
  "kernelspec": {
   "display_name": "base",
   "language": "python",
   "name": "python3"
  },
  "language_info": {
   "codemirror_mode": {
    "name": "ipython",
    "version": 3
   },
   "file_extension": ".py",
   "mimetype": "text/x-python",
   "name": "python",
   "nbconvert_exporter": "python",
   "pygments_lexer": "ipython3",
   "version": "3.13.5"
  }
 },
 "nbformat": 4,
 "nbformat_minor": 5
}
