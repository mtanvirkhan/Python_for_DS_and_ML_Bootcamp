{
 "cells": [
  {
   "cell_type": "markdown",
   "id": "aee589c9",
   "metadata": {},
   "source": [
    "## def function()"
   ]
  },
  {
   "cell_type": "code",
   "execution_count": 5,
   "id": "2946089c",
   "metadata": {},
   "outputs": [
    {
     "name": "stdout",
     "output_type": "stream",
     "text": [
      "Hello Tanvir!!\n",
      "Hello World!!\n"
     ]
    }
   ],
   "source": [
    "def my_func(name = 'World!!'):\n",
    "    print(\"Hello \" + name)\n",
    "\n",
    "my_func('Tanvir!!')\n",
    "my_func()"
   ]
  },
  {
   "cell_type": "code",
   "execution_count": 9,
   "id": "d6bacc4f",
   "metadata": {},
   "outputs": [
    {
     "name": "stdout",
     "output_type": "stream",
     "text": [
      "50625\n"
     ]
    }
   ],
   "source": [
    "def square(num):\n",
    "    \"\"\"\n",
    "    THIS IS A DOCSTRING.\n",
    "    CAN GO MULTIPLE LINES.\n",
    "    THIS FUNCTION SQAUARE A NUMBER.\n",
    "    \"\"\"\n",
    "    return num**2\n",
    "\n",
    "output = square(225)\n",
    "print(output)"
   ]
  },
  {
   "cell_type": "code",
   "execution_count": 12,
   "id": "20951543",
   "metadata": {},
   "outputs": [
    {
     "data": {
      "text/plain": [
       "range"
      ]
     },
     "execution_count": 12,
     "metadata": {},
     "output_type": "execute_result"
    }
   ],
   "source": [
    "square # press ctrl + space to see the docstring\n",
    "range # press ctrl + space to see the docstring"
   ]
  },
  {
   "cell_type": "code",
   "execution_count": null,
   "id": "7227079e",
   "metadata": {},
   "outputs": [],
   "source": []
  }
 ],
 "metadata": {
  "kernelspec": {
   "display_name": "base",
   "language": "python",
   "name": "python3"
  },
  "language_info": {
   "codemirror_mode": {
    "name": "ipython",
    "version": 3
   },
   "file_extension": ".py",
   "mimetype": "text/x-python",
   "name": "python",
   "nbconvert_exporter": "python",
   "pygments_lexer": "ipython3",
   "version": "3.13.5"
  }
 },
 "nbformat": 4,
 "nbformat_minor": 5
}
