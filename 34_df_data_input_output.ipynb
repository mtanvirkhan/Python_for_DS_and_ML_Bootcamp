{
 "cells": [
  {
   "cell_type": "markdown",
   "id": "35da7f78",
   "metadata": {},
   "source": [
    "<!DOCTYPE html>\n",
    "<html lang=\"en\">\n",
    "<head>\n",
    "    <meta charset=\"UTF-8\">\n",
    "    <meta name=\"viewport\" content=\"width=device-width, initial-scale=1.0\">\n",
    "    <title>Document</title>\n",
    "    <style>\n",
    "        p {\n",
    "            font-size: 20px;\n",
    "            color: #00FF00;\n",
    "        }\n",
    "        li {\n",
    "            font-size: 18px;\n",
    "            color: #00FF00;\n",
    "        }\n",
    "    </style>\n",
    "</head>\n",
    "<body>\n",
    "    <p><strong>Data Input and Output</strong></p>\n",
    "    <li><strong>CSV</strong></li>\n",
    "    <li><strong>Excel</strong></li>\n",
    "    <li><strong>HTML</strong></li>\n",
    "    <li><strong>SQL</strong></li>   \n",
    "</body>\n",
    "</html>"
   ]
  },
  {
   "cell_type": "code",
   "execution_count": 2,
   "id": "bcf0ab72",
   "metadata": {},
   "outputs": [],
   "source": [
    "import numpy as np\n",
    "import pandas as pd"
   ]
  },
  {
   "cell_type": "markdown",
   "id": "a18bbf16",
   "metadata": {},
   "source": [
    "<!DOCTYPE html>\n",
    "<html lang=\"en\">\n",
    "<head>\n",
    "    <meta charset=\"UTF-8\">\n",
    "    <meta name=\"viewport\" content=\"width=device-width, initial-scale=1.0\">\n",
    "    <title>Document</title>\n",
    "    <style>\n",
    "        p {\n",
    "            font-size: 20px;\n",
    "            color: #00FF00;\n",
    "        }\n",
    "        li {\n",
    "            font-size: 16px;\n",
    "            color: #00FF00;\n",
    "        }\n",
    "    </style>\n",
    "</head>\n",
    "<body>\n",
    "    <p><strong>CSV input output</strong></p>\n",
    "    <li><strong>df = pd.read_csv()</strong></li>\n",
    "    <li><strong>df.to_csv()</strong></li>\n",
    "</body>\n",
    "</html>"
   ]
  },
  {
   "cell_type": "code",
   "execution_count": 3,
   "id": "8b606e50",
   "metadata": {},
   "outputs": [
    {
     "name": "stdout",
     "output_type": "stream",
     "text": [
      "    a   b   c   d\n",
      "0   0   1   2   3\n",
      "1   4   5   6   7\n",
      "2   8   9  10  11\n",
      "3  12  13  14  15\n",
      "             Date               Client ID       Last Digit  63/64 45/20 SIM 2  \\\n",
      "0       15-Apr-16                     NaN   3540750/995274   4000         NaN   \n",
      "1       20-Apr-16                     NaN  6788120/7717446   8160         NaN   \n",
      "2       22-Apr-16                     NaN     88120/260632  10000         NaN   \n",
      "3       22-Apr-16                     NaN   906367/9261672   2240         NaN   \n",
      "4       01-May-16                     NaN   6906367/838231   4080         NaN   \n",
      "...           ...                     ...              ...    ...         ...   \n",
      "7974  10-Jul-2025       Send money Pourag              KWX    NaN     7064.32   \n",
      "7975  10-Jul-2025  Send money 01772173531          531/YHA    NaN      509.25   \n",
      "7976  10-Jul-2025                     NaN              NaN    NaN         NaN   \n",
      "7977  10-Jul-2025                     NaN              NaN    NaN         NaN   \n",
      "7978  10-Jul-2025                     NaN              NaN    NaN         NaN   \n",
      "\n",
      "     40 SIM 1 Expense cash out (63/62) Bkash charge (63/62) cash out (45)  \\\n",
      "0         NaN     980              NaN                  NaN           NaN   \n",
      "1         NaN     NaN              NaN                  NaN           NaN   \n",
      "2         NaN     NaN              NaN                  NaN           NaN   \n",
      "3         NaN     NaN              NaN                  NaN           NaN   \n",
      "4         NaN     NaN              NaN                  NaN           NaN   \n",
      "...       ...     ...              ...                  ...           ...   \n",
      "7974      NaN     NaN              NaN                  NaN           NaN   \n",
      "7975      NaN     NaN              NaN                  NaN           NaN   \n",
      "7976      NaN     NaN              NaN                  NaN           NaN   \n",
      "7977      NaN     NaN              NaN                  NaN           NaN   \n",
      "7978      NaN     NaN              NaN                  NaN           NaN   \n",
      "\n",
      "      ... Unnamed: 18 Unnamed: 19 Unnamed: 20 Unnamed: 21 Unnamed: 22  \\\n",
      "0     ...         NaN         NaN         NaN         NaN         NaN   \n",
      "1     ...         NaN         NaN         NaN         NaN         NaN   \n",
      "2     ...         NaN         NaN         NaN         NaN         NaN   \n",
      "3     ...         NaN         NaN         NaN         NaN         NaN   \n",
      "4     ...         NaN         NaN         NaN         NaN         NaN   \n",
      "...   ...         ...         ...         ...         ...         ...   \n",
      "7974  ...         NaN         NaN         NaN         NaN         NaN   \n",
      "7975  ...         NaN         NaN         NaN         NaN         NaN   \n",
      "7976  ...         NaN         NaN         NaN         NaN         NaN   \n",
      "7977  ...         NaN         NaN         NaN         NaN         NaN   \n",
      "7978  ...         NaN         NaN         NaN         NaN         NaN   \n",
      "\n",
      "     Unnamed: 23  Unnamed: 24  Unnamed: 25 Unnamed: 26 Unnamed: 27  \n",
      "0            NaN          NaN          NaN         NaN         NaN  \n",
      "1            NaN          NaN          NaN         NaN         NaN  \n",
      "2            NaN          NaN          NaN         NaN         NaN  \n",
      "3            NaN          NaN          NaN         NaN         NaN  \n",
      "4            NaN          NaN          NaN         NaN         NaN  \n",
      "...          ...          ...          ...         ...         ...  \n",
      "7974         NaN          NaN          NaN         NaN         NaN  \n",
      "7975         NaN          NaN          NaN         NaN         NaN  \n",
      "7976         NaN          NaN          NaN         NaN         NaN  \n",
      "7977         NaN          NaN          NaN         NaN         NaN  \n",
      "7978         NaN          NaN          NaN         NaN         NaN  \n",
      "\n",
      "[7979 rows x 28 columns]\n"
     ]
    }
   ],
   "source": [
    "# Reading CSV file\n",
    "df = pd.read_csv('./example.csv')\n",
    "print(df)\n",
    "print(pd.read_csv('./BKash Payment Update 09.01.2022 - Bkash Cash In.csv'))"
   ]
  },
  {
   "cell_type": "code",
   "execution_count": 4,
   "id": "a83ab1fc",
   "metadata": {},
   "outputs": [
    {
     "name": "stdout",
     "output_type": "stream",
     "text": [
      "    a   b   c   d\n",
      "0   0   1   2   3\n",
      "1   4   5   6   7\n",
      "2   8   9  10  11\n",
      "3  12  13  14  15\n"
     ]
    },
    {
     "data": {
      "text/html": [
       "<div>\n",
       "<style scoped>\n",
       "    .dataframe tbody tr th:only-of-type {\n",
       "        vertical-align: middle;\n",
       "    }\n",
       "\n",
       "    .dataframe tbody tr th {\n",
       "        vertical-align: top;\n",
       "    }\n",
       "\n",
       "    .dataframe thead th {\n",
       "        text-align: right;\n",
       "    }\n",
       "</style>\n",
       "<table border=\"1\" class=\"dataframe\">\n",
       "  <thead>\n",
       "    <tr style=\"text-align: right;\">\n",
       "      <th></th>\n",
       "      <th>a</th>\n",
       "      <th>b</th>\n",
       "      <th>c</th>\n",
       "      <th>d</th>\n",
       "    </tr>\n",
       "  </thead>\n",
       "  <tbody>\n",
       "    <tr>\n",
       "      <th>0</th>\n",
       "      <td>0</td>\n",
       "      <td>1</td>\n",
       "      <td>2</td>\n",
       "      <td>3</td>\n",
       "    </tr>\n",
       "    <tr>\n",
       "      <th>1</th>\n",
       "      <td>4</td>\n",
       "      <td>5</td>\n",
       "      <td>6</td>\n",
       "      <td>7</td>\n",
       "    </tr>\n",
       "    <tr>\n",
       "      <th>2</th>\n",
       "      <td>8</td>\n",
       "      <td>9</td>\n",
       "      <td>10</td>\n",
       "      <td>11</td>\n",
       "    </tr>\n",
       "    <tr>\n",
       "      <th>3</th>\n",
       "      <td>12</td>\n",
       "      <td>13</td>\n",
       "      <td>14</td>\n",
       "      <td>15</td>\n",
       "    </tr>\n",
       "  </tbody>\n",
       "</table>\n",
       "</div>"
      ],
      "text/plain": [
       "    a   b   c   d\n",
       "0   0   1   2   3\n",
       "1   4   5   6   7\n",
       "2   8   9  10  11\n",
       "3  12  13  14  15"
      ]
     },
     "execution_count": 4,
     "metadata": {},
     "output_type": "execute_result"
    }
   ],
   "source": [
    "# Writing to a CSV file\n",
    "print(df)\n",
    "df.to_csv('csv_output.csv', index=False)\n",
    "pd.read_csv('./csv_output.csv')"
   ]
  },
  {
   "cell_type": "markdown",
   "id": "17a99a08",
   "metadata": {},
   "source": [
    "<!DOCTYPE html>\n",
    "<html lang=\"en\">\n",
    "<head>\n",
    "    <meta charset=\"UTF-8\">\n",
    "    <meta name=\"viewport\" content=\"width=device-width, initial-scale=1.0\">\n",
    "    <title>Document</title>\n",
    "    <style>\n",
    "        p {\n",
    "            font-size: 20px;\n",
    "            color: #00FF00;\n",
    "        }\n",
    "        li {\n",
    "            font-size: 16px;\n",
    "            color: #00FF00;\n",
    "        }\n",
    "    </style>\n",
    "</head>\n",
    "<body>\n",
    "    <p><strong>Excel input output</strong></p>\n",
    "    <li><strong>df = pd.read_excel()</strong></li>\n",
    "    <li><strong>df.to_excel()</strong></li>\n",
    "</body>\n",
    "</html>"
   ]
  },
  {
   "cell_type": "code",
   "execution_count": 5,
   "id": "25016b4b",
   "metadata": {},
   "outputs": [
    {
     "data": {
      "text/html": [
       "<div>\n",
       "<style scoped>\n",
       "    .dataframe tbody tr th:only-of-type {\n",
       "        vertical-align: middle;\n",
       "    }\n",
       "\n",
       "    .dataframe tbody tr th {\n",
       "        vertical-align: top;\n",
       "    }\n",
       "\n",
       "    .dataframe thead th {\n",
       "        text-align: right;\n",
       "    }\n",
       "</style>\n",
       "<table border=\"1\" class=\"dataframe\">\n",
       "  <thead>\n",
       "    <tr style=\"text-align: right;\">\n",
       "      <th></th>\n",
       "      <th>Unnamed: 0</th>\n",
       "      <th>a</th>\n",
       "      <th>b</th>\n",
       "      <th>c</th>\n",
       "      <th>d</th>\n",
       "    </tr>\n",
       "  </thead>\n",
       "  <tbody>\n",
       "    <tr>\n",
       "      <th>0</th>\n",
       "      <td>0</td>\n",
       "      <td>0</td>\n",
       "      <td>1</td>\n",
       "      <td>2</td>\n",
       "      <td>3</td>\n",
       "    </tr>\n",
       "    <tr>\n",
       "      <th>1</th>\n",
       "      <td>1</td>\n",
       "      <td>4</td>\n",
       "      <td>5</td>\n",
       "      <td>6</td>\n",
       "      <td>7</td>\n",
       "    </tr>\n",
       "    <tr>\n",
       "      <th>2</th>\n",
       "      <td>2</td>\n",
       "      <td>8</td>\n",
       "      <td>9</td>\n",
       "      <td>10</td>\n",
       "      <td>11</td>\n",
       "    </tr>\n",
       "    <tr>\n",
       "      <th>3</th>\n",
       "      <td>3</td>\n",
       "      <td>12</td>\n",
       "      <td>13</td>\n",
       "      <td>14</td>\n",
       "      <td>15</td>\n",
       "    </tr>\n",
       "  </tbody>\n",
       "</table>\n",
       "</div>"
      ],
      "text/plain": [
       "   Unnamed: 0   a   b   c   d\n",
       "0           0   0   1   2   3\n",
       "1           1   4   5   6   7\n",
       "2           2   8   9  10  11\n",
       "3           3  12  13  14  15"
      ]
     },
     "execution_count": 5,
     "metadata": {},
     "output_type": "execute_result"
    }
   ],
   "source": [
    "df = pd.read_excel('./Excel_Sample.xlsx', sheet_name='Sheet1')\n",
    "df"
   ]
  },
  {
   "cell_type": "code",
   "execution_count": 6,
   "id": "8d2e3f01",
   "metadata": {},
   "outputs": [
    {
     "name": "stdout",
     "output_type": "stream",
     "text": [
      "   Unnamed: 0   a   b   c   d\n",
      "0           0   0   1   2   3\n",
      "1           1   4   5   6   7\n",
      "2           2   8   9  10  11\n",
      "3           3  12  13  14  15\n"
     ]
    }
   ],
   "source": [
    "df.to_excel('excel_output1.xlsx', index=False, sheet_name='Sheet3')\n",
    "print(pd.read_excel('./excel_output1.xlsx', sheet_name='Sheet3'))\n",
    "\n",
    "\n"
   ]
  },
  {
   "cell_type": "markdown",
   "id": "6ad85781",
   "metadata": {},
   "source": [
    "<!DOCTYPE html>\n",
    "<html lang=\"en\">\n",
    "<head>\n",
    "    <meta charset=\"UTF-8\">\n",
    "    <meta name=\"viewport\" content=\"width=device-width, initial-scale=1.0\">\n",
    "    <title>Document</title>\n",
    "    <style>\n",
    "        p {\n",
    "            font-size: 20px;\n",
    "            color: #00FF00;\n",
    "        }\n",
    "        li {\n",
    "            font-size: 16px;\n",
    "            color: #00FF00;\n",
    "        }\n",
    "    </style>\n",
    "</head>\n",
    "<body>\n",
    "    <p><strong>Excel Writing</strong></p>\n",
    "    <li><strong>pd.ExcelWriter()</strong></li>\n",
    "</body>\n",
    "</html>"
   ]
  },
  {
   "cell_type": "code",
   "execution_count": 7,
   "id": "9f282da5",
   "metadata": {},
   "outputs": [],
   "source": [
    "with pd.ExcelWriter('excel_output2.xlsx', engine='openpyxl') as writer:\n",
    "    df.to_excel(writer, index=False, sheet_name='Sheet1')\n",
    "    df.to_excel(writer, index=False, sheet_name='Sheet2')"
   ]
  },
  {
   "cell_type": "code",
   "execution_count": 8,
   "id": "dd77edca",
   "metadata": {},
   "outputs": [
    {
     "name": "stdout",
     "output_type": "stream",
     "text": [
      "{'Sheet1':    Unnamed: 0   a   b   c   d\n",
      "0           0   0   1   2   3\n",
      "1           1   4   5   6   7\n",
      "2           2   8   9  10  11\n",
      "3           3  12  13  14  15, 'Sheet2':    Unnamed: 0   a   b   c   d\n",
      "0           0   0   1   2   3\n",
      "1           1   4   5   6   7\n",
      "2           2   8   9  10  11\n",
      "3           3  12  13  14  15}\n",
      "\n",
      "\n",
      "   Unnamed: 0   a   b   c   d\n",
      "0           0   0   1   2   3\n",
      "1           1   4   5   6   7\n",
      "2           2   8   9  10  11\n",
      "3           3  12  13  14  15\n",
      "   Unnamed: 0   a   b   c   d\n",
      "0           0   0   1   2   3\n",
      "1           1   4   5   6   7\n",
      "2           2   8   9  10  11\n",
      "3           3  12  13  14  15\n"
     ]
    }
   ],
   "source": [
    "df = pd.read_excel('excel_output2.xlsx', sheet_name=['Sheet1', 'Sheet2'])\n",
    "\n",
    "# Access like a dictionary\n",
    "print(df)\n",
    "print('\\n')\n",
    "print(df['Sheet1'])\n",
    "print(df['Sheet2'])\n",
    "\n"
   ]
  },
  {
   "cell_type": "markdown",
   "id": "d6c9aeb8",
   "metadata": {},
   "source": [
    "<!DOCTYPE html>\n",
    "<html lang=\"en\">\n",
    "<head>\n",
    "    <meta charset=\"UTF-8\">\n",
    "    <meta name=\"viewport\" content=\"width=device-width, initial-scale=1.0\">\n",
    "    <title>Document</title>\n",
    "    <style>\n",
    "        p {\n",
    "            font-family: monospace;\n",
    "            font-size: 20px;\n",
    "            color: #00FF00;\n",
    "        }\n",
    "    </style>\n",
    "</head>\n",
    "<body>\n",
    "    <p><strong>HTML input output</strong></p>\n",
    "</body>\n",
    "</html>"
   ]
  },
  {
   "cell_type": "code",
   "execution_count": 9,
   "id": "4ed36621",
   "metadata": {},
   "outputs": [
    {
     "name": "stdout",
     "output_type": "stream",
     "text": [
      "Hello git updated\n"
     ]
    }
   ],
   "source": [
    "print('Hello git updated')"
   ]
  },
  {
   "cell_type": "code",
   "execution_count": null,
   "id": "61cf2477",
   "metadata": {},
   "outputs": [],
   "source": []
  }
 ],
 "metadata": {
  "kernelspec": {
   "display_name": "base",
   "language": "python",
   "name": "python3"
  },
  "language_info": {
   "codemirror_mode": {
    "name": "ipython",
    "version": 3
   },
   "file_extension": ".py",
   "mimetype": "text/x-python",
   "name": "python",
   "nbconvert_exporter": "python",
   "pygments_lexer": "ipython3",
   "version": "3.13.5"
  }
 },
 "nbformat": 4,
 "nbformat_minor": 5
}
