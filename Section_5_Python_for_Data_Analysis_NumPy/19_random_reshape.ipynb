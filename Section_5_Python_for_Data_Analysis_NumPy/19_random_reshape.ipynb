{
 "cells": [
  {
   "cell_type": "code",
   "execution_count": 2,
   "id": "28d44f01",
   "metadata": {},
   "outputs": [],
   "source": [
    "import numpy as np"
   ]
  },
  {
   "cell_type": "markdown",
   "id": "0c8f8787",
   "metadata": {},
   "source": [
    "<!DOCTYPE html>\n",
    "<html lang=\"en\">\n",
    "<head>\n",
    "    <meta charset=\"UTF-8\">\n",
    "    <meta name=\"viewport\" content=\"width=device-width, initial-scale=1.0\">\n",
    "    <title>Document</title>\n",
    "    <style>\n",
    "        h3 {\n",
    "            font-family: monospace;\n",
    "            color: #DCD427\n",
    "        }\n",
    "        li {\n",
    "            font-family: monospace;\n",
    "            color: #DCD427;\n",
    "            font-size: 22px\n",
    "        }\n",
    "        ul li {\n",
    "            list-style-type: none;\n",
    "            padding-left: 0;\n",
    "            font-size: 18px;\n",
    "        }\n",
    "        strong {\n",
    "            font-size: 18px;\n",
    "            color: #c55955\n",
    "        }\n",
    "    </style>\n",
    "</head>\n",
    "<body>\n",
    "    <h3>Course topic</h3>\n",
    "    <div>\n",
    "        <li>random</li>\n",
    "            <ul>\n",
    "                <li>1. randint <strong>(one/two dimentional array)</strong></li>\n",
    "                <li>2. rand <strong>(one/two dimentional array)</strong></li>\n",
    "                <li>3. randn <strong>(one/two dimentional array)</strong></li>\n",
    "            </ul>\n",
    "        <li>reshape <strong>(one/two dimentional array)</strong></li>\n",
    "        <li>max, min, argmax, argmin</li>\n",
    "        <li>shape</li>\n",
    "    </div>\n",
    "</body>\n",
    "</html>"
   ]
  },
  {
   "cell_type": "code",
   "execution_count": 3,
   "id": "a1bceb6f",
   "metadata": {},
   "outputs": [
    {
     "data": {
      "text/plain": [
       "array([[3, 2, 3, 4],\n",
       "       [8, 4, 7, 5],\n",
       "       [6, 9, 6, 4]], dtype=int32)"
      ]
     },
     "execution_count": 3,
     "metadata": {},
     "output_type": "execute_result"
    }
   ],
   "source": [
    "np.random.randint(0, 10, size=(3, 4))  # Generates a 3x4 array with random integers between 0 and 10"
   ]
  },
  {
   "cell_type": "code",
   "execution_count": 4,
   "id": "a66ff891",
   "metadata": {},
   "outputs": [
    {
     "data": {
      "text/plain": [
       "81"
      ]
     },
     "execution_count": 4,
     "metadata": {},
     "output_type": "execute_result"
    }
   ],
   "source": [
    "np.random.randint(0, 100)\n",
    "# This is a random integer data range from 0 to 100"
   ]
  },
  {
   "cell_type": "code",
   "execution_count": 5,
   "id": "e05f1b7f",
   "metadata": {},
   "outputs": [
    {
     "data": {
      "text/plain": [
       "array([53, 10, 37, 98,  1, 10, 20, 62, 86, 67], dtype=int32)"
      ]
     },
     "execution_count": 5,
     "metadata": {},
     "output_type": "execute_result"
    }
   ],
   "source": [
    "np.random.randint(0, 100, 10)\n",
    "# This is 10 random integer data range from 0 to 100"
   ]
  },
  {
   "cell_type": "code",
   "execution_count": 6,
   "id": "94d155f3",
   "metadata": {},
   "outputs": [
    {
     "data": {
      "text/plain": [
       "array([0.44996843, 0.391531  , 0.38021621, 0.04492358, 0.75083829,\n",
       "       0.14325187, 0.02626043, 0.88320736, 0.51850668, 0.95480032])"
      ]
     },
     "execution_count": 6,
     "metadata": {},
     "output_type": "execute_result"
    }
   ],
   "source": [
    "np.random.rand(10)"
   ]
  },
  {
   "cell_type": "code",
   "execution_count": 7,
   "id": "5f8da52b",
   "metadata": {},
   "outputs": [
    {
     "data": {
      "text/plain": [
       "array([[0.09516343, 0.32444986, 0.44285211, 0.37057319],\n",
       "       [0.74736797, 0.19157276, 0.03001841, 0.8786475 ],\n",
       "       [0.4945721 , 0.96907897, 0.39555452, 0.71145068],\n",
       "       [0.99999089, 0.43455389, 0.77982367, 0.1404671 ],\n",
       "       [0.64868359, 0.14003838, 0.43123673, 0.12224325]])"
      ]
     },
     "execution_count": 7,
     "metadata": {},
     "output_type": "execute_result"
    }
   ],
   "source": [
    "np.random.rand(5, 4)"
   ]
  },
  {
   "cell_type": "code",
   "execution_count": 8,
   "id": "fac3f9fa",
   "metadata": {},
   "outputs": [
    {
     "data": {
      "text/plain": [
       "array([ 0.27536677,  1.9587812 , -1.38841791, -1.95405567,  0.65387367,\n",
       "        1.56402542,  0.08993709,  0.22047675, -0.85281302,  0.25496646])"
      ]
     },
     "execution_count": 8,
     "metadata": {},
     "output_type": "execute_result"
    }
   ],
   "source": [
    "np.random.randn(10)"
   ]
  },
  {
   "cell_type": "code",
   "execution_count": 9,
   "id": "dab51770",
   "metadata": {},
   "outputs": [
    {
     "data": {
      "text/plain": [
       "array([[ 1.3230725 ,  0.2997064 , -0.3262543 , -0.23838721],\n",
       "       [-0.08133313,  1.21317749, -0.32484312,  0.35758953],\n",
       "       [-2.0968818 , -0.67535033,  0.20731861,  0.03604794],\n",
       "       [-0.64984999, -0.91867337,  1.60022104, -2.17904085],\n",
       "       [-0.4393893 ,  0.88258207, -0.40245954, -1.07121299]])"
      ]
     },
     "execution_count": 9,
     "metadata": {},
     "output_type": "execute_result"
    }
   ],
   "source": [
    "np.random.randn(5,4)"
   ]
  },
  {
   "cell_type": "markdown",
   "id": "da5b1518",
   "metadata": {},
   "source": [
    "<!DOCTYPE html>\n",
    "<html lang=\"en\">\n",
    "<head>\n",
    "    <meta charset=\"UTF-8\">\n",
    "    <meta name=\"viewport\" content=\"width=device-width, initial-scale=1.0\">\n",
    "    <link rel=\"preconnect\" href=\"https://fonts.googleapis.com\">\n",
    "    <link rel=\"preconnect\" href=\"https://fonts.gstatic.com\" crossorigin>\n",
    "    <link href=\"https://fonts.googleapis.com/css2?family=M+PLUS+Code+Latin:wght@100..700&family=M+PLUS+Rounded+1c&family=Roboto+Mono:ital,wght@0,100..700;1,100..700&family=Rubik:wght@300..900&display=swap\" rel=\"stylesheet\">\n",
    "    <title>Data science</title>\n",
    "    <style>\n",
    "        p {\n",
    "            font-family: ;\n",
    "            color: #DCD427;\n",
    "            font-size: 18px;\n",
    "        }\n",
    "    </style>\n",
    "</head>\n",
    "<body>\n",
    "    <div>\n",
    "        <p>arrange vs randint</p>\n",
    "    </div>\n",
    "</body>\n",
    "</html>"
   ]
  },
  {
   "cell_type": "code",
   "execution_count": 10,
   "id": "22e988cd",
   "metadata": {},
   "outputs": [
    {
     "data": {
      "text/plain": [
       "array([ 0,  1,  2,  3,  4,  5,  6,  7,  8,  9, 10, 11, 12, 13, 14, 15, 16,\n",
       "       17, 18, 19])"
      ]
     },
     "execution_count": 10,
     "metadata": {},
     "output_type": "execute_result"
    }
   ],
   "source": [
    "arr = np.arange(0,20)\n",
    "arr"
   ]
  },
  {
   "cell_type": "code",
   "execution_count": 11,
   "id": "4e985375",
   "metadata": {},
   "outputs": [
    {
     "data": {
      "text/plain": [
       "array([ 8, 11,  5,  5,  2,  1,  9,  0, 13, 11, 12, 10,  3, 14,  0,  2,  4,\n",
       "        0, 12, 10], dtype=int32)"
      ]
     },
     "execution_count": 11,
     "metadata": {},
     "output_type": "execute_result"
    }
   ],
   "source": [
    "randarr = np.random.randint(0, 15, 20)\n",
    "randarr"
   ]
  },
  {
   "cell_type": "code",
   "execution_count": 12,
   "id": "60c6d455",
   "metadata": {},
   "outputs": [
    {
     "data": {
      "text/plain": [
       "array([ 8, 12,  7,  8,  6,  6, 15,  7, 21, 20, 22, 21, 15, 27, 14, 17, 20,\n",
       "       17, 30, 29])"
      ]
     },
     "execution_count": 12,
     "metadata": {},
     "output_type": "execute_result"
    }
   ],
   "source": [
    "reshape_data = arr + randarr\n",
    "reshape_data"
   ]
  },
  {
   "cell_type": "markdown",
   "id": "cf105fda",
   "metadata": {},
   "source": [
    "<!DOCTYPE html>\n",
    "<html lang=\"en\">\n",
    "<head>\n",
    "    <meta charset=\"UTF-8\">\n",
    "    <meta name=\"viewport\" content=\"width=device-width, initial-scale=1.0\">\n",
    "    <link rel=\"preconnect\" href=\"https://fonts.googleapis.com\">\n",
    "    <link rel=\"preconnect\" href=\"https://fonts.gstatic.com\" crossorigin>\n",
    "    <link href=\"https://fonts.googleapis.com/css2?family=M+PLUS+Code+Latin:wght@100..700&family=M+PLUS+Rounded+1c&family=Roboto+Mono:ital,wght@0,100..700;1,100..700&family=Rubik:wght@300..900&display=swap\" rel=\"stylesheet\">\n",
    "    <title>Data science</title>\n",
    "    <style>\n",
    "        p {\n",
    "            font-family: ;\n",
    "            color: #DCD427;\n",
    "            font-size: 20px;\n",
    "        }\n",
    "    </style>\n",
    "</head>\n",
    "<body>\n",
    "    <div>\n",
    "        <p>reshape</p>\n",
    "    </div>\n",
    "</body>\n",
    "</html>"
   ]
  },
  {
   "cell_type": "code",
   "execution_count": 13,
   "id": "f4706168",
   "metadata": {},
   "outputs": [
    {
     "data": {
      "text/plain": [
       "array([[ 8, 12,  7,  8,  6],\n",
       "       [ 6, 15,  7, 21, 20],\n",
       "       [22, 21, 15, 27, 14],\n",
       "       [17, 20, 17, 30, 29]])"
      ]
     },
     "execution_count": 13,
     "metadata": {},
     "output_type": "execute_result"
    }
   ],
   "source": [
    "reshape_data.reshape(4, 5)"
   ]
  },
  {
   "cell_type": "code",
   "execution_count": 14,
   "id": "cd5864d6",
   "metadata": {},
   "outputs": [
    {
     "data": {
      "text/plain": [
       "array([[ 8, 12,  7,  8,  6,  6, 15,  7, 21, 20, 22, 21, 15, 27, 14, 17,\n",
       "        20, 17, 30, 29]])"
      ]
     },
     "execution_count": 14,
     "metadata": {},
     "output_type": "execute_result"
    }
   ],
   "source": [
    "reshape_data.reshape(1, 20)"
   ]
  },
  {
   "cell_type": "code",
   "execution_count": 15,
   "id": "42b598fa",
   "metadata": {},
   "outputs": [
    {
     "data": {
      "text/plain": [
       "array([[ 8, 12,  7,  8,  6,  6, 15,  7, 21, 20],\n",
       "       [22, 21, 15, 27, 14, 17, 20, 17, 30, 29]])"
      ]
     },
     "execution_count": 15,
     "metadata": {},
     "output_type": "execute_result"
    }
   ],
   "source": [
    "reshape_data.reshape(2, 10)"
   ]
  },
  {
   "cell_type": "code",
   "execution_count": 16,
   "id": "9c9ef921",
   "metadata": {},
   "outputs": [
    {
     "data": {
      "text/plain": [
       "array([[ 8, 12],\n",
       "       [ 7,  8],\n",
       "       [ 6,  6],\n",
       "       [15,  7],\n",
       "       [21, 20],\n",
       "       [22, 21],\n",
       "       [15, 27],\n",
       "       [14, 17],\n",
       "       [20, 17],\n",
       "       [30, 29]])"
      ]
     },
     "execution_count": 16,
     "metadata": {},
     "output_type": "execute_result"
    }
   ],
   "source": [
    "reshape_data.reshape(10, 2)"
   ]
  },
  {
   "cell_type": "markdown",
   "id": "1785f26b",
   "metadata": {},
   "source": [
    "<!DOCTYPE html>\n",
    "<html lang=\"en\">\n",
    "<head>\n",
    "    <meta charset=\"UTF-8\">\n",
    "    <meta name=\"viewport\" content=\"width=device-width, initial-scale=1.0\">\n",
    "    <link rel=\"preconnect\" href=\"https://fonts.googleapis.com\">\n",
    "    <link rel=\"preconnect\" href=\"https://fonts.gstatic.com\" crossorigin>\n",
    "    <link href=\"https://fonts.googleapis.com/css2?family=M+PLUS+Code+Latin:wght@100..700&family=M+PLUS+Rounded+1c&family=Roboto+Mono:ital,wght@0,100..700;1,100..700&family=Rubik:wght@300..900&display=swap\" rel=\"stylesheet\">\n",
    "    <title>Data science</title>\n",
    "    <style>\n",
    "        p {\n",
    "            font-family: ;\n",
    "            color: #DCD427;\n",
    "            font-size: 20px;\n",
    "        }\n",
    "    </style>\n",
    "</head>\n",
    "<body>\n",
    "    <div>\n",
    "        <p>shape -> this shows the array data dimention</p>\n",
    "    </div>\n",
    "</body>\n",
    "</html>"
   ]
  },
  {
   "cell_type": "code",
   "execution_count": 17,
   "id": "e5de221d",
   "metadata": {},
   "outputs": [
    {
     "data": {
      "text/plain": [
       "array([[ 8, 12,  7,  8,  6],\n",
       "       [ 6, 15,  7, 21, 20],\n",
       "       [22, 21, 15, 27, 14],\n",
       "       [17, 20, 17, 30, 29]])"
      ]
     },
     "execution_count": 17,
     "metadata": {},
     "output_type": "execute_result"
    }
   ],
   "source": [
    "reshape_data.reshape(4, 5)"
   ]
  },
  {
   "cell_type": "code",
   "execution_count": 18,
   "id": "471de354",
   "metadata": {},
   "outputs": [
    {
     "data": {
      "text/plain": [
       "(4, 5)"
      ]
     },
     "execution_count": 18,
     "metadata": {},
     "output_type": "execute_result"
    }
   ],
   "source": [
    "reshape_data.reshape(4, 5).shape"
   ]
  },
  {
   "cell_type": "code",
   "execution_count": 19,
   "id": "e7d04b85",
   "metadata": {},
   "outputs": [
    {
     "data": {
      "text/plain": [
       "array([ 0,  1,  2,  3,  4,  5,  6,  7,  8,  9, 10, 11, 12, 13, 14, 15, 16,\n",
       "       17, 18, 19])"
      ]
     },
     "execution_count": 19,
     "metadata": {},
     "output_type": "execute_result"
    }
   ],
   "source": [
    "arr"
   ]
  },
  {
   "cell_type": "code",
   "execution_count": 20,
   "id": "b202a25a",
   "metadata": {},
   "outputs": [
    {
     "data": {
      "text/plain": [
       "(20,)"
      ]
     },
     "execution_count": 20,
     "metadata": {},
     "output_type": "execute_result"
    }
   ],
   "source": [
    "arr.shape"
   ]
  },
  {
   "cell_type": "markdown",
   "id": "69593916",
   "metadata": {},
   "source": [
    "<!DOCTYPE html>\n",
    "<html lang=\"en\">\n",
    "<head>\n",
    "    <meta charset=\"UTF-8\">\n",
    "    <meta name=\"viewport\" content=\"width=device-width, initial-scale=1.0\">\n",
    "    <link rel=\"preconnect\" href=\"https://fonts.googleapis.com\">\n",
    "    <link rel=\"preconnect\" href=\"https://fonts.gstatic.com\" crossorigin>\n",
    "    <link href=\"https://fonts.googleapis.com/css2?family=M+PLUS+Code+Latin:wght@100..700&family=M+PLUS+Rounded+1c&family=Roboto+Mono:ital,wght@0,100..700;1,100..700&family=Rubik:wght@300..900&display=swap\" rel=\"stylesheet\">\n",
    "    <title>Data science</title>\n",
    "    <style>\n",
    "        p {\n",
    "            font-family: ;\n",
    "            color: #DCD427;\n",
    "            font-size: 20px;\n",
    "        }\n",
    "    </style>\n",
    "</head>\n",
    "<body>\n",
    "    <div>\n",
    "        <p>max, min, argmax, argmin</p>\n",
    "    </div>\n",
    "</body>\n",
    "</html>"
   ]
  },
  {
   "cell_type": "code",
   "execution_count": 21,
   "id": "e5380d7c",
   "metadata": {},
   "outputs": [
    {
     "name": "stdout",
     "output_type": "stream",
     "text": [
      "[ 8 11  5  5  2  1  9  0 13 11 12 10  3 14  0  2  4  0 12 10]\n"
     ]
    },
    {
     "data": {
      "text/plain": [
       "np.int32(14)"
      ]
     },
     "execution_count": 21,
     "metadata": {},
     "output_type": "execute_result"
    }
   ],
   "source": [
    "print(randarr)\n",
    "randarr.max()"
   ]
  },
  {
   "cell_type": "code",
   "execution_count": 22,
   "id": "6ba95851",
   "metadata": {},
   "outputs": [
    {
     "name": "stdout",
     "output_type": "stream",
     "text": [
      "[ 8 11  5  5  2  1  9  0 13 11 12 10  3 14  0  2  4  0 12 10]\n"
     ]
    },
    {
     "data": {
      "text/plain": [
       "np.int32(0)"
      ]
     },
     "execution_count": 22,
     "metadata": {},
     "output_type": "execute_result"
    }
   ],
   "source": [
    "print(randarr)\n",
    "randarr.min()"
   ]
  },
  {
   "cell_type": "code",
   "execution_count": 23,
   "id": "60039723",
   "metadata": {},
   "outputs": [
    {
     "name": "stdout",
     "output_type": "stream",
     "text": [
      "[ 8 11  5  5  2  1  9  0 13 11 12 10  3 14  0  2  4  0 12 10]\n"
     ]
    },
    {
     "data": {
      "text/plain": [
       "np.int64(13)"
      ]
     },
     "execution_count": 23,
     "metadata": {},
     "output_type": "execute_result"
    }
   ],
   "source": [
    "print(randarr)\n",
    "randarr.argmax()"
   ]
  },
  {
   "cell_type": "code",
   "execution_count": 24,
   "id": "ec573ccc",
   "metadata": {},
   "outputs": [
    {
     "name": "stdout",
     "output_type": "stream",
     "text": [
      "[ 8 11  5  5  2  1  9  0 13 11 12 10  3 14  0  2  4  0 12 10]\n"
     ]
    },
    {
     "data": {
      "text/plain": [
       "np.int64(7)"
      ]
     },
     "execution_count": 24,
     "metadata": {},
     "output_type": "execute_result"
    }
   ],
   "source": [
    "print(randarr)\n",
    "randarr.argmin()"
   ]
  }
 ],
 "metadata": {
  "kernelspec": {
   "display_name": "base",
   "language": "python",
   "name": "python3"
  },
  "language_info": {
   "codemirror_mode": {
    "name": "ipython",
    "version": 3
   },
   "file_extension": ".py",
   "mimetype": "text/x-python",
   "name": "python",
   "nbconvert_exporter": "python",
   "pygments_lexer": "ipython3",
   "version": "3.13.5"
  }
 },
 "nbformat": 4,
 "nbformat_minor": 5
}
