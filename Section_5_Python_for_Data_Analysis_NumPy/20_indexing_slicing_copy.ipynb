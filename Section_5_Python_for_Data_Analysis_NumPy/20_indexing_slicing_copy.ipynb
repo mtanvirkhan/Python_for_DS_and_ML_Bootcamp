{
 "cells": [
  {
   "cell_type": "markdown",
   "id": "9cb2e85f",
   "metadata": {},
   "source": [
    "<!DOCTYPE html>\n",
    "<html lang=\"en\">\n",
    "<head>\n",
    "    <meta charset=\"UTF-8\">\n",
    "    <meta name=\"viewport\" content=\"width=device-width, initial-scale=1.0\">\n",
    "    <title>Document</title>\n",
    "    <style>\n",
    "        h3 {\n",
    "            font-family: monospace;\n",
    "            color: #DCD427\n",
    "        }\n",
    "        li {\n",
    "            font-family: monospace;\n",
    "            color: #DCD427;\n",
    "            font-size: 22px\n",
    "        }\n",
    "        ul li {\n",
    "            list-style-type: none;\n",
    "            padding-left: 0;\n",
    "            font-size: 18px;\n",
    "        }\n",
    "        strong {\n",
    "            font-size: 18px;\n",
    "            color: #c55955\n",
    "        }\n",
    "    </style>\n",
    "</head>\n",
    "<body>\n",
    "    <h3>Course topic</h3>\n",
    "    <div>\n",
    "        <li>NumPy Indexing, Selection, Copy</li>\n",
    "    </div>\n",
    "</body>\n",
    "</html>"
   ]
  },
  {
   "cell_type": "code",
   "execution_count": 3,
   "id": "fe4d6956",
   "metadata": {},
   "outputs": [],
   "source": [
    "import numpy as np"
   ]
  },
  {
   "cell_type": "markdown",
   "id": "0b83c34f",
   "metadata": {},
   "source": [
    "<!DOCTYPE html>\n",
    "<html lang=\"en\">\n",
    "<head>\n",
    "    <meta charset=\"UTF-8\">\n",
    "    <meta name=\"viewport\" content=\"width=device-width, initial-scale=1.0\">\n",
    "    <link rel=\"preconnect\" href=\"https://fonts.googleapis.com\">\n",
    "    <link rel=\"preconnect\" href=\"https://fonts.gstatic.com\" crossorigin>\n",
    "    <link href=\"https://fonts.googleapis.com/css2?family=M+PLUS+Code+Latin:wght@100..700&family=M+PLUS+Rounded+1c&family=Roboto+Mono:ital,wght@0,100..700;1,100..700&family=Rubik:wght@300..900&display=swap\" rel=\"stylesheet\">\n",
    "    <title>Data science</title>\n",
    "    <style>\n",
    "        p {\n",
    "            font-family: ;\n",
    "            color: #DCD427;\n",
    "            font-size: 18px;\n",
    "        }\n",
    "    </style>\n",
    "</head>\n",
    "<body>\n",
    "    <div>\n",
    "        <p>indexing</p>\n",
    "    </div>\n",
    "</body>\n",
    "</html>"
   ]
  },
  {
   "cell_type": "code",
   "execution_count": 4,
   "id": "477d0634",
   "metadata": {},
   "outputs": [
    {
     "data": {
      "text/plain": [
       "array([0, 1, 2, 3, 4, 5, 6, 7, 8, 9])"
      ]
     },
     "execution_count": 4,
     "metadata": {},
     "output_type": "execute_result"
    }
   ],
   "source": [
    "arr = np.arange(0,10)\n",
    "arr"
   ]
  },
  {
   "cell_type": "code",
   "execution_count": 5,
   "id": "085fa9de",
   "metadata": {},
   "outputs": [
    {
     "data": {
      "text/plain": [
       "np.int64(4)"
      ]
     },
     "execution_count": 5,
     "metadata": {},
     "output_type": "execute_result"
    }
   ],
   "source": [
    "arr[4]"
   ]
  },
  {
   "cell_type": "code",
   "execution_count": 31,
   "id": "178f643b",
   "metadata": {},
   "outputs": [
    {
     "data": {
      "text/plain": [
       "array([3, 9, 9, 8, 3, 3, 1, 9, 5, 6], dtype=int32)"
      ]
     },
     "execution_count": 31,
     "metadata": {},
     "output_type": "execute_result"
    }
   ],
   "source": [
    "arr_rand = np.random.randint(1,10, 10)\n",
    "arr_rand"
   ]
  },
  {
   "cell_type": "code",
   "execution_count": 33,
   "id": "ccebbba5",
   "metadata": {},
   "outputs": [
    {
     "name": "stdout",
     "output_type": "stream",
     "text": [
      "9\n",
      "5\n"
     ]
    }
   ],
   "source": [
    "print(arr_rand[2])\n",
    "print(arr_rand[8])"
   ]
  },
  {
   "cell_type": "markdown",
   "id": "1aaacff8",
   "metadata": {},
   "source": [
    "<!DOCTYPE html>\n",
    "<html lang=\"en\">\n",
    "<head>\n",
    "    <meta charset=\"UTF-8\">\n",
    "    <meta name=\"viewport\" content=\"width=device-width, initial-scale=1.0\">\n",
    "    <link rel=\"preconnect\" href=\"https://fonts.googleapis.com\">\n",
    "    <link rel=\"preconnect\" href=\"https://fonts.gstatic.com\" crossorigin>\n",
    "    <link href=\"https://fonts.googleapis.com/css2?family=M+PLUS+Code+Latin:wght@100..700&family=M+PLUS+Rounded+1c&family=Roboto+Mono:ital,wght@0,100..700;1,100..700&family=Rubik:wght@300..900&display=swap\" rel=\"stylesheet\">\n",
    "    <title>Data science</title>\n",
    "    <style>\n",
    "        div {\n",
    "            font-family: 'Roboto Mono';\n",
    "        }\n",
    "        p {\n",
    "            color: #DCD427;\n",
    "            font-size: 18px;\n",
    "        }\n",
    "        .note {\n",
    "            font-size: 14px;\n",
    "        }\n",
    "    </style>\n",
    "</head>\n",
    "<body>\n",
    "    <div>\n",
    "        <p>slicing 1D</p>\n",
    "        <p class='note'>array[start:stop-1] - returns elements from start index up to, but not including, stop index</p>\n",
    "    </div>\n",
    "</body>\n",
    "</html>"
   ]
  },
  {
   "cell_type": "code",
   "execution_count": 6,
   "id": "5eb46631",
   "metadata": {},
   "outputs": [
    {
     "data": {
      "text/plain": [
       "array([1, 2, 3, 4])"
      ]
     },
     "execution_count": 6,
     "metadata": {},
     "output_type": "execute_result"
    }
   ],
   "source": [
    "arr[1:5]"
   ]
  },
  {
   "cell_type": "code",
   "execution_count": 7,
   "id": "509b8377",
   "metadata": {},
   "outputs": [
    {
     "data": {
      "text/plain": [
       "array([0, 1, 2, 3, 4, 5])"
      ]
     },
     "execution_count": 7,
     "metadata": {},
     "output_type": "execute_result"
    }
   ],
   "source": [
    "arr[:6]"
   ]
  },
  {
   "cell_type": "code",
   "execution_count": 8,
   "id": "f9bdec21",
   "metadata": {},
   "outputs": [
    {
     "data": {
      "text/plain": [
       "array([0, 1, 2, 3, 4, 5, 6, 7, 8, 9])"
      ]
     },
     "execution_count": 8,
     "metadata": {},
     "output_type": "execute_result"
    }
   ],
   "source": [
    "arr[0:]"
   ]
  },
  {
   "cell_type": "code",
   "execution_count": 9,
   "id": "01e6e85f",
   "metadata": {},
   "outputs": [
    {
     "data": {
      "text/plain": [
       "array([5, 6, 7, 8, 9])"
      ]
     },
     "execution_count": 9,
     "metadata": {},
     "output_type": "execute_result"
    }
   ],
   "source": [
    "arr[5:]"
   ]
  },
  {
   "cell_type": "code",
   "execution_count": 10,
   "id": "73dc1e8e",
   "metadata": {},
   "outputs": [
    {
     "data": {
      "text/plain": [
       "array([0, 1, 2, 3, 4])"
      ]
     },
     "execution_count": 10,
     "metadata": {},
     "output_type": "execute_result"
    }
   ],
   "source": [
    "arr[:5]"
   ]
  },
  {
   "cell_type": "code",
   "execution_count": 29,
   "id": "a327c7bd",
   "metadata": {},
   "outputs": [
    {
     "name": "stdout",
     "output_type": "stream",
     "text": [
      "arr:  [0 1 2 3 4 5 6 7 8 9]\n",
      "arr:  [100 100 100 100 100   5   6   7   8   9]\n",
      "slice_of_arr:  [100 100 100 100 100   5]\n",
      "slice_of_arr:  [0 0 0 0 0 0]\n",
      "arr:  [0 0 0 0 0 0 6 7 8 9]\n"
     ]
    }
   ],
   "source": [
    "arr = np.arange(0, 10)\n",
    "print('arr: ', arr)\n",
    "arr[:5]\n",
    "arr[:5] = 100\n",
    "print('arr: ', arr)\n",
    "slice_of_arr = arr[:6]\n",
    "print('slice_of_arr: ', slice_of_arr)\n",
    "slice_of_arr[:] = 0\n",
    "print('slice_of_arr: ', slice_of_arr)\n",
    "print('arr: ', arr)"
   ]
  },
  {
   "cell_type": "markdown",
   "id": "9b2ca03f",
   "metadata": {},
   "source": [
    "#### Copy functionalities"
   ]
  },
  {
   "cell_type": "code",
   "execution_count": 30,
   "id": "ee34c343",
   "metadata": {},
   "outputs": [
    {
     "name": "stdout",
     "output_type": "stream",
     "text": [
      "arr:  [0 0 0 0 0 0 6 7 8 9]\n",
      "arr_copy:  [0 0 0 0 0 0 6 7 8 9]\n",
      "arr:  [0 0 0 0 0 0 6 7 8 9]\n",
      "arr_copy:  [100 100 100 100 100 100 100   7   8   9]\n",
      "arr:  [0 0 0 0 0 0 6 7 8 9]\n",
      "arr_copy:  [100 100 100 100 100 100 100 100 100 100]\n",
      "arr:  [0 0 0 0 0 0 6 7 8 9]\n"
     ]
    }
   ],
   "source": [
    "print('arr: ', arr) # arr is also modified because slice_of_arr is a view of arr\n",
    "arr_copy = arr.copy() # arr_copy is a copy of arr, not a view\n",
    "print('arr_copy: ', arr_copy) # Modifying arr_copy will not affect arr\n",
    "print('arr: ', arr) # arr remains unchanged\n",
    "arr_copy[:7] = 100 # Modifying arr_copy does not affect arr\n",
    "print('arr_copy: ', arr_copy) # arr_copy is modified\n",
    "print('arr: ', arr) # arr remains unchanged\n",
    "arr_copy[:] = 100 # Modifying arr_copy does not affect arr\n",
    "print('arr_copy: ', arr_copy) # arr_copy is modified\n",
    "print('arr: ', arr) # arr remains unchanged"
   ]
  },
  {
   "cell_type": "code",
   "execution_count": null,
   "id": "39c2f16b",
   "metadata": {},
   "outputs": [],
   "source": []
  }
 ],
 "metadata": {
  "kernelspec": {
   "display_name": "base",
   "language": "python",
   "name": "python3"
  },
  "language_info": {
   "codemirror_mode": {
    "name": "ipython",
    "version": 3
   },
   "file_extension": ".py",
   "mimetype": "text/x-python",
   "name": "python",
   "nbconvert_exporter": "python",
   "pygments_lexer": "ipython3",
   "version": "3.13.5"
  }
 },
 "nbformat": 4,
 "nbformat_minor": 5
}
