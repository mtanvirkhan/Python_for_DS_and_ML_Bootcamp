{
 "cells": [
  {
   "cell_type": "markdown",
   "id": "4ff64163",
   "metadata": {},
   "source": [
    "# NumPy Function Summary with Examples\n",
    "\n",
    "| Function  | Description                                                                                     | Example Code                                     |\n",
    "|-----------|-------------------------------------------------------------------------------------------------|--------------------------------------------------|\n",
    "| `random`  | Generates random numbers in a given shape.                                                      | `np.random.random((2,2))`                         |\n",
    "| `rand`    | Produces an array of random samples from a uniform distribution over `[0, 1)`.                  | `np.random.rand(3, 2)`                            |\n",
    "| `randn`   | Returns samples from the \"standard normal\" distribution with mean 0 and variance 1.             | `np.random.randn(3, 3)`                           |\n",
    "| `randint` | Returns random integers from a specified low to high range.                                     | `np.random.randint(1, 10, size=(2, 3))`           |\n",
    "| `arange`  | Creates an array with evenly spaced values within a given interval.                             | `np.arange(0, 10, 2)`                             |\n",
    "| `arange`  | Creates an array with a range                                                                   | `np.arange(5)`                                    |\n",
    "| `ones`    | Generates an array of the specified shape filled with ones.                                     | `np.ones((2, 3))`                                 |\n",
    "| `zeros`   | Similar to `ones`, but fills the array with zeros.                                              | `np.zeros((2, 3))`                                |\n",
    "| `eye`     | Constructs a 2-D array with ones on the diagonal and zeros elsewhere (identity matrix).         | `np.eye(3)`                                       |\n",
    "| `shape`   | Returns the dimensions of an array as a tuple.                                                  | `arr.shape` where `arr = np.array([[1, 2], [3, 4]])` |\n",
    "| `reshape` | Reshapes an array without changing its data.                                                    | `arr.reshape((4, 1))` where `arr = np.array([1, 2, 3, 4])` |\n",
    "| `linspace`| Generates an array of evenly spaced numbers over a specified interval.                          | `np.linspace(0, 1, 5)`                            |"
   ]
  },
  {
   "cell_type": "markdown",
   "id": "8e36ebd8",
   "metadata": {},
   "source": [
    "# NumPy Function Summary with Outputs\n",
    "\n",
    "| Function  | Example Code                                     | Output                               |\n",
    "|-----------|--------------------------------------------------|--------------------------------------|\n",
    "| `random`  | `np.random.random((2,2))`                        | `array([[0.68, 0.22], [0.33, 0.73]])` (values will vary) |\n",
    "| `rand`    | `np.random.rand(3, 2)`                           | `array([[0.12, 0.85], [0.44, 0.68], [0.53, 0.95]])` (values will vary) |\n",
    "| `randn`   | `np.random.randn(3, 3)`                          | `array([[-0.38, 0.91, -1.05], [0.39, -0.32, 0.75], [-0.15, -0.67, 0.47]])` (values will vary) |\n",
    "| `randint` | `np.random.randint(1, 10, size=(2, 3))`          | `array([[5, 2, 9], [4, 8, 6]])` (values will vary) |\n",
    "| `arange`  | `np.arange(0, 10, 2)`                            | `array([0, 2, 4, 6, 8])`             |\n",
    "| `arange`  | `np.arange(5)`                            | `array([0, 1, 2, 3, 4])`             |\n",
    "| `ones`    | `np.ones((2, 3))`                                | `array([[1., 1., 1.], [1., 1., 1.]])`|\n",
    "| `zeros`   | `np.zeros((2, 3))`                               | `array([[0., 0., 0.], [0., 0., 0.]])`|\n",
    "| `eye`     | `np.eye(3)`                                      | `array([[1., 0., 0.], [0., 1., 0.], [0., 0., 1.]])` |\n",
    "| `shape`   | `arr.shape` where `arr = np.array([[1, 2], [3, 4]])` | `(2, 2)`                           |\n",
    "| `reshape` | `arr.reshape((4, 1))` where `arr = np.array([1, 2, 3, 4])` | `array([[1], [2], [3], [4]])` |\n",
    "| `linspace`| `np.linspace(0, 1, 5)`                           | `array([0., 0.25, 0.5, 0.75, 1.])`   |"
   ]
  },
  {
   "cell_type": "markdown",
   "id": "04bcc6b6",
   "metadata": {},
   "source": [
    "<!DOCTYPE html>\n",
    "<html lang=\"en\">\n",
    "<head>\n",
    "    <meta charset=\"UTF-8\">\n",
    "    <meta name=\"viewport\" content=\"width=device-width, initial-scale=1.0\">\n",
    "    <title>Document</title>\n",
    "    <style>\n",
    "        h3 {\n",
    "            font-family: monospace;\n",
    "            color: #DCD427\n",
    "        }\n",
    "        li {\n",
    "            font-family: monospace;\n",
    "            color: #DCD427;\n",
    "            font-size: 20px\n",
    "        }\n",
    "        strong {\n",
    "            font-size: 16px;\n",
    "            color: #c55955\n",
    "        }\n",
    "    </style>\n",
    "</head>\n",
    "<body>\n",
    "    <h3>Course topic</h3>\n",
    "    <div>\n",
    "        <li>arrange <strong>(one dimentional array)</strong></li>\n",
    "        <li>zeros <strong>(one/two dimentional array)</strong></li>\n",
    "        <li>ones <strong>(one/two dimentional array)</strong></li>\n",
    "        <li>linspace <strong>(one dimentional array)</strong></li>\n",
    "        <li>eye <strong>(one/two dimentional array)</strong></li>\n",
    "    </div>\n",
    "</body>\n",
    "</html>"
   ]
  },
  {
   "cell_type": "code",
   "execution_count": 2,
   "id": "5a429ead",
   "metadata": {},
   "outputs": [],
   "source": [
    "import numpy as np"
   ]
  },
  {
   "cell_type": "markdown",
   "id": "5cda5da5",
   "metadata": {},
   "source": [
    "<!DOCTYPE html>\n",
    "<html lang=\"en\">\n",
    "<head>\n",
    "    <meta charset=\"UTF-8\">\n",
    "    <meta name=\"viewport\" content=\"width=device-width, initial-scale=1.0\">\n",
    "    <title>Document</title>\n",
    "    <style>\n",
    "        h3 {\n",
    "            font-family: monospace;\n",
    "            color: #DCD427;\n",
    "        }\n",
    "    </style>\n",
    "</head>\n",
    "<body>\n",
    "    <h3>arrange, zeros, ones</h3>\n",
    "</body>\n",
    "</html>"
   ]
  },
  {
   "cell_type": "code",
   "execution_count": 3,
   "id": "503b08ed",
   "metadata": {},
   "outputs": [
    {
     "data": {
      "text/plain": [
       "array([0, 1, 2, 3, 4, 5, 6, 7, 8, 9])"
      ]
     },
     "execution_count": 3,
     "metadata": {},
     "output_type": "execute_result"
    }
   ],
   "source": [
    "np.arange(0,10)"
   ]
  },
  {
   "cell_type": "code",
   "execution_count": 4,
   "id": "64b76ea4",
   "metadata": {},
   "outputs": [
    {
     "data": {
      "text/plain": [
       "array([ 0,  1,  2,  3,  4,  5,  6,  7,  8,  9, 10, 11, 12, 13, 14, 15, 16,\n",
       "       17, 18, 19])"
      ]
     },
     "execution_count": 4,
     "metadata": {},
     "output_type": "execute_result"
    }
   ],
   "source": [
    "np.arange(20)"
   ]
  },
  {
   "cell_type": "code",
   "execution_count": 5,
   "id": "be92034d",
   "metadata": {},
   "outputs": [
    {
     "data": {
      "text/plain": [
       "array([ 0,  2,  4,  6,  8, 10])"
      ]
     },
     "execution_count": 5,
     "metadata": {},
     "output_type": "execute_result"
    }
   ],
   "source": [
    "np.arange(0,11,2)"
   ]
  },
  {
   "cell_type": "code",
   "execution_count": 6,
   "id": "16733a9c",
   "metadata": {},
   "outputs": [
    {
     "data": {
      "text/plain": [
       "array([0., 0., 0.])"
      ]
     },
     "execution_count": 6,
     "metadata": {},
     "output_type": "execute_result"
    }
   ],
   "source": [
    "np.zeros(3)"
   ]
  },
  {
   "cell_type": "code",
   "execution_count": 7,
   "id": "92088dc4",
   "metadata": {},
   "outputs": [
    {
     "data": {
      "text/plain": [
       "array([[0., 0., 0.],\n",
       "       [0., 0., 0.],\n",
       "       [0., 0., 0.],\n",
       "       [0., 0., 0.],\n",
       "       [0., 0., 0.]])"
      ]
     },
     "execution_count": 7,
     "metadata": {},
     "output_type": "execute_result"
    }
   ],
   "source": [
    "np.zeros((5,3))"
   ]
  },
  {
   "cell_type": "code",
   "execution_count": 8,
   "id": "76a0e509",
   "metadata": {},
   "outputs": [
    {
     "data": {
      "text/plain": [
       "array([1., 1., 1.])"
      ]
     },
     "execution_count": 8,
     "metadata": {},
     "output_type": "execute_result"
    }
   ],
   "source": [
    "np.ones(3)"
   ]
  },
  {
   "cell_type": "code",
   "execution_count": 9,
   "id": "04300cc4",
   "metadata": {},
   "outputs": [
    {
     "data": {
      "text/plain": [
       "array([[1., 1., 1., 1.],\n",
       "       [1., 1., 1., 1.],\n",
       "       [1., 1., 1., 1.]])"
      ]
     },
     "execution_count": 9,
     "metadata": {},
     "output_type": "execute_result"
    }
   ],
   "source": [
    "np.ones((3,4))"
   ]
  },
  {
   "cell_type": "code",
   "execution_count": 10,
   "id": "0df756b3",
   "metadata": {},
   "outputs": [
    {
     "data": {
      "text/plain": [
       "array([[2., 2., 2., 2.],\n",
       "       [2., 2., 2., 2.],\n",
       "       [2., 2., 2., 2.]])"
      ]
     },
     "execution_count": 10,
     "metadata": {},
     "output_type": "execute_result"
    }
   ],
   "source": [
    "np.ones((3,4)) + np.ones((3,4))"
   ]
  },
  {
   "cell_type": "markdown",
   "id": "a3d33d7d",
   "metadata": {},
   "source": [
    "<!DOCTYPE html>\n",
    "<html lang=\"en\">\n",
    "<head>\n",
    "    <meta charset=\"UTF-8\">\n",
    "    <meta name=\"viewport\" content=\"width=device-width, initial-scale=1.0\">\n",
    "    <title>Document</title>\n",
    "    <style>\n",
    "        h3 {\n",
    "            font-family: monospace;\n",
    "            color: #DCD427;\n",
    "        }\n",
    "    </style>\n",
    "</head>\n",
    "<body>\n",
    "    <h3>linspace</h3>\n",
    "</body>\n",
    "</html>"
   ]
  },
  {
   "cell_type": "markdown",
   "id": "e8126038",
   "metadata": {},
   "source": [
    "<!DOCTYPE html>\n",
    "<html lang=\"en\">\n",
    "<head>\n",
    "  <meta charset=\"UTF-8\">\n",
    "  <title>Math Calculation</title>\n",
    "  <style>\n",
    "    p {\n",
    "      font-family: monospace;\n",
    "      padding: 20px;\n",
    "      background-color: black;\n",
    "      color: white;\n",
    "      font-size: 16px;\n",
    "      color: #DCD427;\n",
    "    }\n",
    "    h4 {\n",
    "      color: #00FFFF;\n",
    "    }\n",
    "  </style>\n",
    "</head>\n",
    "<body>\n",
    "  <h4>Detailed Breakdown:</h4>\n",
    "  <div>\n",
    "    <p> \n",
    "        <b> Calculate the Step Size:</b>\n",
    "        <br>\n",
    "        The step size can be calculated by taking the difference between the stop and start values, and then dividing this by num - 1 (which is the number of intervals).\n",
    "        In your case, <strong>(1 - 0) / (10 - 1) = 1 / 9 ≈ 0.11111111</strong>.\n",
    "    </p>\n",
    "  </div>\n",
    "</body>\n",
    "</html>\n",
    "\n"
   ]
  },
  {
   "cell_type": "code",
   "execution_count": 11,
   "id": "a9a4711b",
   "metadata": {},
   "outputs": [
    {
     "name": "stdout",
     "output_type": "stream",
     "text": [
      "[0.         0.11111111 0.22222222 0.33333333 0.44444444 0.55555556\n",
      " 0.66666667 0.77777778 0.88888889 1.        ]\n"
     ]
    }
   ],
   "source": [
    "# Generate 10 numbers between 0 and 1, not including 1\n",
    "linear_spaced_numbers_without_endpoint = np.linspace(0, 1, num=10)\n",
    "print(linear_spaced_numbers_without_endpoint)"
   ]
  },
  {
   "cell_type": "markdown",
   "id": "c913be09",
   "metadata": {},
   "source": [
    "<!DOCTYPE html>\n",
    "<html lang=\"en\">\n",
    "<head>\n",
    "  <meta charset=\"UTF-8\">\n",
    "  <title>Step Breakdown</title>\n",
    "  <style>\n",
    "    body {\n",
    "      font-family: monospace;\n",
    "      padding: 20px;\n",
    "      background-color: black;\n",
    "      color: white;\n",
    "      font-size: 5px;\n",
    "    }\n",
    "    .step {\n",
    "      font-family: monospace;\n",
    "      margin-bottom: 10px;\n",
    "      padding: 10px;\n",
    "      background-color: #222;\n",
    "      border-left: 4px solid #00BFFF;\n",
    "    }\n",
    "    .step strong {\n",
    "      display: inline-block;\n",
    "      width: 110px;\n",
    "      color: #DCD427;\n",
    "    }\n",
    "    h4 {\n",
    "      font-family: monospace;\n",
    "      color: #00FFFF;\n",
    "    }\n",
    "  </style>\n",
    "</head>\n",
    "<body>\n",
    "  <h4>Detailed Breakdown:</h4>\n",
    "  <div class=\"step\"><strong>First value:</strong> 0 (start point)</div>\n",
    "  <div class=\"step\"><strong>Second value:</strong> 0 + 1 × 1⁄9 ≈ 0.11111111</div>\n",
    "  <div class=\"step\"><strong>Third value:</strong> 0 + 2 × 1⁄9 ≈ 0.22222222</div>\n",
    "  <div class=\"step\"><strong>Fourth value:</strong> 0 + 3 × 1⁄9 ≈ 0.33333333</div>\n",
    "  <div class=\"step\"><strong>Fifth value:</strong> 0 + 4 × 1⁄9 ≈ 0.44444444</div>\n",
    "  <div class=\"step\"><strong>Sixth value:</strong> 0 + 5 × 1⁄9 ≈ 0.55555555</div>\n",
    "  <div class=\"step\"><strong>Seventh value:</strong> 0 + 6 × 1⁄9 ≈ 0.66666666</div>\n",
    "  <div class=\"step\"><strong>Eighth value:</strong> 0 + 7 × 1⁄9 ≈ 0.77777777</div>\n",
    "  <div class=\"step\"><strong>Ninth value:</strong> 0 + 8 × 1⁄9 ≈ 0.88888888</div>\n",
    "  <div class=\"step\"><strong>Tenth value:</strong> 0 + 9 × 1⁄9 = 1.0 (end point)</div>\n",
    "</body>\n",
    "</html>\n"
   ]
  },
  {
   "cell_type": "code",
   "execution_count": 12,
   "id": "e8b0d514",
   "metadata": {},
   "outputs": [
    {
     "name": "stdout",
     "output_type": "stream",
     "text": [
      "[0.         0.05050505 0.1010101  0.15151515 0.2020202  0.25252525\n",
      " 0.3030303  0.35353535 0.4040404  0.45454545 0.50505051 0.55555556\n",
      " 0.60606061 0.65656566 0.70707071 0.75757576 0.80808081 0.85858586\n",
      " 0.90909091 0.95959596 1.01010101 1.06060606 1.11111111 1.16161616\n",
      " 1.21212121 1.26262626 1.31313131 1.36363636 1.41414141 1.46464646\n",
      " 1.51515152 1.56565657 1.61616162 1.66666667 1.71717172 1.76767677\n",
      " 1.81818182 1.86868687 1.91919192 1.96969697 2.02020202 2.07070707\n",
      " 2.12121212 2.17171717 2.22222222 2.27272727 2.32323232 2.37373737\n",
      " 2.42424242 2.47474747 2.52525253 2.57575758 2.62626263 2.67676768\n",
      " 2.72727273 2.77777778 2.82828283 2.87878788 2.92929293 2.97979798\n",
      " 3.03030303 3.08080808 3.13131313 3.18181818 3.23232323 3.28282828\n",
      " 3.33333333 3.38383838 3.43434343 3.48484848 3.53535354 3.58585859\n",
      " 3.63636364 3.68686869 3.73737374 3.78787879 3.83838384 3.88888889\n",
      " 3.93939394 3.98989899 4.04040404 4.09090909 4.14141414 4.19191919\n",
      " 4.24242424 4.29292929 4.34343434 4.39393939 4.44444444 4.49494949\n",
      " 4.54545455 4.5959596  4.64646465 4.6969697  4.74747475 4.7979798\n",
      " 4.84848485 4.8989899  4.94949495 5.        ]\n"
     ]
    }
   ],
   "source": [
    "linear_spaced_numbers = np.linspace(0, 5, 100)\n",
    "print(linear_spaced_numbers)"
   ]
  },
  {
   "cell_type": "code",
   "execution_count": 13,
   "id": "c93f9af3",
   "metadata": {},
   "outputs": [
    {
     "name": "stdout",
     "output_type": "stream",
     "text": [
      "(array([0.  , 0.25, 0.5 , 0.75, 1.  ]), np.float64(0.25))\n"
     ]
    }
   ],
   "source": [
    "# Generate numbers between 0 and 1, returning the step size as well\n",
    "linear_spaced_numbers_with_step = np.linspace(0, 1, num=5, retstep=True)\n",
    "print(linear_spaced_numbers_with_step)"
   ]
  },
  {
   "cell_type": "code",
   "execution_count": 14,
   "id": "70b02498",
   "metadata": {},
   "outputs": [
    {
     "name": "stdout",
     "output_type": "stream",
     "text": [
      "[0.         0.55555556 1.11111111 1.66666667 2.22222222 2.77777778\n",
      " 3.33333333 3.88888889 4.44444444 5.        ]\n"
     ]
    }
   ],
   "source": [
    "linear_spaced_numbers_with_step = np.linspace(0, 5, num=10)\n",
    "print(linear_spaced_numbers_with_step)"
   ]
  },
  {
   "cell_type": "markdown",
   "id": "a86ec1d4",
   "metadata": {},
   "source": [
    "<!DOCTYPE html>\n",
    "<html lang=\"en\">\n",
    "<head>\n",
    "    <meta charset=\"UTF-8\">\n",
    "    <meta name=\"viewport\" content=\"width=device-width, initial-scale=1.0\">\n",
    "    <title>Document</title>\n",
    "    <style>\n",
    "        h3 {\n",
    "            font-family: monospace;\n",
    "            color: #DCD427;\n",
    "        }\n",
    "    </style>\n",
    "</head>\n",
    "<body>\n",
    "    <h3>eye</h3>\n",
    "</body>\n",
    "</html>"
   ]
  },
  {
   "cell_type": "code",
   "execution_count": 15,
   "id": "06ad6d2b",
   "metadata": {},
   "outputs": [
    {
     "data": {
      "text/plain": [
       "array([[1., 0., 0., 0., 0.],\n",
       "       [0., 1., 0., 0., 0.],\n",
       "       [0., 0., 1., 0., 0.],\n",
       "       [0., 0., 0., 1., 0.],\n",
       "       [0., 0., 0., 0., 1.]])"
      ]
     },
     "execution_count": 15,
     "metadata": {},
     "output_type": "execute_result"
    }
   ],
   "source": [
    "# Diagonal matrix with 1s on the diagonal\n",
    "np.eye(5)"
   ]
  }
 ],
 "metadata": {
  "kernelspec": {
   "display_name": "base",
   "language": "python",
   "name": "python3"
  },
  "language_info": {
   "codemirror_mode": {
    "name": "ipython",
    "version": 3
   },
   "file_extension": ".py",
   "mimetype": "text/x-python",
   "name": "python",
   "nbconvert_exporter": "python",
   "pygments_lexer": "ipython3",
   "version": "3.13.5"
  }
 },
 "nbformat": 4,
 "nbformat_minor": 5
}
