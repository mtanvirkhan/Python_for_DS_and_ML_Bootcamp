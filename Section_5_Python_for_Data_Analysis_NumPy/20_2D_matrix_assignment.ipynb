{
 "cells": [
  {
   "cell_type": "markdown",
   "id": "a2c06336",
   "metadata": {},
   "source": [
    "<!DOCTYPE html>\n",
    "<html lang=\"en\">\n",
    "<head>\n",
    "    <meta charset=\"UTF-8\">\n",
    "    <meta name=\"viewport\" content=\"width=device-width, initial-scale=1.0\">\n",
    "    <title>Document</title>\n",
    "    <style>\n",
    "        h3 {\n",
    "            font-family: monospace;\n",
    "            color: #DCD427\n",
    "        }\n",
    "        li {\n",
    "            font-family: monospace;\n",
    "            color: #DCD427;\n",
    "            font-size: 22px\n",
    "        }\n",
    "        ul li {\n",
    "            list-style-type: none;\n",
    "            padding-left: 0;\n",
    "            font-size: 18px;\n",
    "        }\n",
    "        strong {\n",
    "            font-size: 18px;\n",
    "            color: #c55955\n",
    "        }\n",
    "    </style>\n",
    "</head>\n",
    "<body>\n",
    "    <h3>Course topic</h3>\n",
    "    <div>\n",
    "        <li>2D matrix assignment of slicing</li>\n",
    "    </div>\n",
    "</body>\n",
    "</html>"
   ]
  },
  {
   "cell_type": "code",
   "execution_count": 3,
   "id": "4669e706",
   "metadata": {},
   "outputs": [],
   "source": [
    "import numpy as np"
   ]
  },
  {
   "cell_type": "code",
   "execution_count": 7,
   "id": "93fd22c7",
   "metadata": {},
   "outputs": [
    {
     "data": {
      "text/plain": [
       "array([ 0,  1,  2,  3,  4,  5,  6,  7,  8,  9, 10, 11, 12, 13, 14, 15, 16,\n",
       "       17, 18, 19, 20, 21, 22, 23, 24, 25, 26, 27, 28, 29, 30, 31, 32, 33,\n",
       "       34, 35, 36, 37, 38, 39, 40, 41, 42, 43, 44, 45, 46, 47, 48, 49])"
      ]
     },
     "execution_count": 7,
     "metadata": {},
     "output_type": "execute_result"
    }
   ],
   "source": [
    "arr_2D = np.arange(50)\n",
    "arr_2D"
   ]
  },
  {
   "cell_type": "code",
   "execution_count": 8,
   "id": "59e2823e",
   "metadata": {},
   "outputs": [
    {
     "data": {
      "text/plain": [
       "array([[ 0,  1,  2,  3,  4,  5,  6,  7,  8,  9],\n",
       "       [10, 11, 12, 13, 14, 15, 16, 17, 18, 19],\n",
       "       [20, 21, 22, 23, 24, 25, 26, 27, 28, 29],\n",
       "       [30, 31, 32, 33, 34, 35, 36, 37, 38, 39],\n",
       "       [40, 41, 42, 43, 44, 45, 46, 47, 48, 49]])"
      ]
     },
     "execution_count": 8,
     "metadata": {},
     "output_type": "execute_result"
    }
   ],
   "source": [
    "arr_2D = np.arange(50).reshape(5, 10)\n",
    "arr_2D"
   ]
  },
  {
   "cell_type": "code",
   "execution_count": null,
   "id": "69f78573",
   "metadata": {},
   "outputs": [
    {
     "name": "stdout",
     "output_type": "stream",
     "text": [
      "4th row, 2nd:5th column: [[31 32 33 34]]\n"
     ]
    }
   ],
   "source": [
    "print(f'4th row, 2nd:5th column: \\n {arr_2D[3:4, 1:5]}')"
   ]
  },
  {
   "cell_type": "code",
   "execution_count": 12,
   "id": "2b9e6572",
   "metadata": {},
   "outputs": [
    {
     "name": "stdout",
     "output_type": "stream",
     "text": [
      "2nd:3rd row, 4th:5th column: \n",
      " [[13 14]\n",
      " [23 24]]\n"
     ]
    }
   ],
   "source": [
    "print(f'2nd:3rd row, 4th:5th column: \\n {arr_2D[1:3, 3:5]}')"
   ]
  },
  {
   "cell_type": "code",
   "execution_count": null,
   "id": "19379187",
   "metadata": {},
   "outputs": [],
   "source": []
  }
 ],
 "metadata": {
  "kernelspec": {
   "display_name": "base",
   "language": "python",
   "name": "python3"
  },
  "language_info": {
   "codemirror_mode": {
    "name": "ipython",
    "version": 3
   },
   "file_extension": ".py",
   "mimetype": "text/x-python",
   "name": "python",
   "nbconvert_exporter": "python",
   "pygments_lexer": "ipython3",
   "version": "3.13.5"
  }
 },
 "nbformat": 4,
 "nbformat_minor": 5
}
