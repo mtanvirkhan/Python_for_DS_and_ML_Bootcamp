{
 "cells": [
  {
   "cell_type": "markdown",
   "id": "3fdfa37d",
   "metadata": {},
   "source": [
    "<!DOCTYPE html>\n",
    "<html lang=\"en\">\n",
    "<head>\n",
    "    <meta charset=\"UTF-8\">\n",
    "    <meta name=\"viewport\" content=\"width=device-width, initial-scale=1.0\">\n",
    "    <title>Document</title>\n",
    "    <style>\n",
    "        h3 {\n",
    "            font-family: monospace;\n",
    "            color: #DCD427\n",
    "        }\n",
    "        li {\n",
    "            font-family: monospace;\n",
    "            color: #c55955;\n",
    "            font-size: 18px\n",
    "            list-style-type: none;\n",
    "            padding-left: 0;\n",
    "        }\n",
    "    </style>\n",
    "</head>\n",
    "<body>\n",
    "    <h3>NumPy Operations</h3>\n",
    "    <div>\n",
    "        <li>Array with Array</li>\n",
    "        <li>Array with Scalars</li>\n",
    "        <li><a link='https://numpy.org/doc/stable/reference/ufuncs.html'>Universal Array Functions</a></li>\n",
    "    </div>\n",
    "</body>\n",
    "</html>"
   ]
  },
  {
   "cell_type": "code",
   "execution_count": 3,
   "id": "af33598e",
   "metadata": {},
   "outputs": [],
   "source": [
    "import numpy as np"
   ]
  },
  {
   "cell_type": "markdown",
   "id": "175cf11d",
   "metadata": {},
   "source": [
    "<!DOCTYPE html>\n",
    "<html lang=\"en\">\n",
    "<head>\n",
    "    <meta charset=\"UTF-8\">\n",
    "    <meta name=\"viewport\" content=\"width=device-width, initial-scale=1.0\">\n",
    "    <title>Document</title>\n",
    "    <style>\n",
    "        h3 {\n",
    "            font-family: monospace;\n",
    "            color: #DCD427\n",
    "        }\n",
    "        li {\n",
    "            font-family: monospace;\n",
    "            color: #c55955;\n",
    "            font-size: 18px\n",
    "            list-style-type: none;\n",
    "            padding-left: 0;\n",
    "        }\n",
    "    </style>\n",
    "</head>\n",
    "<body>\n",
    "    <div>\n",
    "        <li>Array with Array</li>\n",
    "        <li>Array with Scalars</li>\n",
    "    </div>\n",
    "</body>\n",
    "</html>"
   ]
  },
  {
   "cell_type": "code",
   "execution_count": 4,
   "id": "625ccaa7",
   "metadata": {},
   "outputs": [
    {
     "data": {
      "text/plain": [
       "array([ 0,  1,  2,  3,  4,  5,  6,  7,  8,  9, 10])"
      ]
     },
     "execution_count": 4,
     "metadata": {},
     "output_type": "execute_result"
    }
   ],
   "source": [
    "arr = np.arange(11)\n",
    "arr"
   ]
  },
  {
   "cell_type": "code",
   "execution_count": 14,
   "id": "e4bb58b0",
   "metadata": {},
   "outputs": [
    {
     "name": "stdout",
     "output_type": "stream",
     "text": [
      "arr: [ 0  1  2  3  4  5  6  7  8  9 10]\n",
      "arr + arr: [ 0  2  4  6  8 10 12 14 16 18 20]\n",
      "arr - arr: [0 0 0 0 0 0 0 0 0 0 0]\n",
      "arr * arr: [  0   1   4   9  16  25  36  49  64  81 100]\n",
      "arr / arr: [nan  1.  1.  1.  1.  1.  1.  1.  1.  1.  1.]\n",
      "arr + 100: [100 101 102 103 104 105 106 107 108 109 110]\n",
      "arr * 100: [   0  100  200  300  400  500  600  700  800  900 1000]\n",
      "1 / arr: [       inf 1.         0.5        0.33333333 0.25       0.2\n",
      " 0.16666667 0.14285714 0.125      0.11111111 0.1       ]\n",
      "arr ** 2: [  0   1   4   9  16  25  36  49  64  81 100]\n"
     ]
    },
    {
     "name": "stderr",
     "output_type": "stream",
     "text": [
      "C:\\Users\\mtanv\\AppData\\Local\\Temp\\ipykernel_19448\\2566364177.py:5: RuntimeWarning: invalid value encountered in divide\n",
      "  print(f'arr / arr: {arr / arr}')\n",
      "C:\\Users\\mtanv\\AppData\\Local\\Temp\\ipykernel_19448\\2566364177.py:8: RuntimeWarning: divide by zero encountered in divide\n",
      "  print(f'1 / arr: {1 / arr}')\n"
     ]
    }
   ],
   "source": [
    "print(f'arr: {arr}')\n",
    "print(f'arr + arr: {arr + arr}')\n",
    "print(f'arr - arr: {arr - arr}')\n",
    "print(f'arr * arr: {arr * arr}')\n",
    "print(f'arr / arr: {arr / arr}')\n",
    "print(f'arr + 100: {arr + 100}')\n",
    "print(f'arr * 100: {arr * 100}')\n",
    "print(f'1 / arr: {1 / arr}')\n",
    "print(f'arr ** 2: {arr ** 2}')"
   ]
  },
  {
   "cell_type": "markdown",
   "id": "b71778aa",
   "metadata": {},
   "source": [
    "<!DOCTYPE html>\n",
    "<html lang=\"en\">\n",
    "<head>\n",
    "    <meta charset=\"UTF-8\">\n",
    "    <meta name=\"viewport\" content=\"width=device-width, initial-scale=1.0\">\n",
    "    <title>Document</title>\n",
    "    <style>\n",
    "        h3 {\n",
    "            font-family: monospace;\n",
    "            color: #DCD427\n",
    "        }\n",
    "        p {\n",
    "            font-family: monospace;\n",
    "            color: #c55955;\n",
    "            font-size: 18px\n",
    "            list-style-type: none;\n",
    "            padding-left: 0;\n",
    "        }\n",
    "    </style>\n",
    "</head>\n",
    "<body>\n",
    "    <div>\n",
    "        <p><a link='https://numpy.org/doc/stable/reference/ufuncs.html'>Universal Array Functions</a></p>\n",
    "    </div>\n",
    "</body>\n",
    "</html>"
   ]
  },
  {
   "cell_type": "code",
   "execution_count": 21,
   "id": "985b5a5c",
   "metadata": {},
   "outputs": [
    {
     "name": "stdout",
     "output_type": "stream",
     "text": [
      "np.sqrt(arr): [0.         1.         1.41421356 1.73205081 2.         2.23606798\n",
      " 2.44948974 2.64575131 2.82842712 3.         3.16227766]\n",
      "\n",
      "\n",
      "np.exp(arr): [1.00000000e+00 2.71828183e+00 7.38905610e+00 2.00855369e+01\n",
      " 5.45981500e+01 1.48413159e+02 4.03428793e+02 1.09663316e+03\n",
      " 2.98095799e+03 8.10308393e+03 2.20264658e+04]\n",
      "\n",
      "\n",
      "np.max(arr): 10\n",
      "\n",
      "\n",
      "np.min(arr): 0\n",
      "\n",
      "\n",
      "np.sin(arr): [ 0.          0.84147098  0.90929743  0.14112001 -0.7568025  -0.95892427\n",
      " -0.2794155   0.6569866   0.98935825  0.41211849 -0.54402111]\n",
      "\n",
      "\n",
      "np.log(arr): [      -inf 0.         0.69314718 1.09861229 1.38629436 1.60943791\n",
      " 1.79175947 1.94591015 2.07944154 2.19722458 2.30258509]\n"
     ]
    },
    {
     "name": "stderr",
     "output_type": "stream",
     "text": [
      "C:\\Users\\mtanv\\AppData\\Local\\Temp\\ipykernel_19448\\2265186216.py:11: RuntimeWarning: divide by zero encountered in log\n",
      "  print(f'np.log(arr): {np.log(arr)}')\n"
     ]
    }
   ],
   "source": [
    "print(f'np.sqrt(arr): {np.sqrt(arr)}')\n",
    "print('\\n')\n",
    "print(f'np.exp(arr): {np.exp(arr)}')\n",
    "print('\\n')\n",
    "print(f'np.max(arr): {np.max(arr)}')\n",
    "print('\\n')\n",
    "print(f'np.min(arr): {np.min(arr)}')\n",
    "print('\\n')\n",
    "print(f'np.sin(arr): {np.sin(arr)}')\n",
    "print('\\n')\n",
    "print(f'np.log(arr): {np.log(arr)}')"
   ]
  },
  {
   "cell_type": "code",
   "execution_count": null,
   "id": "958f7469",
   "metadata": {},
   "outputs": [],
   "source": []
  }
 ],
 "metadata": {
  "kernelspec": {
   "display_name": "base",
   "language": "python",
   "name": "python3"
  },
  "language_info": {
   "codemirror_mode": {
    "name": "ipython",
    "version": 3
   },
   "file_extension": ".py",
   "mimetype": "text/x-python",
   "name": "python",
   "nbconvert_exporter": "python",
   "pygments_lexer": "ipython3",
   "version": "3.13.5"
  }
 },
 "nbformat": 4,
 "nbformat_minor": 5
}
