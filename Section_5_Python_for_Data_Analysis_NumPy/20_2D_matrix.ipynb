{
 "cells": [
  {
   "cell_type": "markdown",
   "id": "0e31bdf1",
   "metadata": {},
   "source": [
    "<!DOCTYPE html>\n",
    "<html lang=\"en\">\n",
    "<head>\n",
    "    <meta charset=\"UTF-8\">\n",
    "    <meta name=\"viewport\" content=\"width=device-width, initial-scale=1.0\">\n",
    "    <title>Document</title>\n",
    "    <style>\n",
    "        h3 {\n",
    "            font-family: monospace;\n",
    "            color: #DCD427\n",
    "        }\n",
    "        li {\n",
    "            font-family: monospace;\n",
    "            color: #DCD427;\n",
    "            font-size: 22px\n",
    "        }\n",
    "        ul li {\n",
    "            list-style-type: none;\n",
    "            padding-left: 0;\n",
    "            font-size: 18px;\n",
    "        }\n",
    "        strong {\n",
    "            font-size: 18px;\n",
    "            color: #c55955\n",
    "        }\n",
    "    </style>\n",
    "</head>\n",
    "<body>\n",
    "    <h3>Course topic</h3>\n",
    "    <div>\n",
    "        <li>2D matrix</li>\n",
    "    </div>\n",
    "</body>\n",
    "</html>"
   ]
  },
  {
   "cell_type": "code",
   "execution_count": 1,
   "id": "c53f316d",
   "metadata": {},
   "outputs": [],
   "source": [
    "import numpy as np"
   ]
  },
  {
   "cell_type": "code",
   "execution_count": 2,
   "id": "31a38149",
   "metadata": {},
   "outputs": [
    {
     "data": {
      "text/plain": [
       "array([[ 5, 10, 15],\n",
       "       [20, 25, 30],\n",
       "       [35, 40, 45],\n",
       "       [50, 55, 60],\n",
       "       [65, 70, 75]])"
      ]
     },
     "execution_count": 2,
     "metadata": {},
     "output_type": "execute_result"
    }
   ],
   "source": [
    "arr_2D = np.array([[5,10,15],[20,25,30],[35,40,45],[50,55,60],[65,70,75]])\n",
    "arr_2D"
   ]
  },
  {
   "cell_type": "code",
   "execution_count": 3,
   "id": "f2f90d9f",
   "metadata": {},
   "outputs": [
    {
     "name": "stdout",
     "output_type": "stream",
     "text": [
      "[ 5 10 15]\n",
      "[20 25 30]\n",
      "[35 40 45]\n"
     ]
    }
   ],
   "source": [
    "# Row information\n",
    "print(arr_2D[0])\n",
    "print(arr_2D[1])\n",
    "print(arr_2D[2])"
   ]
  },
  {
   "cell_type": "code",
   "execution_count": 4,
   "id": "c5e81186",
   "metadata": {},
   "outputs": [
    {
     "name": "stdout",
     "output_type": "stream",
     "text": [
      "(5, 3)\n",
      "5\n",
      "3\n"
     ]
    }
   ],
   "source": [
    "# shape output are coming in tupple format, so need to extract the tupple output and use as range\n",
    "print(arr_2D.shape)\n",
    "print(arr_2D.shape[0])\n",
    "print(arr_2D.shape[1])"
   ]
  },
  {
   "cell_type": "code",
   "execution_count": 5,
   "id": "ec4d2f58",
   "metadata": {},
   "outputs": [
    {
     "name": "stdout",
     "output_type": "stream",
     "text": [
      "arr_2D[0][0]: 5\n",
      "arr_2D[0][1]: 10\n",
      "arr_2D[0][2]: 15\n",
      "arr_2D[1][0]: 20\n",
      "arr_2D[1][1]: 25\n",
      "arr_2D[1][2]: 30\n",
      "arr_2D[2][0]: 35\n",
      "arr_2D[2][1]: 40\n",
      "arr_2D[2][2]: 45\n",
      "arr_2D[3][0]: 50\n",
      "arr_2D[3][1]: 55\n",
      "arr_2D[3][2]: 60\n",
      "arr_2D[4][0]: 65\n",
      "arr_2D[4][1]: 70\n",
      "arr_2D[4][2]: 75\n"
     ]
    }
   ],
   "source": [
    "for i in range(arr_2D.shape[0]):\n",
    "    for j in range(arr_2D.shape[1]):\n",
    "        print(f'arr_2D[{i}][{j}]: {arr_2D[i][j]}')"
   ]
  },
  {
   "cell_type": "code",
   "execution_count": 6,
   "id": "c251d311",
   "metadata": {},
   "outputs": [
    {
     "data": {
      "text/plain": [
       "array([[ 5, 10, 15],\n",
       "       [20, 25, 30],\n",
       "       [35, 40, 45],\n",
       "       [50, 55, 60],\n",
       "       [65, 70, 75]])"
      ]
     },
     "execution_count": 6,
     "metadata": {},
     "output_type": "execute_result"
    }
   ],
   "source": [
    "arr_2D"
   ]
  },
  {
   "cell_type": "markdown",
   "id": "c6d4ca9a",
   "metadata": {},
   "source": [
    "<!DOCTYPE html>\n",
    "<html lang=\"en\">\n",
    "<head>\n",
    "    <meta charset=\"UTF-8\">\n",
    "    <meta name=\"viewport\" content=\"width=device-width, initial-scale=1.0\">\n",
    "    <link rel=\"preconnect\" href=\"https://fonts.googleapis.com\">\n",
    "    <link rel=\"preconnect\" href=\"https://fonts.gstatic.com\" crossorigin>\n",
    "    <link href=\"https://fonts.googleapis.com/css2?family=M+PLUS+Code+Latin:wght@100..700&family=M+PLUS+Rounded+1c&family=Roboto+Mono:ital,wght@0,100..700;1,100..700&family=Rubik:wght@300..900&display=swap\" rel=\"stylesheet\">\n",
    "    <title>Data science</title>\n",
    "    <style>\n",
    "        div {\n",
    "            font-family: 'Roboto Mono';\n",
    "        }\n",
    "        p {\n",
    "            color: #DCD427;\n",
    "            font-size: 18px;\n",
    "        }\n",
    "        .note {\n",
    "            font-size: 14px;\n",
    "        }\n",
    "    </style>\n",
    "</head>\n",
    "<body>\n",
    "    <div>\n",
    "        <p>slicing 1D/2D</p>\n",
    "        <p class='note'>array[start:stop-1] - returns elements from start index up to, but not including, stop index</p>\n",
    "    </div>\n",
    "</body>\n",
    "</html>"
   ]
  },
  {
   "cell_type": "code",
   "execution_count": 7,
   "id": "86d6ac8e",
   "metadata": {},
   "outputs": [
    {
     "name": "stdout",
     "output_type": "stream",
     "text": [
      "left-upper-corner: \n",
      " [[ 5 10]\n",
      " [20 25]]\n",
      "right-upper-corner: \n",
      " [[10 15]\n",
      " [25 30]]\n",
      "left-below-corner: \n",
      " [[50 55]\n",
      " [65 70]]\n",
      "right-below-corner: \n",
      " [[55 60]\n",
      " [70 75]]\n"
     ]
    }
   ],
   "source": [
    "print(f'left-upper-corner: \\n {arr_2D[0:2,0:2]}')\n",
    "print(f'right-upper-corner: \\n {arr_2D[0:2,1:3]}')\n",
    "print(f'left-below-corner: \\n {arr_2D[3:5,0:2]}')\n",
    "print(f'right-below-corner: \\n {arr_2D[3:5,1:3]}')"
   ]
  },
  {
   "cell_type": "code",
   "execution_count": 8,
   "id": "c930eb82",
   "metadata": {},
   "outputs": [
    {
     "name": "stdout",
     "output_type": "stream",
     "text": [
      "1st two rows: \n",
      " [[ 5 10 15]\n",
      " [20 25 30]]\n",
      "last two rows: \n",
      " [[50 55 60]\n",
      " [65 70 75]]\n",
      "1st two columns: \n",
      " [[ 5 10]\n",
      " [20 25]\n",
      " [35 40]\n",
      " [50 55]\n",
      " [65 70]]\n",
      "last two columns: \n",
      " [[10 15]\n",
      " [25 30]\n",
      " [40 45]\n",
      " [55 60]\n",
      " [70 75]]\n"
     ]
    }
   ],
   "source": [
    "print(f'1st two rows: \\n {arr_2D[0:2,0:3]}')\n",
    "print(f'last two rows: \\n {arr_2D[3:5,0:3]}')\n",
    "print(f'1st two columns: \\n {arr_2D[0:5,0:2]}')\n",
    "print(f'last two columns: \\n {arr_2D[0:5,1:3]}')"
   ]
  },
  {
   "cell_type": "code",
   "execution_count": 9,
   "id": "aa1aefdd",
   "metadata": {},
   "outputs": [
    {
     "name": "stdout",
     "output_type": "stream",
     "text": [
      "arr_2D: \n",
      " [[ 5 10 15]\n",
      " [20 25 30]\n",
      " [35 40 45]\n",
      " [50 55 60]\n",
      " [65 70 75]]\n",
      "arr_2D 1st row: \n",
      " [[ 5 10 15]]\n",
      "arr_2D 2nd row: \n",
      " [[20 25 30]]\n",
      "arr_2D 5th row: \n",
      " [[65 70 75]]\n",
      "arr_2D 1st column: \n",
      " [[ 5]\n",
      " [20]\n",
      " [35]\n",
      " [50]\n",
      " [65]]\n",
      "arr_2D 2nd column: \n",
      " [[10]\n",
      " [25]\n",
      " [40]\n",
      " [55]\n",
      " [70]]\n",
      "arr_2D 3rd column: \n",
      " [[15]\n",
      " [30]\n",
      " [45]\n",
      " [60]\n",
      " [75]]\n"
     ]
    }
   ],
   "source": [
    "print(f'arr_2D: \\n {arr_2D[0:5, 0:3]}')\n",
    "print(f'arr_2D 1st row: \\n {arr_2D[0:1, 0:3]}')\n",
    "print(f'arr_2D 2nd row: \\n {arr_2D[1:2, 0:3]}')\n",
    "print(f'arr_2D 5th row: \\n {arr_2D[4:5, 0:3]}')\n",
    "print(f'arr_2D 1st column: \\n {arr_2D[0:5, 0:1]}')\n",
    "print(f'arr_2D 2nd column: \\n {arr_2D[0:5, 1:2]}')\n",
    "print(f'arr_2D 3rd column: \\n {arr_2D[0:5, 2:3]}')"
   ]
  },
  {
   "cell_type": "markdown",
   "id": "6a6c146c",
   "metadata": {},
   "source": [
    "<!DOCTYPE html>\n",
    "<html lang=\"en\">\n",
    "<head>\n",
    "    <meta charset=\"UTF-8\">\n",
    "    <meta name=\"viewport\" content=\"width=device-width, initial-scale=1.0\">\n",
    "    <link rel=\"preconnect\" href=\"https://fonts.googleapis.com\">\n",
    "    <link rel=\"preconnect\" href=\"https://fonts.gstatic.com\" crossorigin>\n",
    "    <link href=\"https://fonts.googleapis.com/css2?family=M+PLUS+Code+Latin:wght@100..700&family=M+PLUS+Rounded+1c&family=Roboto+Mono:ital,wght@0,100..700;1,100..700&family=Rubik:wght@300..900&display=swap\" rel=\"stylesheet\">\n",
    "    <title>Data science</title>\n",
    "    <style>\n",
    "        div {\n",
    "            font-family: 'Roboto Mono';\n",
    "        }\n",
    "        p {\n",
    "            color: #DCD427;\n",
    "            font-size: 18px;\n",
    "        }\n",
    "        .note {\n",
    "            font-size: 14px;\n",
    "        }\n",
    "        strong {\n",
    "            font-size: 12px;\n",
    "        }\n",
    "    </style>\n",
    "</head>\n",
    "<body>\n",
    "    <div>\n",
    "        <p>slicing 2D</p>\n",
    "        <p class='note'>Row data show: array_data[i], <strong>i = 0, 1, 2, 3</strong></p>\n",
    "        <p class='note'>Column data show: array_data[:, j], <strong>i = 0, 1, 2, 3</strong></p>\n",
    "    </div>\n",
    "</body>\n",
    "</html>"
   ]
  },
  {
   "cell_type": "code",
   "execution_count": 16,
   "id": "6e48117a",
   "metadata": {},
   "outputs": [
    {
     "data": {
      "text/plain": [
       "array([[ 0,  1,  2,  3],\n",
       "       [ 4,  5,  6,  7],\n",
       "       [ 8,  9, 10, 11],\n",
       "       [12, 13, 14, 15],\n",
       "       [16, 17, 18, 19],\n",
       "       [20, 21, 22, 23],\n",
       "       [24, 25, 26, 27]])"
      ]
     },
     "execution_count": 16,
     "metadata": {},
     "output_type": "execute_result"
    }
   ],
   "source": [
    "arr_2D = np.arange(0,28).reshape(7,4)\n",
    "arr_2D"
   ]
  },
  {
   "cell_type": "code",
   "execution_count": null,
   "id": "62576780",
   "metadata": {},
   "outputs": [
    {
     "name": "stdout",
     "output_type": "stream",
     "text": [
      "Row 0 data: [0 1 2 3]\n",
      "Row 1 data: [4 5 6 7]\n",
      "Row 2 data: [ 8  9 10 11]\n",
      "Row 3 data: [12 13 14 15]\n",
      "Row 4 data: [16 17 18 19]\n",
      "Row 5 data: [20 21 22 23]\n",
      "Row 6 data: [24 25 26 27]\n"
     ]
    }
   ],
   "source": [
    "# All ROW data\n",
    "for i in range(arr_2D.shape[0]):\n",
    "    print(f'Row {i} data: {arr_2D[i]}')"
   ]
  },
  {
   "cell_type": "code",
   "execution_count": 18,
   "id": "5237be5b",
   "metadata": {},
   "outputs": [
    {
     "name": "stdout",
     "output_type": "stream",
     "text": [
      "Column 0 data: [ 0  4  8 12 16 20 24]\n",
      "Column 1 data: [ 1  5  9 13 17 21 25]\n",
      "Column 2 data: [ 2  6 10 14 18 22 26]\n",
      "Column 3 data: [ 3  7 11 15 19 23 27]\n"
     ]
    }
   ],
   "source": [
    "# All COLUMN data\n",
    "for j in range(arr_2D.shape[1]):\n",
    "    print(f'Column {j} data: {arr_2D[:, j]}')"
   ]
  },
  {
   "cell_type": "code",
   "execution_count": null,
   "id": "92aac5a2",
   "metadata": {},
   "outputs": [],
   "source": []
  }
 ],
 "metadata": {
  "kernelspec": {
   "display_name": "base",
   "language": "python",
   "name": "python3"
  },
  "language_info": {
   "codemirror_mode": {
    "name": "ipython",
    "version": 3
   },
   "file_extension": ".py",
   "mimetype": "text/x-python",
   "name": "python",
   "nbconvert_exporter": "python",
   "pygments_lexer": "ipython3",
   "version": "3.13.5"
  }
 },
 "nbformat": 4,
 "nbformat_minor": 5
}
