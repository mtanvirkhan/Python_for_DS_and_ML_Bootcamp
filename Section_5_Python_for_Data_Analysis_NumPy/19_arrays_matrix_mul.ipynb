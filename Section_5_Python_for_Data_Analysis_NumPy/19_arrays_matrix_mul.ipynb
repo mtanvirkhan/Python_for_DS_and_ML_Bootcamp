{
 "cells": [
  {
   "cell_type": "code",
   "execution_count": 1,
   "id": "d871f161",
   "metadata": {},
   "outputs": [],
   "source": [
    "import numpy as np"
   ]
  },
  {
   "cell_type": "markdown",
   "id": "0c99207d",
   "metadata": {},
   "source": [
    "## Arbitrary analysis of list and numpy array"
   ]
  },
  {
   "cell_type": "markdown",
   "id": "680529c6",
   "metadata": {},
   "source": [
    "# Key Differences Table\n",
    "\n",
    "| Feature         | Python List                    | NumPy Array                     |\n",
    "|-----------------|--------------------------------|---------------------------------|\n",
    "| Data Types      | Mixed (any)                    | Homogeneous (all same type)     |\n",
    "| Math Operations | Not supported elementwise      | Supported & efficient           |\n",
    "| Performance     | Slower for big data/math       | Faster, uses C under the hood   |\n",
    "| Functionality   | Flexible, general-purpose      | Specialized for numeric work    |\n",
    "| Built-in        | Yes                            | No (need `import numpy`)        |\n",
    "| Memory Usage    | Higher                         | Lower (for large numbers)       |"
   ]
  },
  {
   "cell_type": "code",
   "execution_count": 2,
   "id": "2e8ffb3b",
   "metadata": {},
   "outputs": [
    {
     "name": "stdout",
     "output_type": "stream",
     "text": [
      "<class 'list'>\n",
      "[1, 2, 3, 4]\n",
      "<class 'numpy.ndarray'>\n"
     ]
    },
    {
     "data": {
      "text/plain": [
       "array([1, 2, 3, 4])"
      ]
     },
     "execution_count": 2,
     "metadata": {},
     "output_type": "execute_result"
    }
   ],
   "source": [
    "list = [1, 2, 3, 4]\n",
    "print(type(list))\n",
    "print(list)\n",
    "arr = np.array(list)\n",
    "print(type(arr))\n",
    "arr"
   ]
  },
  {
   "cell_type": "code",
   "execution_count": 3,
   "id": "f747ca12",
   "metadata": {},
   "outputs": [
    {
     "name": "stdout",
     "output_type": "stream",
     "text": [
      "[1, 2, {'a': 1, 'b': 2}, 4]\n",
      "<class 'numpy.ndarray'>\n"
     ]
    },
    {
     "data": {
      "text/plain": [
       "array([1, 2, {'a': 1, 'b': 2}, 4], dtype=object)"
      ]
     },
     "execution_count": 3,
     "metadata": {},
     "output_type": "execute_result"
    }
   ],
   "source": [
    "# need to check the data consistency\n",
    "list1 = [1, 2, {'a': 1, 'b': 2}, 4]\n",
    "print(list1)\n",
    "arr1 = np.array(list1)\n",
    "print(type(arr1))\n",
    "arr1"
   ]
  },
  {
   "cell_type": "code",
   "execution_count": 4,
   "id": "d55f8082",
   "metadata": {},
   "outputs": [
    {
     "data": {
      "text/plain": [
       "array([1, 2, 3, 4, {'a': 1}], dtype=object)"
      ]
     },
     "execution_count": 4,
     "metadata": {},
     "output_type": "execute_result"
    }
   ],
   "source": [
    "arr2 = np.array([1, 2, 3, 4, {'a': 1}])\n",
    "arr2"
   ]
  },
  {
   "cell_type": "code",
   "execution_count": 5,
   "id": "bcdb6987",
   "metadata": {},
   "outputs": [
    {
     "data": {
      "text/plain": [
       "array([1, 2, 3, 4])"
      ]
     },
     "execution_count": 5,
     "metadata": {},
     "output_type": "execute_result"
    }
   ],
   "source": [
    "arr3 = np.array([1, 2, 3, 4])\n",
    "arr3"
   ]
  },
  {
   "cell_type": "code",
   "execution_count": 6,
   "id": "d112e206",
   "metadata": {},
   "outputs": [
    {
     "name": "stdout",
     "output_type": "stream",
     "text": [
      "[1. 2. 3. 4.]\n",
      "[1 2 3 4]\n"
     ]
    }
   ],
   "source": [
    "arr4 = np.array([1.0, 2.0, 3, 4], dtype=np.float64)\n",
    "print(arr4)\n",
    "arr5 = np.array([1.0, 2.0, 3, 4], dtype=np.int32)\n",
    "print(arr5)"
   ]
  },
  {
   "cell_type": "markdown",
   "id": "1e6f35a1",
   "metadata": {},
   "source": [
    "### Doing some math"
   ]
  },
  {
   "cell_type": "code",
   "execution_count": 7,
   "id": "fbc6c39a",
   "metadata": {},
   "outputs": [
    {
     "data": {
      "text/plain": [
       "array([[1, 2],\n",
       "       [2, 3]])"
      ]
     },
     "execution_count": 7,
     "metadata": {},
     "output_type": "execute_result"
    }
   ],
   "source": [
    "arr_X1 = np.array([[1,2], [2,3]])\n",
    "arr_X1"
   ]
  },
  {
   "cell_type": "code",
   "execution_count": 8,
   "id": "552e8ab5",
   "metadata": {},
   "outputs": [
    {
     "data": {
      "text/plain": [
       "array([[4, 5],\n",
       "       [6, 7]])"
      ]
     },
     "execution_count": 8,
     "metadata": {},
     "output_type": "execute_result"
    }
   ],
   "source": [
    "arr_X2 = np.array([[4,5], [6,7]])\n",
    "arr_X2"
   ]
  },
  {
   "cell_type": "code",
   "execution_count": 9,
   "id": "3051e317",
   "metadata": {},
   "outputs": [
    {
     "data": {
      "text/plain": [
       "array([[ 5,  7],\n",
       "       [ 8, 10]])"
      ]
     },
     "execution_count": 9,
     "metadata": {},
     "output_type": "execute_result"
    }
   ],
   "source": [
    "sum_result = arr_X1 + arr_X2\n",
    "sum_result"
   ]
  },
  {
   "cell_type": "markdown",
   "id": "77f45452",
   "metadata": {},
   "source": [
    "#### Element-wise multiplication: Each position i,j in the resulting matrix is the product of elements aij and bij from the same position in the original matrices"
   ]
  },
  {
   "cell_type": "code",
   "execution_count": 10,
   "id": "cd6dc9fd",
   "metadata": {},
   "outputs": [
    {
     "name": "stdout",
     "output_type": "stream",
     "text": [
      "[[1 2]\n",
      " [2 3]]\n",
      "[[4 5]\n",
      " [6 7]]\n"
     ]
    },
    {
     "data": {
      "text/plain": [
       "array([[ 4, 10],\n",
       "       [12, 21]])"
      ]
     },
     "execution_count": 10,
     "metadata": {},
     "output_type": "execute_result"
    }
   ],
   "source": [
    "print(arr_X1) \n",
    "print(arr_X2)\n",
    "ele_mul_result = arr_X1 * arr_X2\n",
    "ele_mul_result"
   ]
  },
  {
   "cell_type": "markdown",
   "id": "c3a6e631",
   "metadata": {},
   "source": [
    "#### Matrix multipication:  [i]th row of the first matrix and the [j]th column of the second matrix"
   ]
  },
  {
   "cell_type": "code",
   "execution_count": 11,
   "id": "2f3e7303",
   "metadata": {},
   "outputs": [
    {
     "name": "stdout",
     "output_type": "stream",
     "text": [
      "[[1 2]\n",
      " [2 3]]\n",
      "[[4 5]\n",
      " [6 7]]\n"
     ]
    },
    {
     "data": {
      "text/plain": [
       "array([[16, 19],\n",
       "       [26, 31]])"
      ]
     },
     "execution_count": 11,
     "metadata": {},
     "output_type": "execute_result"
    }
   ],
   "source": [
    "print(arr_X1) \n",
    "print(arr_X2)\n",
    "mat_mul_result = np.dot(arr_X1, arr_X2)\n",
    "mat_mul_result"
   ]
  }
 ],
 "metadata": {
  "kernelspec": {
   "display_name": "base",
   "language": "python",
   "name": "python3"
  },
  "language_info": {
   "codemirror_mode": {
    "name": "ipython",
    "version": 3
   },
   "file_extension": ".py",
   "mimetype": "text/x-python",
   "name": "python",
   "nbconvert_exporter": "python",
   "pygments_lexer": "ipython3",
   "version": "3.13.5"
  }
 },
 "nbformat": 4,
 "nbformat_minor": 5
}
