{
 "cells": [
  {
   "cell_type": "markdown",
   "id": "3bb9f57d",
   "metadata": {},
   "source": [
    "| Function | Description                                           | Syntax                                      | Example                                     | Output           |\n",
    "|----------|-------------------------------------------------------|---------------------------------------------|---------------------------------------------|------------------|\n",
    "| `map()`  | Applies a function to each item in an iterable        | `map(function, DataFrame Series)`                   | `map(lambda x: x**2, df['col'])`         | `[1, 4, 9, 16]`   |\n",
    "| `filter()` | Filters items in an iterable based on a condition | `filter(function, DataFrame Series)`                | `filter(lambda x: x % 2 == 0, df.loc['row'])` | `[2, 4]`         |\n",
    "| `lambda` | Anonymous function (short inline function)           | `lambda arguments: expression`              | `lambda x: x + 10` `lambda x,y: x + y`                           | Returns function |\n",
    "\n"
   ]
  },
  {
   "cell_type": "markdown",
   "id": "77534ae6",
   "metadata": {},
   "source": [
    "<!DOCTYPE html>\n",
    "<html lang=\"en\">\n",
    "<head>\n",
    "    <meta charset=\"UTF-8\">\n",
    "    <meta name=\"viewport\" content=\"width=device-width, initial-scale=1.0\">\n",
    "    <title>Document</title>\n",
    "    <style>\n",
    "        p {\n",
    "            font-size: 22px;\n",
    "            color: #00FF00;\n",
    "            padding-top: 0px;\n",
    "        }\n",
    "        li {\n",
    "            font-size: 18px;\n",
    "            color: #00FF00;\n",
    "            padding-top: 0px;\n",
    "        }\n",
    "    </style>\n",
    "</head>\n",
    "<body>\n",
    "    <p><strong>operations</strong></p>\n",
    "    <li><strong>conditional selection</strong></li>\n",
    "    <li><strong>apply -> normal function, lambda</strong></li>\n",
    "    <li><strong>drop column</strong></li>\n",
    "    <li><strong>sort column</strong></li>\n",
    "    <li><strong>isnull</strong></li>\n",
    "    <li><strong>pivot table</strong></li>      \n",
    "</body>\n",
    "</html>"
   ]
  },
  {
   "cell_type": "code",
   "execution_count": 1,
   "id": "e4f90633",
   "metadata": {},
   "outputs": [],
   "source": [
    "import numpy as np\n",
    "import pandas as pd"
   ]
  },
  {
   "cell_type": "code",
   "execution_count": 2,
   "id": "f54e9b9a",
   "metadata": {},
   "outputs": [
    {
     "name": "stdout",
     "output_type": "stream",
     "text": [
      "   col1  col2 col3\n",
      "0     1   444  abc\n",
      "1     2   555  def\n",
      "2     3   666  ghi\n",
      "3     4   444  xyz\n",
      "   col1  col2 col3\n",
      "0     1   444  abc\n",
      "1     2   555  def\n",
      "2     3   666  ghi\n",
      "3     4   444  xyz\n"
     ]
    }
   ],
   "source": [
    "dict = {\n",
    "    'col1': [1,2,3,4],\n",
    "    'col2': [444,555,666,444],\n",
    "    'col3': ['abc', 'def', 'ghi', 'xyz']\n",
    "}\n",
    "df = pd.DataFrame(dict)\n",
    "print(df)\n",
    "print(df.head())"
   ]
  },
  {
   "cell_type": "code",
   "execution_count": 3,
   "id": "e57cd8b3",
   "metadata": {},
   "outputs": [
    {
     "name": "stdout",
     "output_type": "stream",
     "text": [
      "[444 555 666]\n",
      "3\n",
      "col2\n",
      "444    2\n",
      "555    1\n",
      "666    1\n",
      "Name: count, dtype: int64\n"
     ]
    }
   ],
   "source": [
    "print(df['col2'].unique())\n",
    "print(len(df['col2'].unique()))\n",
    "print(df['col2'].value_counts())"
   ]
  },
  {
   "cell_type": "markdown",
   "id": "0251a1ce",
   "metadata": {},
   "source": [
    "<!DOCTYPE html>\n",
    "<html lang=\"en\">\n",
    "<head>\n",
    "    <meta charset=\"UTF-8\">\n",
    "    <meta name=\"viewport\" content=\"width=device-width, initial-scale=1.0\">\n",
    "    <title>Document</title>\n",
    "    <style>\n",
    "        p {\n",
    "            font-size: 22px;\n",
    "            color: #00FF00;\n",
    "            padding-top: 0px;\n",
    "        }\n",
    "    </style>\n",
    "</head>\n",
    "<body>\n",
    "    <p><strong>conditional selection</strong></p>\n",
    "</body>\n",
    "</html>"
   ]
  },
  {
   "cell_type": "code",
   "execution_count": 4,
   "id": "307b1b17",
   "metadata": {},
   "outputs": [
    {
     "name": "stdout",
     "output_type": "stream",
     "text": [
      "   col1  col2 col3\n",
      "0     1   444  abc\n",
      "1     2   555  def\n",
      "2     3   666  ghi\n",
      "3     4   444  xyz\n",
      "0    444\n",
      "1    555\n",
      "2    666\n",
      "3    444\n",
      "Name: col2, dtype: int64\n",
      "   col1  col2 col3\n",
      "2     3   666  ghi\n",
      "3     4   444  xyz\n"
     ]
    },
    {
     "data": {
      "text/html": [
       "<div>\n",
       "<style scoped>\n",
       "    .dataframe tbody tr th:only-of-type {\n",
       "        vertical-align: middle;\n",
       "    }\n",
       "\n",
       "    .dataframe tbody tr th {\n",
       "        vertical-align: top;\n",
       "    }\n",
       "\n",
       "    .dataframe thead th {\n",
       "        text-align: right;\n",
       "    }\n",
       "</style>\n",
       "<table border=\"1\" class=\"dataframe\">\n",
       "  <thead>\n",
       "    <tr style=\"text-align: right;\">\n",
       "      <th></th>\n",
       "      <th>col1</th>\n",
       "      <th>col2</th>\n",
       "      <th>col3</th>\n",
       "    </tr>\n",
       "  </thead>\n",
       "  <tbody>\n",
       "    <tr>\n",
       "      <th>2</th>\n",
       "      <td>3</td>\n",
       "      <td>666</td>\n",
       "      <td>ghi</td>\n",
       "    </tr>\n",
       "  </tbody>\n",
       "</table>\n",
       "</div>"
      ],
      "text/plain": [
       "   col1  col2 col3\n",
       "2     3   666  ghi"
      ]
     },
     "execution_count": 4,
     "metadata": {},
     "output_type": "execute_result"
    }
   ],
   "source": [
    "print(df)\n",
    "print(df['col2'])\n",
    "print(df[df['col1'] > 2])\n",
    "df[(df['col1'] > 2) & (df['col2'] == 444)]\n",
    "df[(df['col3'] == 'ghi') & (df['col2'] > 0)]"
   ]
  },
  {
   "cell_type": "markdown",
   "id": "763ddef3",
   "metadata": {},
   "source": [
    "<!DOCTYPE html>\n",
    "<html lang=\"en\">\n",
    "<head>\n",
    "    <meta charset=\"UTF-8\">\n",
    "    <meta name=\"viewport\" content=\"width=device-width, initial-scale=1.0\">\n",
    "    <title>Document</title>\n",
    "    <style>\n",
    "        li {\n",
    "            font-size: 18px;\n",
    "            color: #00FF00;\n",
    "            padding-top: 0px;\n",
    "        }\n",
    "    </style>\n",
    "</head>\n",
    "<body>\n",
    "    <li><strong>lambda(x : x**2)</strong></li>\n",
    "    <li><strong>map(lambda(x : x**2), [10,11,12,13])</strong></li>\n",
    "    <li><strong>filter(lambda(x : x%2==0), [10,11,12,13])</strong></li>\n",
    "</body>\n",
    "</html>"
   ]
  },
  {
   "cell_type": "code",
   "execution_count": 5,
   "id": "b048f377",
   "metadata": {},
   "outputs": [
    {
     "name": "stdout",
     "output_type": "stream",
     "text": [
      "4\n",
      "50\n"
     ]
    }
   ],
   "source": [
    "y = lambda t: t*2\n",
    "print(y(2))\n",
    "x = lambda s, t: s * t\n",
    "print(x(5,10))"
   ]
  },
  {
   "cell_type": "code",
   "execution_count": 6,
   "id": "e4a7e4da",
   "metadata": {},
   "outputs": [
    {
     "name": "stdout",
     "output_type": "stream",
     "text": [
      "[10000, 14641, 20736, 28561, 38416]\n"
     ]
    }
   ],
   "source": [
    "list_value = [10, 11, 12, 13, 14]\n",
    "lambda_cal = lambda x: x**4\n",
    "print(list(map(lambda_cal, list_value)))"
   ]
  },
  {
   "cell_type": "code",
   "execution_count": 7,
   "id": "da822f47",
   "metadata": {},
   "outputs": [
    {
     "name": "stdout",
     "output_type": "stream",
     "text": [
      "[10, 12, 14]\n"
     ]
    }
   ],
   "source": [
    "list_value = [10, 11, 12, 13, 14]\n",
    "lambda_cal = lambda x: x%2 == 0\n",
    "print(list(filter(lambda_cal, list_value)))"
   ]
  },
  {
   "cell_type": "markdown",
   "id": "aea43f2d",
   "metadata": {},
   "source": [
    "<!DOCTYPE html>\n",
    "<html lang=\"en\">\n",
    "<head>\n",
    "    <meta charset=\"UTF-8\">\n",
    "    <meta name=\"viewport\" content=\"width=device-width, initial-scale=1.0\">\n",
    "    <title>Document</title>\n",
    "    <style>\n",
    "        p {\n",
    "            font-size: 22px;\n",
    "            color: #00FF00;\n",
    "            padding-top: 0px;\n",
    "        }\n",
    "        li {\n",
    "            font-size: 18px;\n",
    "            color: #00FF00;\n",
    "            padding-top: 0px;\n",
    "        }\n",
    "    </style>\n",
    "</head>\n",
    "<body>\n",
    "    <p><strong>apply function</strong></p>\n",
    "    <li><strong>function activities</strong></li>\n",
    "    <li><strong>lambda, map, filter activities</strong></li>\n",
    "</body>\n",
    "</html>"
   ]
  },
  {
   "cell_type": "code",
   "execution_count": 8,
   "id": "e94ccd56",
   "metadata": {},
   "outputs": [
    {
     "name": "stdout",
     "output_type": "stream",
     "text": [
      "   col1  col2 col3\n",
      "0     1   444  abc\n",
      "1     2   555  def\n",
      "2     3   666  ghi\n",
      "3     4   444  xyz\n",
      "0    2\n",
      "1    4\n",
      "2    6\n",
      "3    8\n",
      "Name: col1, dtype: int64\n",
      "0    1332\n",
      "1    1665\n",
      "2    1998\n",
      "3    1332\n",
      "Name: col2, dtype: int64\n"
     ]
    },
    {
     "data": {
      "text/html": [
       "<div>\n",
       "<style scoped>\n",
       "    .dataframe tbody tr th:only-of-type {\n",
       "        vertical-align: middle;\n",
       "    }\n",
       "\n",
       "    .dataframe tbody tr th {\n",
       "        vertical-align: top;\n",
       "    }\n",
       "\n",
       "    .dataframe thead th {\n",
       "        text-align: right;\n",
       "    }\n",
       "</style>\n",
       "<table border=\"1\" class=\"dataframe\">\n",
       "  <thead>\n",
       "    <tr style=\"text-align: right;\">\n",
       "      <th></th>\n",
       "      <th>col1</th>\n",
       "      <th>col2</th>\n",
       "      <th>col3</th>\n",
       "    </tr>\n",
       "  </thead>\n",
       "  <tbody>\n",
       "    <tr>\n",
       "      <th>0</th>\n",
       "      <td>1</td>\n",
       "      <td>444</td>\n",
       "      <td>abc</td>\n",
       "    </tr>\n",
       "    <tr>\n",
       "      <th>1</th>\n",
       "      <td>2</td>\n",
       "      <td>555</td>\n",
       "      <td>def</td>\n",
       "    </tr>\n",
       "    <tr>\n",
       "      <th>2</th>\n",
       "      <td>3</td>\n",
       "      <td>666</td>\n",
       "      <td>ghi</td>\n",
       "    </tr>\n",
       "    <tr>\n",
       "      <th>3</th>\n",
       "      <td>4</td>\n",
       "      <td>444</td>\n",
       "      <td>xyz</td>\n",
       "    </tr>\n",
       "  </tbody>\n",
       "</table>\n",
       "</div>"
      ],
      "text/plain": [
       "   col1  col2 col3\n",
       "0     1   444  abc\n",
       "1     2   555  def\n",
       "2     3   666  ghi\n",
       "3     4   444  xyz"
      ]
     },
     "execution_count": 8,
     "metadata": {},
     "output_type": "execute_result"
    }
   ],
   "source": [
    "print(df)\n",
    "def col1_cal(x):\n",
    "    return x * 2\n",
    "\n",
    "col2_cal = lambda x: x*3\n",
    "\n",
    "print(df['col1'].apply(col1_cal))\n",
    "print(df['col2'].apply(col2_cal))\n",
    "df"
   ]
  },
  {
   "cell_type": "markdown",
   "id": "defc9b4b",
   "metadata": {},
   "source": [
    "<!DOCTYPE html>\n",
    "<html lang=\"en\">\n",
    "<head>\n",
    "    <meta charset=\"UTF-8\">\n",
    "    <meta name=\"viewport\" content=\"width=device-width, initial-scale=1.0\">\n",
    "    <title>Document</title>\n",
    "    <style>\n",
    "        p {\n",
    "            font-size: 22px;\n",
    "            color: #00FF00;\n",
    "            padding-top: 0px;\n",
    "        }\n",
    "        li {\n",
    "            font-size: 18px;\n",
    "            color: #00FF00;\n",
    "            padding-top: 0px;\n",
    "        }\n",
    "    </style>\n",
    "</head>\n",
    "<body>\n",
    "    <p>column data update using -></p>\n",
    "    <li><strong>map(lambda argument: expression, series)</strong></li>\n",
    "    <li><strong>filter(lambda argument: expression, series)</strong></li>\n",
    "</body>\n",
    "</html>"
   ]
  },
  {
   "cell_type": "code",
   "execution_count": 9,
   "id": "4d83a087",
   "metadata": {},
   "outputs": [
    {
     "name": "stdout",
     "output_type": "stream",
     "text": [
      "   col1  col2 col3\n",
      "0     1   444  abc\n",
      "1     2   555  def\n",
      "2     3   666  ghi\n",
      "3     4   444  xyz\n",
      "[888, 1110, 1332, 888]\n",
      "   col1  col2 col3\n",
      "0     1   888  abc\n",
      "1     2  1110  def\n",
      "2     3  1332  ghi\n",
      "3     4   888  xyz\n"
     ]
    }
   ],
   "source": [
    "print(df)\n",
    "col_update = list(map(lambda x: x*2, df['col2']))\n",
    "print(col_update)\n",
    "df['col2'] = col_update\n",
    "print(df)"
   ]
  },
  {
   "cell_type": "code",
   "execution_count": 10,
   "id": "92e53026",
   "metadata": {},
   "outputs": [
    {
     "name": "stdout",
     "output_type": "stream",
     "text": [
      "   col1  col2 col3\n",
      "0     1   888  abc\n",
      "1     2  1110  def\n",
      "2     3  1332  ghi\n",
      "3     4   888  xyz\n",
      "[888, 1110, 1332, 888]\n",
      "   col1  col2 col3\n",
      "0     1   888  abc\n",
      "1     2  1110  def\n",
      "2     3  1332  ghi\n",
      "3     4   888  xyz\n"
     ]
    }
   ],
   "source": [
    "print(df)\n",
    "col_update = list(filter(lambda x: x%2==0, df['col2']))\n",
    "print(col_update)\n",
    "df['col2'] = col_update\n",
    "print(df)"
   ]
  },
  {
   "cell_type": "markdown",
   "id": "1702f67a",
   "metadata": {},
   "source": [
    "<!DOCTYPE html>\n",
    "<html lang=\"en\">\n",
    "<head>\n",
    "    <meta charset=\"UTF-8\">\n",
    "    <meta name=\"viewport\" content=\"width=device-width, initial-scale=1.0\">\n",
    "    <title>Document</title>\n",
    "    <style>\n",
    "        p {\n",
    "            font-size: 22px;\n",
    "            color: #00FF00;\n",
    "            padding-top: 0px;\n",
    "        }\n",
    "        li {\n",
    "            font-size: 18px;\n",
    "            color: #00FF00;\n",
    "            padding-top: 0px;\n",
    "        }\n",
    "    </style>\n",
    "</head>\n",
    "<body>\n",
    "    <p>row data update using -></p>\n",
    "    <li><strong>map(lambda argument: expression, series)</strong></li>\n",
    "    <li><strong>filter(lambda argument: expression, series)</strong></li>\n",
    "</body>\n",
    "</html>"
   ]
  },
  {
   "cell_type": "code",
   "execution_count": 11,
   "id": "6a054b22",
   "metadata": {},
   "outputs": [
    {
     "name": "stdout",
     "output_type": "stream",
     "text": [
      "   col1  col2 col3\n",
      "0     1   888  abc\n",
      "1     2  1110  def\n",
      "2     3  1332  ghi\n",
      "3     4   888  xyz\n",
      "[np.int64(4), np.int64(2220), 'defdef']\n",
      "   col1  col2    col3\n",
      "0     1   888     abc\n",
      "1     4  2220  defdef\n",
      "2     3  1332     ghi\n",
      "3     4   888     xyz\n"
     ]
    }
   ],
   "source": [
    "print(df)\n",
    "row_update = list(map(lambda x: x*2, df.loc[1]))\n",
    "print(row_update)\n",
    "df.loc[1] = row_update\n",
    "print(df)"
   ]
  },
  {
   "cell_type": "code",
   "execution_count": 12,
   "id": "f60e92cf",
   "metadata": {},
   "outputs": [
    {
     "name": "stdout",
     "output_type": "stream",
     "text": [
      "   col1  col2\n",
      "0     1   444\n",
      "1     2   555\n",
      "2     3   666\n",
      "3     4   444\n",
      "[2]\n",
      "   col1  col2\n",
      "0     1   444\n",
      "1     2     2\n",
      "2     3   666\n",
      "3     4   444\n"
     ]
    }
   ],
   "source": [
    "df1 = pd.DataFrame({\n",
    "    'col1': [1, 2, 3, 4],\n",
    "    'col2': [444, 555, 666, 444]\n",
    "})\n",
    "print(df1)\n",
    "row_update = list(filter(lambda x: x%2==0, df1.loc[1]))\n",
    "print(row_update)\n",
    "df1.loc[1] = row_update\n",
    "print(df1)"
   ]
  },
  {
   "cell_type": "markdown",
   "id": "934c964d",
   "metadata": {},
   "source": [
    "<!DOCTYPE html>\n",
    "<html lang=\"en\">\n",
    "<head>\n",
    "    <meta charset=\"UTF-8\">\n",
    "    <meta name=\"viewport\" content=\"width=device-width, initial-scale=1.0\">\n",
    "    <title>Document</title>\n",
    "    <style>\n",
    "        p {\n",
    "            font-size: px;\n",
    "            color: #00FF00;\n",
    "            padding-top: 0px;\n",
    "        }\n",
    "    </style>\n",
    "</head>\n",
    "<body>\n",
    "    <p><strong>drop function</strong></p>\n",
    "</body>\n",
    "</html>"
   ]
  },
  {
   "cell_type": "code",
   "execution_count": 13,
   "id": "a96e08aa",
   "metadata": {},
   "outputs": [
    {
     "name": "stdout",
     "output_type": "stream",
     "text": [
      "   col1  col2    col3\n",
      "0     1   888     abc\n",
      "1     4  2220  defdef\n",
      "2     3  1332     ghi\n",
      "3     4   888     xyz\n"
     ]
    }
   ],
   "source": [
    "print(df)"
   ]
  },
  {
   "cell_type": "code",
   "execution_count": 14,
   "id": "18b673a9",
   "metadata": {},
   "outputs": [
    {
     "name": "stdout",
     "output_type": "stream",
     "text": [
      "   col2    col3\n",
      "0   888     abc\n",
      "1  2220  defdef\n",
      "2  1332     ghi\n",
      "3   888     xyz\n",
      "   col1  col2    col3\n",
      "1     4  2220  defdef\n",
      "2     3  1332     ghi\n",
      "3     4   888     xyz\n"
     ]
    }
   ],
   "source": [
    "print(df.drop('col1', axis=1)) # Drop a column\n",
    "print(df.drop(0, axis=0)) # Drop a row"
   ]
  },
  {
   "cell_type": "markdown",
   "id": "eeffc808",
   "metadata": {},
   "source": [
    "<!DOCTYPE html>\n",
    "<html lang=\"en\">\n",
    "<head>\n",
    "    <meta charset=\"UTF-8\">\n",
    "    <meta name=\"viewport\" content=\"width=device-width, initial-scale=1.0\">\n",
    "    <title>Document</title>\n",
    "    <style>\n",
    "        p {\n",
    "            font-size: px;\n",
    "            color: #00FF00;\n",
    "            padding-top: 0px;\n",
    "        }\n",
    "    </style>\n",
    "</head>\n",
    "<body>\n",
    "    <p><strong>sort function</strong></p>\n",
    "</body>\n",
    "</html>"
   ]
  },
  {
   "cell_type": "code",
   "execution_count": 15,
   "id": "472c13ed",
   "metadata": {},
   "outputs": [
    {
     "name": "stdout",
     "output_type": "stream",
     "text": [
      "   col1  col2    col3\n",
      "0     1   888     abc\n",
      "1     4  2220  defdef\n",
      "2     3  1332     ghi\n",
      "3     4   888     xyz\n",
      "Index(['col1', 'col2', 'col3'], dtype='object')\n",
      "RangeIndex(start=0, stop=4, step=1)\n"
     ]
    }
   ],
   "source": [
    "print(df)\n",
    "print(df.columns)\n",
    "print(df.index)"
   ]
  },
  {
   "cell_type": "code",
   "execution_count": 16,
   "id": "1802f13c",
   "metadata": {},
   "outputs": [
    {
     "name": "stdout",
     "output_type": "stream",
     "text": [
      "   col1  col2    col3\n",
      "0     1   888     abc\n",
      "3     4   888     xyz\n",
      "2     3  1332     ghi\n",
      "1     4  2220  defdef\n"
     ]
    }
   ],
   "source": [
    "print(df.sort_values('col2')) "
   ]
  },
  {
   "cell_type": "code",
   "execution_count": 17,
   "id": "83c5765e",
   "metadata": {},
   "outputs": [
    {
     "data": {
      "text/html": [
       "<div>\n",
       "<style scoped>\n",
       "    .dataframe tbody tr th:only-of-type {\n",
       "        vertical-align: middle;\n",
       "    }\n",
       "\n",
       "    .dataframe tbody tr th {\n",
       "        vertical-align: top;\n",
       "    }\n",
       "\n",
       "    .dataframe thead th {\n",
       "        text-align: right;\n",
       "    }\n",
       "</style>\n",
       "<table border=\"1\" class=\"dataframe\">\n",
       "  <thead>\n",
       "    <tr style=\"text-align: right;\">\n",
       "      <th></th>\n",
       "      <th>col1</th>\n",
       "      <th>col2</th>\n",
       "      <th>col3</th>\n",
       "    </tr>\n",
       "  </thead>\n",
       "  <tbody>\n",
       "    <tr>\n",
       "      <th>0</th>\n",
       "      <td>False</td>\n",
       "      <td>False</td>\n",
       "      <td>False</td>\n",
       "    </tr>\n",
       "    <tr>\n",
       "      <th>1</th>\n",
       "      <td>False</td>\n",
       "      <td>False</td>\n",
       "      <td>False</td>\n",
       "    </tr>\n",
       "    <tr>\n",
       "      <th>2</th>\n",
       "      <td>False</td>\n",
       "      <td>False</td>\n",
       "      <td>False</td>\n",
       "    </tr>\n",
       "    <tr>\n",
       "      <th>3</th>\n",
       "      <td>False</td>\n",
       "      <td>False</td>\n",
       "      <td>False</td>\n",
       "    </tr>\n",
       "  </tbody>\n",
       "</table>\n",
       "</div>"
      ],
      "text/plain": [
       "    col1   col2   col3\n",
       "0  False  False  False\n",
       "1  False  False  False\n",
       "2  False  False  False\n",
       "3  False  False  False"
      ]
     },
     "execution_count": 17,
     "metadata": {},
     "output_type": "execute_result"
    }
   ],
   "source": [
    "df.isnull()"
   ]
  },
  {
   "cell_type": "markdown",
   "id": "95ee88ed",
   "metadata": {},
   "source": [
    "<!DOCTYPE html>\n",
    "<html lang=\"en\">\n",
    "<head>\n",
    "    <meta charset=\"UTF-8\">\n",
    "    <meta name=\"viewport\" content=\"width=device-width, initial-scale=1.0\">\n",
    "    <title>Document</title>\n",
    "    <style>\n",
    "        p {\n",
    "            font-size: px;\n",
    "            color: #00FF00;\n",
    "            padding-top: 0px;\n",
    "        }\n",
    "    </style>\n",
    "</head>\n",
    "<body>\n",
    "    <p><strong>pivot table</strong></p>\n",
    "</body>\n",
    "</html>"
   ]
  },
  {
   "cell_type": "markdown",
   "id": "a4c01fad",
   "metadata": {},
   "source": [
    "| Name  | Department | Month | Sales |\n",
    "| ----- | ---------- | ----- | ----- |\n",
    "| Alice | Sales      | Jan   | 100   |\n",
    "| Alice | Sales      | Feb   | 200   |\n",
    "| Bob   | Marketing  | Jan   | 300   |\n",
    "| Bob   | Marketing  | Feb   | 400   |\n",
    "\n",
    "pivot = df.pivot_table(index='Department', columns='Month', values='Sales', aggfunc='sum')\n",
    "\n",
    "| Department | Jan | Feb |\n",
    "| ---------- | --- | --- |\n",
    "| Marketing  | 300 | 400 |\n",
    "| Sales      | 100 | 200 |\n",
    "\n"
   ]
  },
  {
   "cell_type": "code",
   "execution_count": 20,
   "id": "1394f477",
   "metadata": {},
   "outputs": [
    {
     "data": {
      "text/html": [
       "<div>\n",
       "<style scoped>\n",
       "    .dataframe tbody tr th:only-of-type {\n",
       "        vertical-align: middle;\n",
       "    }\n",
       "\n",
       "    .dataframe tbody tr th {\n",
       "        vertical-align: top;\n",
       "    }\n",
       "\n",
       "    .dataframe thead th {\n",
       "        text-align: right;\n",
       "    }\n",
       "</style>\n",
       "<table border=\"1\" class=\"dataframe\">\n",
       "  <thead>\n",
       "    <tr style=\"text-align: right;\">\n",
       "      <th></th>\n",
       "      <th>A</th>\n",
       "      <th>B</th>\n",
       "      <th>C</th>\n",
       "      <th>D</th>\n",
       "    </tr>\n",
       "  </thead>\n",
       "  <tbody>\n",
       "    <tr>\n",
       "      <th>0</th>\n",
       "      <td>foo</td>\n",
       "      <td>one</td>\n",
       "      <td>X</td>\n",
       "      <td>1</td>\n",
       "    </tr>\n",
       "    <tr>\n",
       "      <th>1</th>\n",
       "      <td>foo</td>\n",
       "      <td>one</td>\n",
       "      <td>Y</td>\n",
       "      <td>3</td>\n",
       "    </tr>\n",
       "    <tr>\n",
       "      <th>2</th>\n",
       "      <td>foo</td>\n",
       "      <td>two</td>\n",
       "      <td>X</td>\n",
       "      <td>2</td>\n",
       "    </tr>\n",
       "    <tr>\n",
       "      <th>3</th>\n",
       "      <td>bar</td>\n",
       "      <td>two</td>\n",
       "      <td>Y</td>\n",
       "      <td>5</td>\n",
       "    </tr>\n",
       "    <tr>\n",
       "      <th>4</th>\n",
       "      <td>bar</td>\n",
       "      <td>one</td>\n",
       "      <td>X</td>\n",
       "      <td>4</td>\n",
       "    </tr>\n",
       "    <tr>\n",
       "      <th>5</th>\n",
       "      <td>bar</td>\n",
       "      <td>one</td>\n",
       "      <td>Y</td>\n",
       "      <td>1</td>\n",
       "    </tr>\n",
       "  </tbody>\n",
       "</table>\n",
       "</div>"
      ],
      "text/plain": [
       "     A    B  C  D\n",
       "0  foo  one  X  1\n",
       "1  foo  one  Y  3\n",
       "2  foo  two  X  2\n",
       "3  bar  two  Y  5\n",
       "4  bar  one  X  4\n",
       "5  bar  one  Y  1"
      ]
     },
     "execution_count": 20,
     "metadata": {},
     "output_type": "execute_result"
    }
   ],
   "source": [
    "dict = {\n",
    "    'A': ['foo', 'foo', 'foo', 'bar', 'bar', 'bar'],\n",
    "    'B': ['one', 'one', 'two', 'two', 'one', 'one'],\n",
    "    'C': ['X', 'Y', 'X', 'Y', 'X', 'Y'],\n",
    "    'D': [1,3,2,5,4,1]\n",
    "}\n",
    "\n",
    "df = pd.DataFrame(dict)\n",
    "df"
   ]
  },
  {
   "cell_type": "markdown",
   "id": "b340d563",
   "metadata": {},
   "source": [
    "<!DOCTYPE html>\n",
    "<html lang=\"en\">\n",
    "<head>\n",
    "    <meta charset=\"UTF-8\">\n",
    "    <meta name=\"viewport\" content=\"width=device-width, initial-scale=1.0\">\n",
    "    <title>Document</title>\n",
    "    <style>\n",
    "        p {\n",
    "            font-size: px;\n",
    "            color: #00FF00;\n",
    "            padding-top: 0px;\n",
    "        }\n",
    "    </style>\n",
    "</head>\n",
    "<body>\n",
    "    <p><strong>pivot table: rows of data</strong></p>\n",
    "</body>\n",
    "</html>"
   ]
  },
  {
   "cell_type": "code",
   "execution_count": 30,
   "id": "80f744e0",
   "metadata": {},
   "outputs": [
    {
     "name": "stdout",
     "output_type": "stream",
     "text": [
      "     A    B  C  D\n",
      "0  foo  one  X  1\n",
      "1  foo  one  Y  3\n",
      "2  foo  two  X  2\n",
      "3  bar  two  Y  5\n",
      "4  bar  one  X  4\n",
      "5  bar  one  Y  1\n",
      "#############Average##############\n",
      "            D\n",
      "A            \n",
      "bar  3.333333\n",
      "foo  2.000000\n",
      "        D\n",
      "B        \n",
      "one  2.25\n",
      "two  3.50\n",
      "          D\n",
      "C          \n",
      "X  2.333333\n",
      "Y  3.000000\n",
      "#############Summation##############\n",
      "      D\n",
      "A      \n",
      "bar  10\n",
      "foo   6\n",
      "     D\n",
      "B     \n",
      "one  9\n",
      "two  7\n",
      "   D\n",
      "C   \n",
      "X  7\n",
      "Y  9\n"
     ]
    }
   ],
   "source": [
    "print(df)\n",
    "print('#############Average##############')\n",
    "print(df.pivot_table(values='D', index='A'))\n",
    "print(df.pivot_table(values='D', index='B'))\n",
    "print(df.pivot_table(values='D', index='C'))\n",
    "print('#############Summation##############')\n",
    "print(df.pivot_table(values='D', index='A', aggfunc='sum'))\n",
    "print(df.pivot_table(values='D', index='B', aggfunc='sum'))\n",
    "print(df.pivot_table(values='D', index='C', aggfunc='sum'))\n"
   ]
  },
  {
   "cell_type": "markdown",
   "id": "8b98993d",
   "metadata": {},
   "source": [
    "<!DOCTYPE html>\n",
    "<html lang=\"en\">\n",
    "<head>\n",
    "    <meta charset=\"UTF-8\">\n",
    "    <meta name=\"viewport\" content=\"width=device-width, initial-scale=1.0\">\n",
    "    <title>Document</title>\n",
    "    <style>\n",
    "        p {\n",
    "            font-size: px;\n",
    "            color: #00FF00;\n",
    "            padding-top: 0px;\n",
    "        }\n",
    "    </style>\n",
    "</head>\n",
    "<body>\n",
    "    <p><strong>pivot table: columns of data</strong></p>\n",
    "</body>\n",
    "</html>"
   ]
  },
  {
   "cell_type": "code",
   "execution_count": 36,
   "id": "4425cfa9",
   "metadata": {},
   "outputs": [
    {
     "name": "stdout",
     "output_type": "stream",
     "text": [
      "     A    B  C  D\n",
      "0  foo  one  X  1\n",
      "1  foo  one  Y  3\n",
      "2  foo  two  X  2\n",
      "3  bar  two  Y  5\n",
      "4  bar  one  X  4\n",
      "5  bar  one  Y  1\n",
      "\n",
      "\n",
      "A  bar  foo\n",
      "D   10    6\n",
      "B  one  two\n",
      "D    9    7\n",
      "C  X  Y\n",
      "D  7  9\n"
     ]
    }
   ],
   "source": [
    "print(df)\n",
    "print('\\n')\n",
    "print(df.pivot_table(columns='A', values='D', aggfunc='sum'))\n",
    "print(df.pivot_table(columns='B', values='D', aggfunc='sum'))\n",
    "print(df.pivot_table(columns='C', values='D', aggfunc='sum'))"
   ]
  },
  {
   "cell_type": "markdown",
   "id": "a18ed4e4",
   "metadata": {},
   "source": [
    "<!DOCTYPE html>\n",
    "<html lang=\"en\">\n",
    "<head>\n",
    "    <meta charset=\"UTF-8\">\n",
    "    <meta name=\"viewport\" content=\"width=device-width, initial-scale=1.0\">\n",
    "    <title>Document</title>\n",
    "    <style>\n",
    "        p {\n",
    "            font-size: px;\n",
    "            color: #00FF00;\n",
    "            padding-top: 0px;\n",
    "        }\n",
    "    </style>\n",
    "</head>\n",
    "<body>\n",
    "    <p><strong>pivot table</strong></p>\n",
    "</body>\n",
    "</html>"
   ]
  },
  {
   "cell_type": "code",
   "execution_count": 40,
   "id": "8a4dea8d",
   "metadata": {},
   "outputs": [
    {
     "name": "stdout",
     "output_type": "stream",
     "text": [
      "     A    B  C  D\n",
      "0  foo  one  X  1\n",
      "1  foo  one  Y  3\n",
      "2  foo  two  X  2\n",
      "3  bar  two  Y  5\n",
      "4  bar  one  X  4\n",
      "5  bar  one  Y  1\n",
      "C    X  Y\n",
      "A        \n",
      "bar  4  6\n",
      "foo  3  3\n",
      "C          X    Y\n",
      "A   B            \n",
      "bar one  4.0  1.0\n",
      "    two  NaN  5.0\n",
      "foo one  1.0  3.0\n",
      "    two  2.0  NaN\n"
     ]
    }
   ],
   "source": [
    "print(df)\n",
    "print(df.pivot_table(index='A', columns='C', values='D', aggfunc='sum'))\n",
    "print(df.pivot_table(index=['A', 'B'], columns='C', values='D', aggfunc='sum'))"
   ]
  },
  {
   "cell_type": "code",
   "execution_count": null,
   "id": "46b3ba4d",
   "metadata": {},
   "outputs": [],
   "source": []
  }
 ],
 "metadata": {
  "kernelspec": {
   "display_name": "base",
   "language": "python",
   "name": "python3"
  },
  "language_info": {
   "codemirror_mode": {
    "name": "ipython",
    "version": 3
   },
   "file_extension": ".py",
   "mimetype": "text/x-python",
   "name": "python",
   "nbconvert_exporter": "python",
   "pygments_lexer": "ipython3",
   "version": "3.13.5"
  }
 },
 "nbformat": 4,
 "nbformat_minor": 5
}
