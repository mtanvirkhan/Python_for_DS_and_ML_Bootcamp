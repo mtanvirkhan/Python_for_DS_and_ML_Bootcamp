{
 "cells": [
  {
   "cell_type": "markdown",
   "id": "1857ad11",
   "metadata": {},
   "source": [
    "<!DOCTYPE html>\n",
    "<html lang=\"en\">\n",
    "<head>\n",
    "    <meta charset=\"UTF-8\">\n",
    "    <meta name=\"viewport\" content=\"width=device-width, initial-scale=1.0\">\n",
    "    <title>Document</title>\n",
    "    <style>\n",
    "        p {\n",
    "            font-size: 22px;\n",
    "            color: #00FF00;\n",
    "            padding-top: 0px;\n",
    "        }\n",
    "    </style>\n",
    "</head>\n",
    "<body>\n",
    "    <p><strong>groupby</strong></p>\n",
    "</body>\n",
    "</html>"
   ]
  },
  {
   "cell_type": "code",
   "execution_count": 19,
   "id": "df083aca",
   "metadata": {},
   "outputs": [],
   "source": [
    "import numpy as np\n",
    "import pandas as pd"
   ]
  },
  {
   "cell_type": "code",
   "execution_count": 30,
   "id": "63b02398",
   "metadata": {},
   "outputs": [
    {
     "name": "stdout",
     "output_type": "stream",
     "text": [
      "  Company   Person  Sales\n",
      "0  GOOGLE      Sam    200\n",
      "1  GOOGLE  Charlie    120\n",
      "2    MSFT      Amy    340\n",
      "3    MSFT  Vanessa    124\n",
      "4      FB     Carl    243\n",
      "5      FB    Sarah    350\n",
      "            Sales\n",
      "count    6.000000\n",
      "mean   229.500000\n",
      "std    100.899455\n",
      "min    120.000000\n",
      "25%    143.000000\n",
      "50%    221.500000\n",
      "75%    315.750000\n",
      "max    350.000000\n"
     ]
    }
   ],
   "source": [
    "dict = {\n",
    "    'Company': ['GOOGLE', 'GOOGLE', 'MSFT', 'MSFT', 'FB', 'FB'],\n",
    "    'Person': ['Sam', 'Charlie', 'Amy', 'Vanessa', 'Carl', 'Sarah'],\n",
    "    'Sales': [200, 120, 340, 124, 243, 350]\n",
    "}\n",
    "df = pd.DataFrame(dict)\n",
    "print(df)\n",
    "print(df.describe())"
   ]
  },
  {
   "cell_type": "code",
   "execution_count": 28,
   "id": "169b8400",
   "metadata": {},
   "outputs": [
    {
     "name": "stdout",
     "output_type": "stream",
     "text": [
      "         Sales\n",
      "Company       \n",
      "FB       296.5\n",
      "GOOGLE   160.0\n",
      "MSFT     232.0\n",
      "\n",
      "\n",
      "         Sales\n",
      "Company       \n",
      "FB         593\n",
      "GOOGLE     320\n",
      "MSFT       464\n",
      "Sales    320\n",
      "Name: GOOGLE, dtype: int64\n",
      "\n",
      "\n",
      "              Sales\n",
      "Company            \n",
      "FB        75.660426\n",
      "GOOGLE    56.568542\n",
      "MSFT     152.735065\n",
      "\n",
      "\n",
      "         Person  Sales\n",
      "Company               \n",
      "FB            2      2\n",
      "GOOGLE        2      2\n",
      "MSFT          2      2\n",
      "\n",
      "\n",
      "          Person  Sales\n",
      "Company                \n",
      "FB         Sarah    350\n",
      "GOOGLE       Sam    200\n",
      "MSFT     Vanessa    340\n",
      "\n",
      "\n",
      "          Person  Sales\n",
      "Company                \n",
      "FB          Carl    243\n",
      "GOOGLE   Charlie    120\n",
      "MSFT         Amy    124\n"
     ]
    }
   ],
   "source": [
    "group_com = df.groupby('Company')\n",
    "print(group_com.mean(numeric_only=True))\n",
    "print('\\n')\n",
    "print(group_com.sum(numeric_only=True))\n",
    "print(group_com.sum(numeric_only=True).loc['GOOGLE'])\n",
    "print('\\n')\n",
    "print(group_com.std(numeric_only=True))\n",
    "print('\\n')\n",
    "print(group_com.count())\n",
    "print('\\n')\n",
    "print(group_com.max())\n",
    "print('\\n')\n",
    "print(group_com.min())"
   ]
  },
  {
   "cell_type": "markdown",
   "id": "4383d5eb",
   "metadata": {},
   "source": [
    "<!DOCTYPE html>\n",
    "<html lang=\"en\">\n",
    "<head>\n",
    "    <meta charset=\"UTF-8\">\n",
    "    <meta name=\"viewport\" content=\"width=device-width, initial-scale=1.0\">\n",
    "    <title>Document</title>\n",
    "    <style>\n",
    "        p {\n",
    "            font-size: 22px;\n",
    "            color: #00FF00;\n",
    "            padding-top: 0px;\n",
    "        }\n",
    "    </style>\n",
    "</head>\n",
    "<body>\n",
    "    <p><strong>groupby describe transpose</strong></p>\n",
    "</body>\n",
    "</html>"
   ]
  },
  {
   "cell_type": "code",
   "execution_count": 42,
   "id": "c722b498",
   "metadata": {},
   "outputs": [
    {
     "name": "stdout",
     "output_type": "stream",
     "text": [
      "        Sales                                                        \n",
      "        count   mean         std    min     25%    50%     75%    max\n",
      "Company                                                              \n",
      "FB        2.0  296.5   75.660426  243.0  269.75  296.5  323.25  350.0\n",
      "GOOGLE    2.0  160.0   56.568542  120.0  140.00  160.0  180.00  200.0\n",
      "MSFT      2.0  232.0  152.735065  124.0  178.00  232.0  286.00  340.0\n",
      "\n",
      "\n",
      "Company              FB      GOOGLE        MSFT\n",
      "Sales count    2.000000    2.000000    2.000000\n",
      "      mean   296.500000  160.000000  232.000000\n",
      "      std     75.660426   56.568542  152.735065\n",
      "      min    243.000000  120.000000  124.000000\n",
      "      25%    269.750000  140.000000  178.000000\n",
      "      50%    296.500000  160.000000  232.000000\n",
      "      75%    323.250000  180.000000  286.000000\n",
      "      max    350.000000  200.000000  340.000000\n",
      "\n",
      "\n",
      "Sales  count      2.000000\n",
      "       mean     296.500000\n",
      "       std       75.660426\n",
      "       min      243.000000\n",
      "       25%      269.750000\n",
      "       50%      296.500000\n",
      "       75%      323.250000\n",
      "       max      350.000000\n",
      "Name: FB, dtype: float64\n"
     ]
    }
   ],
   "source": [
    "group_com = df.groupby('Company')\n",
    "print(group_com.describe())\n",
    "print('\\n')\n",
    "print(group_com.describe().transpose())\n",
    "print('\\n')\n",
    "print(group_com.describe().transpose()['FB'])"
   ]
  },
  {
   "cell_type": "code",
   "execution_count": null,
   "id": "ce012386",
   "metadata": {},
   "outputs": [],
   "source": []
  }
 ],
 "metadata": {
  "kernelspec": {
   "display_name": "base",
   "language": "python",
   "name": "python3"
  },
  "language_info": {
   "codemirror_mode": {
    "name": "ipython",
    "version": 3
   },
   "file_extension": ".py",
   "mimetype": "text/x-python",
   "name": "python",
   "nbconvert_exporter": "python",
   "pygments_lexer": "ipython3",
   "version": "3.13.5"
  }
 },
 "nbformat": 4,
 "nbformat_minor": 5
}
