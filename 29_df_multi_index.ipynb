{
 "cells": [
  {
   "cell_type": "markdown",
   "id": "a0e290fc",
   "metadata": {},
   "source": [
    "<!DOCTYPE html>\n",
    "<html lang=\"en\">\n",
    "<head>\n",
    "    <meta charset=\"UTF-8\">\n",
    "    <meta name=\"viewport\" content=\"width=device-width, initial-scale=1.0\">\n",
    "    <title>Document</title>\n",
    "    <style>\n",
    "        p {\n",
    "            font-size: 22px;\n",
    "            color: #00FF00;\n",
    "            padding-top: 0px;\n",
    "        }\n",
    "    </style>\n",
    "</head>\n",
    "<body>\n",
    "    <p><strong>multi index</strong></p>\n",
    "</body>\n",
    "</html>"
   ]
  },
  {
   "cell_type": "code",
   "execution_count": 1,
   "id": "5314894e",
   "metadata": {},
   "outputs": [],
   "source": [
    "import numpy as np\n",
    "import pandas as pd"
   ]
  },
  {
   "cell_type": "code",
   "execution_count": 2,
   "id": "cdba8d06",
   "metadata": {},
   "outputs": [
    {
     "name": "stdout",
     "output_type": "stream",
     "text": [
      "[('G1', '1'), ('G1', '2'), ('G1', '3'), ('G2', '1'), ('G2', '2'), ('G2', '3')]\n",
      "MultiIndex([('G1', '1'),\n",
      "            ('G1', '2'),\n",
      "            ('G1', '3'),\n",
      "            ('G2', '1'),\n",
      "            ('G2', '2'),\n",
      "            ('G2', '3')],\n",
      "           )\n"
     ]
    }
   ],
   "source": [
    "# index levels\n",
    "outside = 'G1 G1 G1 G2 G2 G2'.split()\n",
    "inside = '1 2 3 1 2 3'.split()\n",
    "tuples = list(zip(outside, inside))\n",
    "print(tuples)\n",
    "hier_index = pd.MultiIndex.from_tuples(tuples)\n",
    "print(hier_index)"
   ]
  },
  {
   "cell_type": "code",
   "execution_count": 3,
   "id": "fe3c6fbd",
   "metadata": {},
   "outputs": [
    {
     "data": {
      "text/html": [
       "<div>\n",
       "<style scoped>\n",
       "    .dataframe tbody tr th:only-of-type {\n",
       "        vertical-align: middle;\n",
       "    }\n",
       "\n",
       "    .dataframe tbody tr th {\n",
       "        vertical-align: top;\n",
       "    }\n",
       "\n",
       "    .dataframe thead th {\n",
       "        text-align: right;\n",
       "    }\n",
       "</style>\n",
       "<table border=\"1\" class=\"dataframe\">\n",
       "  <thead>\n",
       "    <tr style=\"text-align: right;\">\n",
       "      <th></th>\n",
       "      <th></th>\n",
       "      <th>A</th>\n",
       "      <th>B</th>\n",
       "    </tr>\n",
       "  </thead>\n",
       "  <tbody>\n",
       "    <tr>\n",
       "      <th rowspan=\"3\" valign=\"top\">G1</th>\n",
       "      <th>1</th>\n",
       "      <td>1.589231</td>\n",
       "      <td>-0.557992</td>\n",
       "    </tr>\n",
       "    <tr>\n",
       "      <th>2</th>\n",
       "      <td>-0.197041</td>\n",
       "      <td>0.125061</td>\n",
       "    </tr>\n",
       "    <tr>\n",
       "      <th>3</th>\n",
       "      <td>-0.173994</td>\n",
       "      <td>-0.833643</td>\n",
       "    </tr>\n",
       "    <tr>\n",
       "      <th rowspan=\"3\" valign=\"top\">G2</th>\n",
       "      <th>1</th>\n",
       "      <td>0.384117</td>\n",
       "      <td>-0.579967</td>\n",
       "    </tr>\n",
       "    <tr>\n",
       "      <th>2</th>\n",
       "      <td>0.903204</td>\n",
       "      <td>0.788019</td>\n",
       "    </tr>\n",
       "    <tr>\n",
       "      <th>3</th>\n",
       "      <td>0.303749</td>\n",
       "      <td>0.829610</td>\n",
       "    </tr>\n",
       "  </tbody>\n",
       "</table>\n",
       "</div>"
      ],
      "text/plain": [
       "             A         B\n",
       "G1 1  1.589231 -0.557992\n",
       "   2 -0.197041  0.125061\n",
       "   3 -0.173994 -0.833643\n",
       "G2 1  0.384117 -0.579967\n",
       "   2  0.903204  0.788019\n",
       "   3  0.303749  0.829610"
      ]
     },
     "execution_count": 3,
     "metadata": {},
     "output_type": "execute_result"
    }
   ],
   "source": [
    "df = pd.DataFrame(np.random.randn(6,2),hier_index,['A', 'B'])\n",
    "df"
   ]
  },
  {
   "cell_type": "markdown",
   "id": "9d38cafb",
   "metadata": {},
   "source": [
    "<!DOCTYPE html>\n",
    "<html lang=\"en\">\n",
    "<head>\n",
    "    <meta charset=\"UTF-8\">\n",
    "    <meta name=\"viewport\" content=\"width=device-width, initial-scale=1.0\">\n",
    "    <title>Document</title>\n",
    "    <style>\n",
    "        p {\n",
    "            font-size: 22px;\n",
    "            color: #00FF00;\n",
    "            padding-top: 0px;\n",
    "        }\n",
    "    </style>\n",
    "</head>\n",
    "<body>\n",
    "    <p><strong>access of different dataframe data</strong></p>\n",
    "</body>\n",
    "</html>"
   ]
  },
  {
   "cell_type": "code",
   "execution_count": 4,
   "id": "9cc3fbda",
   "metadata": {},
   "outputs": [
    {
     "name": "stdout",
     "output_type": "stream",
     "text": [
      "             A         B\n",
      "G1 1  1.589231 -0.557992\n",
      "   2 -0.197041  0.125061\n",
      "   3 -0.173994 -0.833643\n",
      "G2 1  0.384117 -0.579967\n",
      "   2  0.903204  0.788019\n",
      "   3  0.303749  0.829610\n",
      "          A         B\n",
      "1  1.589231 -0.557992\n",
      "2 -0.197041  0.125061\n",
      "3 -0.173994 -0.833643\n",
      "1    1.589231\n",
      "2   -0.197041\n",
      "3   -0.173994\n",
      "Name: A, dtype: float64\n",
      "1.5892313441041173\n",
      "A    1.589231\n",
      "B   -0.557992\n",
      "Name: 1, dtype: float64\n",
      "A   -0.197041\n",
      "B    0.125061\n",
      "Name: 2, dtype: float64\n"
     ]
    }
   ],
   "source": [
    "print(df)\n",
    "print(df.loc['G1'])\n",
    "print(df.loc['G1']['A'])\n",
    "print(df.loc['G1']['A']['1'])\n",
    "print(df.loc['G1'].loc['1'])\n",
    "print(df.loc['G1'].loc['2'])"
   ]
  },
  {
   "cell_type": "markdown",
   "id": "5722e265",
   "metadata": {},
   "source": [
    "<!DOCTYPE html>\n",
    "<html lang=\"en\">\n",
    "<head>\n",
    "    <meta charset=\"UTF-8\">\n",
    "    <meta name=\"viewport\" content=\"width=device-width, initial-scale=1.0\">\n",
    "    <title>Document</title>\n",
    "    <style>\n",
    "        p {\n",
    "            font-size: 22px;\n",
    "            color: #00FF00;\n",
    "            padding-top: 0px;\n",
    "        }\n",
    "    </style>\n",
    "</head>\n",
    "<body>\n",
    "    <p><strong>access of different dataframe data</strong></p>\n",
    "</body>\n",
    "</html>"
   ]
  },
  {
   "cell_type": "code",
   "execution_count": 5,
   "id": "5fb68e8a",
   "metadata": {},
   "outputs": [
    {
     "name": "stdout",
     "output_type": "stream",
     "text": [
      "             A         B\n",
      "G1 1  1.589231 -0.557992\n",
      "   2 -0.197041  0.125061\n",
      "   3 -0.173994 -0.833643\n",
      "G2 1  0.384117 -0.579967\n",
      "   2  0.903204  0.788019\n",
      "   3  0.303749  0.829610\n",
      "0.7880191802193613\n",
      "-0.5579923910479284\n",
      "A    1.589231\n",
      "B   -0.557992\n",
      "Name: 1, dtype: float64\n",
      "             A         B\n",
      "G1 1  1.589231 -0.557992\n",
      "   2 -0.197041  0.125061\n",
      "   3 -0.173994 -0.833643\n",
      "G2 1  0.384117 -0.579967\n",
      "   2  0.903204  0.788019\n",
      "   3  0.303749  0.829610\n",
      "G1  1    1.589231\n",
      "    2   -0.197041\n",
      "    3   -0.173994\n",
      "G2  1    0.384117\n",
      "    2    0.903204\n",
      "    3    0.303749\n",
      "Name: A, dtype: float64\n",
      "G1  1   -0.557992\n",
      "    2    0.125061\n",
      "    3   -0.833643\n",
      "G2  1   -0.579967\n",
      "    2    0.788019\n",
      "    3    0.829610\n",
      "Name: B, dtype: float64\n"
     ]
    }
   ],
   "source": [
    "print(df)\n",
    "print(df.loc['G2'].loc['2']['B'])\n",
    "print(df.loc['G1'].loc['1']['B'])\n",
    "print(df.loc['G1'].loc['1'])\n",
    "print(df[['A','B']])\n",
    "print(df['A'])\n",
    "print(df['B'])"
   ]
  },
  {
   "cell_type": "markdown",
   "id": "28550b79",
   "metadata": {},
   "source": [
    "<!DOCTYPE html>\n",
    "<html lang=\"en\">\n",
    "<head>\n",
    "    <meta charset=\"UTF-8\">\n",
    "    <meta name=\"viewport\" content=\"width=device-width, initial-scale=1.0\">\n",
    "    <title>Document</title>\n",
    "    <style>\n",
    "        p {\n",
    "            font-size: 22px;\n",
    "            color: #00FF00;\n",
    "            padding-top: 0px;\n",
    "        }\n",
    "    </style>\n",
    "</head>\n",
    "<body>\n",
    "    <p><strong>labeling empty column names</strong></p>\n",
    "</body>\n",
    "</html>"
   ]
  },
  {
   "cell_type": "code",
   "execution_count": 6,
   "id": "ac65ab39",
   "metadata": {},
   "outputs": [
    {
     "name": "stdout",
     "output_type": "stream",
     "text": [
      "             A         B\n",
      "G1 1  1.589231 -0.557992\n",
      "   2 -0.197041  0.125061\n",
      "   3 -0.173994 -0.833643\n",
      "G2 1  0.384117 -0.579967\n",
      "   2  0.903204  0.788019\n",
      "   3  0.303749  0.829610\n"
     ]
    }
   ],
   "source": [
    "print(df)"
   ]
  },
  {
   "cell_type": "code",
   "execution_count": 7,
   "id": "98d25db0",
   "metadata": {},
   "outputs": [
    {
     "name": "stdout",
     "output_type": "stream",
     "text": [
      "[None, None]\n"
     ]
    },
    {
     "data": {
      "text/html": [
       "<div>\n",
       "<style scoped>\n",
       "    .dataframe tbody tr th:only-of-type {\n",
       "        vertical-align: middle;\n",
       "    }\n",
       "\n",
       "    .dataframe tbody tr th {\n",
       "        vertical-align: top;\n",
       "    }\n",
       "\n",
       "    .dataframe thead th {\n",
       "        text-align: right;\n",
       "    }\n",
       "</style>\n",
       "<table border=\"1\" class=\"dataframe\">\n",
       "  <thead>\n",
       "    <tr style=\"text-align: right;\">\n",
       "      <th></th>\n",
       "      <th></th>\n",
       "      <th>A</th>\n",
       "      <th>B</th>\n",
       "    </tr>\n",
       "    <tr>\n",
       "      <th>Group</th>\n",
       "      <th>Num</th>\n",
       "      <th></th>\n",
       "      <th></th>\n",
       "    </tr>\n",
       "  </thead>\n",
       "  <tbody>\n",
       "    <tr>\n",
       "      <th rowspan=\"3\" valign=\"top\">G1</th>\n",
       "      <th>1</th>\n",
       "      <td>1.589231</td>\n",
       "      <td>-0.557992</td>\n",
       "    </tr>\n",
       "    <tr>\n",
       "      <th>2</th>\n",
       "      <td>-0.197041</td>\n",
       "      <td>0.125061</td>\n",
       "    </tr>\n",
       "    <tr>\n",
       "      <th>3</th>\n",
       "      <td>-0.173994</td>\n",
       "      <td>-0.833643</td>\n",
       "    </tr>\n",
       "    <tr>\n",
       "      <th rowspan=\"3\" valign=\"top\">G2</th>\n",
       "      <th>1</th>\n",
       "      <td>0.384117</td>\n",
       "      <td>-0.579967</td>\n",
       "    </tr>\n",
       "    <tr>\n",
       "      <th>2</th>\n",
       "      <td>0.903204</td>\n",
       "      <td>0.788019</td>\n",
       "    </tr>\n",
       "    <tr>\n",
       "      <th>3</th>\n",
       "      <td>0.303749</td>\n",
       "      <td>0.829610</td>\n",
       "    </tr>\n",
       "  </tbody>\n",
       "</table>\n",
       "</div>"
      ],
      "text/plain": [
       "                  A         B\n",
       "Group Num                    \n",
       "G1    1    1.589231 -0.557992\n",
       "      2   -0.197041  0.125061\n",
       "      3   -0.173994 -0.833643\n",
       "G2    1    0.384117 -0.579967\n",
       "      2    0.903204  0.788019\n",
       "      3    0.303749  0.829610"
      ]
     },
     "execution_count": 7,
     "metadata": {},
     "output_type": "execute_result"
    }
   ],
   "source": [
    "\n",
    "print(df.index.names)\n",
    "df.index.names = (['Group', 'Num'])\n",
    "df"
   ]
  },
  {
   "cell_type": "markdown",
   "id": "661be362",
   "metadata": {},
   "source": [
    "<!DOCTYPE html>\n",
    "<html lang=\"en\">\n",
    "<head>\n",
    "    <meta charset=\"UTF-8\">\n",
    "    <meta name=\"viewport\" content=\"width=device-width, initial-scale=1.0\">\n",
    "    <title>Document</title>\n",
    "    <style>\n",
    "        p {\n",
    "            font-size: 22px;\n",
    "            color: #00FF00;\n",
    "            padding-top: 0px;\n",
    "        }\n",
    "    </style>\n",
    "</head>\n",
    "<body>\n",
    "    <p><strong>xs</strong></p>\n",
    "</body>\n",
    "</html>"
   ]
  },
  {
   "cell_type": "code",
   "execution_count": 8,
   "id": "e40c8b60",
   "metadata": {},
   "outputs": [
    {
     "name": "stdout",
     "output_type": "stream",
     "text": [
      "                  A         B\n",
      "Group Num                    \n",
      "G1    1    1.589231 -0.557992\n",
      "      2   -0.197041  0.125061\n",
      "      3   -0.173994 -0.833643\n",
      "G2    1    0.384117 -0.579967\n",
      "      2    0.903204  0.788019\n",
      "      3    0.303749  0.829610\n"
     ]
    }
   ],
   "source": [
    "print(df)"
   ]
  },
  {
   "cell_type": "code",
   "execution_count": 9,
   "id": "f8dcbaee",
   "metadata": {},
   "outputs": [
    {
     "name": "stdout",
     "output_type": "stream",
     "text": [
      "            A         B\n",
      "Num                    \n",
      "1    1.589231 -0.557992\n",
      "2   -0.197041  0.125061\n",
      "3   -0.173994 -0.833643\n",
      "            A         B\n",
      "Num                    \n",
      "1    1.589231 -0.557992\n",
      "2   -0.197041  0.125061\n",
      "3   -0.173994 -0.833643\n",
      "              A         B\n",
      "Group                    \n",
      "G1     1.589231 -0.557992\n",
      "G2     0.384117 -0.579967\n"
     ]
    }
   ],
   "source": [
    "print(df.loc['G1'])\n",
    "print(df.xs('G1'))\n",
    "print(df.xs('1', level='Num'))"
   ]
  },
  {
   "cell_type": "code",
   "execution_count": null,
   "id": "9ab78afa",
   "metadata": {},
   "outputs": [],
   "source": []
  }
 ],
 "metadata": {
  "kernelspec": {
   "display_name": "base",
   "language": "python",
   "name": "python3"
  },
  "language_info": {
   "codemirror_mode": {
    "name": "ipython",
    "version": 3
   },
   "file_extension": ".py",
   "mimetype": "text/x-python",
   "name": "python",
   "nbconvert_exporter": "python",
   "pygments_lexer": "ipython3",
   "version": "3.13.5"
  }
 },
 "nbformat": 4,
 "nbformat_minor": 5
}
