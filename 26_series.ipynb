{
 "cells": [
  {
   "cell_type": "markdown",
   "id": "624acbcc",
   "metadata": {},
   "source": [
    "<!DOCTYPE html>\n",
    "<html lang=\"en\">\n",
    "<head>\n",
    "    <meta charset=\"UTF-8\">\n",
    "    <meta name=\"viewport\" content=\"width=device-width, initial-scale=1.0\">\n",
    "    <title>Document</title>\n",
    "    <style>\n",
    "        h3 {\n",
    "            font-family: monospace;\n",
    "            color: #c55955;\n",
    "            list-style-type: none;\n",
    "            padding-left: 0;\n",
    "        }\n",
    "    </style>\n",
    "</head>\n",
    "<body>\n",
    "    <h3>Series</h3>\n",
    "</body>\n",
    "</html>"
   ]
  },
  {
   "cell_type": "code",
   "execution_count": 1,
   "id": "d4b565c7",
   "metadata": {},
   "outputs": [],
   "source": [
    "import numpy as np\n",
    "import pandas as pd"
   ]
  },
  {
   "cell_type": "code",
   "execution_count": 15,
   "id": "5781a0fd",
   "metadata": {},
   "outputs": [
    {
     "name": "stdout",
     "output_type": "stream",
     "text": [
      "0    10\n",
      "1    20\n",
      "2    30\n",
      "dtype: int64\n",
      "0    10\n",
      "1    20\n",
      "2    30\n",
      "dtype: int64\n",
      "a    10\n",
      "b    20\n",
      "c    30\n",
      "dtype: int64\n",
      "a    10\n",
      "b    20\n",
      "c    30\n",
      "dtype: int64\n",
      "0    10\n",
      "1    20\n",
      "2    30\n",
      "dtype: int64\n",
      "a    10\n",
      "b    20\n",
      "c    30\n",
      "dtype: int64\n",
      "a    10\n",
      "b    20\n",
      "c    30\n",
      "dtype: int64\n",
      "0    a\n",
      "1    b\n",
      "2    c\n",
      "dtype: object\n",
      "a    [10, 20, 30]\n",
      "b    [10, 20, 30]\n",
      "c    [10, 20, 30]\n",
      "dtype: object\n"
     ]
    }
   ],
   "source": [
    "labels = ['a', 'b', 'c']\n",
    "my_data = [10, 20, 30]\n",
    "arr = np.array(my_data)\n",
    "d = {'a': 10, 'b': 20, 'c': 30}\n",
    "d1 = {'a': my_data, 'b': my_data, 'c': my_data}\n",
    "# Creating a Pandas Series\n",
    "print(pd.Series(data=my_data))\n",
    "print(pd.Series(my_data))\n",
    "print(pd.Series(data=my_data, index=labels))\n",
    "print(pd.Series(my_data, labels))\n",
    "print(pd.Series(arr))\n",
    "print(pd.Series(arr, labels))\n",
    "print(pd.Series(d))\n",
    "print(pd.Series(labels))\n",
    "print(pd.Series(d1))"
   ]
  },
  {
   "cell_type": "markdown",
   "id": "498e8791",
   "metadata": {},
   "source": [
    "<!DOCTYPE html>\n",
    "<html lang=\"en\">\n",
    "<head>\n",
    "    <meta charset=\"UTF-8\">\n",
    "    <meta name=\"viewport\" content=\"width=device-width, initial-scale=1.0\">\n",
    "    <title>Document</title>\n",
    "    <style>\n",
    "        h3 {\n",
    "            font-family: monospace;\n",
    "            color: #c55955;\n",
    "            list-style-type: none;\n",
    "            padding-left: 0;\n",
    "        }\n",
    "    </style>\n",
    "</head>\n",
    "<body>\n",
    "    <h3>Series indexing</h3>\n",
    "</body>\n",
    "</html>"
   ]
  },
  {
   "cell_type": "code",
   "execution_count": 11,
   "id": "25821462",
   "metadata": {},
   "outputs": [
    {
     "data": {
      "text/plain": [
       "USA        1\n",
       "Germany    2\n",
       "USSR       3\n",
       "Japan      4\n",
       "dtype: int64"
      ]
     },
     "execution_count": 11,
     "metadata": {},
     "output_type": "execute_result"
    }
   ],
   "source": [
    "ser1 = pd.Series([1, 2, 3, 4], ['USA', 'Germany', 'USSR', 'Japan'])\n",
    "ser1"
   ]
  },
  {
   "cell_type": "code",
   "execution_count": 12,
   "id": "0fcaa11a",
   "metadata": {},
   "outputs": [
    {
     "data": {
      "text/plain": [
       "USA        1\n",
       "Germany    2\n",
       "Italy      5\n",
       "Japan      4\n",
       "dtype: int64"
      ]
     },
     "execution_count": 12,
     "metadata": {},
     "output_type": "execute_result"
    }
   ],
   "source": [
    "\n",
    "ser2 = pd.Series([1, 2, 5, 4], ['USA', 'Germany', 'Italy', 'Japan'])\n",
    "ser2"
   ]
  },
  {
   "cell_type": "code",
   "execution_count": 13,
   "id": "349b23ce",
   "metadata": {},
   "outputs": [
    {
     "data": {
      "text/plain": [
       "np.int64(1)"
      ]
     },
     "execution_count": 13,
     "metadata": {},
     "output_type": "execute_result"
    }
   ],
   "source": [
    "ser1['USA']"
   ]
  },
  {
   "cell_type": "code",
   "execution_count": 16,
   "id": "d79a6e08",
   "metadata": {},
   "outputs": [
    {
     "data": {
      "text/plain": [
       "0    a\n",
       "1    b\n",
       "2    c\n",
       "dtype: object"
      ]
     },
     "execution_count": 16,
     "metadata": {},
     "output_type": "execute_result"
    }
   ],
   "source": [
    "ser3 = pd.Series(labels)\n",
    "ser3"
   ]
  },
  {
   "cell_type": "code",
   "execution_count": 19,
   "id": "3e57d10d",
   "metadata": {},
   "outputs": [
    {
     "name": "stdout",
     "output_type": "stream",
     "text": [
      "USA        1\n",
      "Germany    2\n",
      "USSR       3\n",
      "Japan      4\n",
      "dtype: int64\n",
      "USA        1\n",
      "Germany    2\n",
      "Italy      5\n",
      "Japan      4\n",
      "dtype: int64\n",
      "Germany    4.0\n",
      "Italy      NaN\n",
      "Japan      8.0\n",
      "USA        2.0\n",
      "USSR       NaN\n",
      "dtype: float64\n",
      "Germany     4.0\n",
      "Italy       NaN\n",
      "Japan      16.0\n",
      "USA         1.0\n",
      "USSR        NaN\n",
      "dtype: float64\n",
      "Germany    1.0\n",
      "Italy      NaN\n",
      "Japan      1.0\n",
      "USA        1.0\n",
      "USSR       NaN\n",
      "dtype: float64\n"
     ]
    }
   ],
   "source": [
    "print(ser1)\n",
    "print(ser2)\n",
    "print(ser1 + ser2)\n",
    "print(ser1 * ser2)\n",
    "print(ser1 / ser2)\n"
   ]
  },
  {
   "cell_type": "code",
   "execution_count": null,
   "id": "3ca51dbb",
   "metadata": {},
   "outputs": [],
   "source": []
  }
 ],
 "metadata": {
  "kernelspec": {
   "display_name": "base",
   "language": "python",
   "name": "python3"
  },
  "language_info": {
   "codemirror_mode": {
    "name": "ipython",
    "version": 3
   },
   "file_extension": ".py",
   "mimetype": "text/x-python",
   "name": "python",
   "nbconvert_exporter": "python",
   "pygments_lexer": "ipython3",
   "version": "3.13.5"
  }
 },
 "nbformat": 4,
 "nbformat_minor": 5
}
